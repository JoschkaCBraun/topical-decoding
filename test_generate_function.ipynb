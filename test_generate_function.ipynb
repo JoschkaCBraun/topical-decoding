{
 "cells": [
  {
   "cell_type": "markdown",
   "metadata": {},
   "source": [
    "# Testing the generate function"
   ]
  },
  {
   "cell_type": "markdown",
   "metadata": {},
   "source": [
    "## Import libraries"
   ]
  },
  {
   "cell_type": "code",
   "execution_count": 64,
   "metadata": {},
   "outputs": [],
   "source": [
    "import torch\n",
    "import transformers\n",
    "import gensim\n",
    "from gensim import corpora"
   ]
  },
  {
   "cell_type": "markdown",
   "metadata": {},
   "source": [
    "## Import the model and tokenizer"
   ]
  },
  {
   "cell_type": "code",
   "execution_count": 65,
   "metadata": {},
   "outputs": [
    {
     "name": "stderr",
     "output_type": "stream",
     "text": [
      "Special tokens have been added in the vocabulary, make sure the associated word embeddings are fine-tuned or trained.\n"
     ]
    }
   ],
   "source": [
    "from transformers import T5Tokenizer, T5ForConditionalGeneration\n",
    "\n",
    "T5_base_tokenizer = T5Tokenizer.from_pretrained(\"google/flan-t5-base\")\n",
    "T5_base_model = T5ForConditionalGeneration.from_pretrained(\"google/flan-t5-base\")"
   ]
  },
  {
   "cell_type": "markdown",
   "metadata": {},
   "source": [
    "## Import the NEWTS dataset"
   ]
  },
  {
   "cell_type": "code",
   "execution_count": 66,
   "metadata": {},
   "outputs": [],
   "source": [
    "from NEWTS import read\n",
    "\n",
    "# Load the NEWTS training set\n",
    "newts_train = read.read_train()\n",
    "newts_test = read.read_test()"
   ]
  },
  {
   "cell_type": "code",
   "execution_count": 67,
   "metadata": {},
   "outputs": [
    {
     "data": {
      "text/html": [
       "<div>\n",
       "<style scoped>\n",
       "    .dataframe tbody tr th:only-of-type {\n",
       "        vertical-align: middle;\n",
       "    }\n",
       "\n",
       "    .dataframe tbody tr th {\n",
       "        vertical-align: top;\n",
       "    }\n",
       "\n",
       "    .dataframe thead th {\n",
       "        text-align: right;\n",
       "    }\n",
       "</style>\n",
       "<table border=\"1\" class=\"dataframe\">\n",
       "  <thead>\n",
       "    <tr style=\"text-align: right;\">\n",
       "      <th></th>\n",
       "      <th>AssignmentId</th>\n",
       "      <th>docId</th>\n",
       "      <th>article</th>\n",
       "      <th>tid1</th>\n",
       "      <th>tid2</th>\n",
       "      <th>words1</th>\n",
       "      <th>words2</th>\n",
       "      <th>phrases1</th>\n",
       "      <th>phrases2</th>\n",
       "      <th>sentences1</th>\n",
       "      <th>sentences2</th>\n",
       "      <th>summary1</th>\n",
       "      <th>summary2</th>\n",
       "    </tr>\n",
       "  </thead>\n",
       "  <tbody>\n",
       "    <tr>\n",
       "      <th>0</th>\n",
       "      <td>3EG49X351WE8VLP4S0TIYZF3V476X2</td>\n",
       "      <td>094372190d52acbce61a73ec16b2217d1a60276f</td>\n",
       "      <td>The president of the World Bank on Saturday wa...</td>\n",
       "      <td>175</td>\n",
       "      <td>110</td>\n",
       "      <td>house, committee, congress, senate, republican...</td>\n",
       "      <td>billion, figures, economy, global, growth, eco...</td>\n",
       "      <td>senate and congress, congressional pressure, y...</td>\n",
       "      <td>economic growth, global growth, billion dollar...</td>\n",
       "      <td>This topic is about the senate and congress, c...</td>\n",
       "      <td>This topic is about economic growth involving ...</td>\n",
       "      <td>The leader of the World Bank urged the US to t...</td>\n",
       "      <td>The US economy will be a driving factor in the...</td>\n",
       "    </tr>\n",
       "    <tr>\n",
       "      <th>1</th>\n",
       "      <td>3DOCMVPBTPGBQCHSPBSQ28AROFXNNI</td>\n",
       "      <td>bc733fb96fd73496e10fcff3c640ee11c4df3d7a</td>\n",
       "      <td>By . Nick Harris . Manchester City are the bes...</td>\n",
       "      <td>152</td>\n",
       "      <td>217</td>\n",
       "      <td>united, manchester, liverpool, chelsea, league...</td>\n",
       "      <td>club, team, season, players, england, football...</td>\n",
       "      <td>Manchester United's manager, Premier League, t...</td>\n",
       "      <td>football league, the team's fans, football pla...</td>\n",
       "      <td>This topic is about Manchester United's manage...</td>\n",
       "      <td>This topic is about a football league having a...</td>\n",
       "      <td>Premier league is the most paying football lea...</td>\n",
       "      <td>Manchester city players earn the largest amoun...</td>\n",
       "    </tr>\n",
       "  </tbody>\n",
       "</table>\n",
       "</div>"
      ],
      "text/plain": [
       "                     AssignmentId                                     docId  \\\n",
       "0  3EG49X351WE8VLP4S0TIYZF3V476X2  094372190d52acbce61a73ec16b2217d1a60276f   \n",
       "1  3DOCMVPBTPGBQCHSPBSQ28AROFXNNI  bc733fb96fd73496e10fcff3c640ee11c4df3d7a   \n",
       "\n",
       "                                             article  tid1  tid2  \\\n",
       "0  The president of the World Bank on Saturday wa...   175   110   \n",
       "1  By . Nick Harris . Manchester City are the bes...   152   217   \n",
       "\n",
       "                                              words1  \\\n",
       "0  house, committee, congress, senate, republican...   \n",
       "1  united, manchester, liverpool, chelsea, league...   \n",
       "\n",
       "                                              words2  \\\n",
       "0  billion, figures, economy, global, growth, eco...   \n",
       "1  club, team, season, players, england, football...   \n",
       "\n",
       "                                            phrases1  \\\n",
       "0  senate and congress, congressional pressure, y...   \n",
       "1  Manchester United's manager, Premier League, t...   \n",
       "\n",
       "                                            phrases2  \\\n",
       "0  economic growth, global growth, billion dollar...   \n",
       "1  football league, the team's fans, football pla...   \n",
       "\n",
       "                                          sentences1  \\\n",
       "0  This topic is about the senate and congress, c...   \n",
       "1  This topic is about Manchester United's manage...   \n",
       "\n",
       "                                          sentences2  \\\n",
       "0  This topic is about economic growth involving ...   \n",
       "1  This topic is about a football league having a...   \n",
       "\n",
       "                                            summary1  \\\n",
       "0  The leader of the World Bank urged the US to t...   \n",
       "1  Premier league is the most paying football lea...   \n",
       "\n",
       "                                            summary2  \n",
       "0  The US economy will be a driving factor in the...  \n",
       "1  Manchester city players earn the largest amoun...  "
      ]
     },
     "execution_count": 67,
     "metadata": {},
     "output_type": "execute_result"
    }
   ],
   "source": [
    "newts_train.head(2)"
   ]
  },
  {
   "cell_type": "code",
   "execution_count": 68,
   "metadata": {},
   "outputs": [
    {
     "name": "stdout",
     "output_type": "stream",
     "text": [
      "(2400, 13)\n"
     ]
    }
   ],
   "source": [
    "\n",
    "print(newts_train.shape)"
   ]
  },
  {
   "cell_type": "code",
   "execution_count": 69,
   "metadata": {},
   "outputs": [
    {
     "name": "stdout",
     "output_type": "stream",
     "text": [
      "A charge of making a false bomb threat has been dropped against a man who carried a backpack containing a rice cooker near a crowd marking the first anniversary of the Boston Marathon bombings in April, prosecutors said Wednesday. Investigators dropped the charge because they say the suspect, Kevin Edson, 25, did not communicate an \"overt threat that an incendiary device would be detonated,\" Jake Wark, a spokesman for the Suffolk County district attorney, told CNN. Edson was arrested after carrying the backpack with a rice cooker near the finish line on Boylston Street in Boston while survivors of the 2013 bombing were commemorating its anniversary on April 15. In the 2013 attack, two pressure-cooker bombs exploded, killing three people and wounding at least 264 others. A barefoot Edson, carrying a backpack and wearing black clothes with a veil and hat covering his face, screamed and yelled near the end of the anniversary event on Boylston Street, drawing officers' attention, police said. Wark said prosecutors decided to drop the charge after reviewing statements Edson made at the scene as well as video shot by onlookers. Edson still faces charges of disturbing the peace, disorderly conduct, disturbing a public assembly and possession or use of a hoax device. His next court date is scheduled for August 27. The charge of making a false bomb threat carried the most severe sentence upon conviction -- up to 20 years in prison. Possession or use of a hoax device carries a maximum sentence of five years, Wark said. A judge in April set bail at $100,000 for Edson. The judge also ordered Edson, also known as Kayvon Edson, to be seen at a state hospital that evaluates defendants' sanity after a mental health professional told the judge that Edson has a history of psychiatric disturbances. Defense attorney Shannon Lopez did not immediately return calls seeking comment. How can you keep 26.2 miles safe?\n"
     ]
    }
   ],
   "source": [
    "# Select an example article by its index.\n",
    "example_article = newts_train.iloc[23]\n",
    "\n",
    "# Print the article\n",
    "print(example_article['article'])"
   ]
  },
  {
   "cell_type": "markdown",
   "metadata": {},
   "source": [
    "## Generate a summary for articles in the NEWTS training set"
   ]
  },
  {
   "cell_type": "code",
   "execution_count": 70,
   "metadata": {},
   "outputs": [
    {
     "name": "stderr",
     "output_type": "stream",
     "text": [
      "Token indices sequence length is longer than the specified maximum sequence length for this model (829 > 512). Running this sequence through the model will result in indexing errors\n"
     ]
    }
   ],
   "source": [
    "task_prefix = \"summarize: \"\n",
    "# flan_prompt_prefix = \"Briefly summarize this paragraph: \"\n",
    "\n",
    "min_idx = 0\n",
    "max_idx = 3\n",
    "sentences = newts_test['article'][min_idx:max_idx].tolist()\n",
    "inputs = T5_base_tokenizer([task_prefix + sentence for sentence in sentences], return_tensors=\"pt\", padding=True)"
   ]
  },
  {
   "cell_type": "markdown",
   "metadata": {},
   "source": [
    "## Normal setup using generate function from transformers library"
   ]
  },
  {
   "cell_type": "code",
   "execution_count": 71,
   "metadata": {},
   "outputs": [],
   "source": [
    "output_sequences = T5_base_model.generate(\n",
    "    input_ids=inputs[\"input_ids\"],\n",
    "    attention_mask=inputs[\"attention_mask\"],\n",
    "    do_sample=False,  # disable sampling to test if batching affects output\n",
    "    max_length=100,\n",
    "    min_length=30,\n",
    "    # early_stopping=False,\n",
    "    num_beams=1,\n",
    "    # no_repeat_ngram_size=3,\n",
    "    num_return_sequences=1,\n",
    "    # top_k=0,\n",
    "    # bos_token_id=model.config.bos_token_id,\n",
    "    # eos_token_id=model.config.eos_token_id,\n",
    "    # length_penalty=2.0,\n",
    ")"
   ]
  },
  {
   "cell_type": "code",
   "execution_count": 72,
   "metadata": {},
   "outputs": [
    {
     "name": "stdout",
     "output_type": "stream",
     "text": [
      "Output:\n",
      "----------------------------------------------------------------------------------------------------\n",
      "Input: An American tourist has spent the night stranded in the Blue Mountains, west of Sydney, after she fell 15 metres off a cliff while bushwalking. The 25-year-old from the US state of Wisconsin was walking near Pulpit Rock, Mount Victoria with a group of friends on Friday when she slipped from a track. She fell about 15 metres and rolled a further 20 metres down a steep slope, police say. Rescue teams escort a 25-year-old US tourist after she spent the night stranded in the Blue Mountains after falling 15 metres off a cliff . Rescue crews found the woman suffering a possible broken ankle and broken ribs. She remained with an ambulance team overnight due to low light and foggy weather conditions. Blue Mountains Police Rescue Sergeant Dallas Atkinson told ABC a helicopter was deployed to finish the rescue this morning. 'After she fell yesterday she was accessed a short time later by police and ambulance,' Sergeant Atkinson said. 'It was determined that she had sustained leg and chest injuries and a rescue plan was put in place where the patient was going to be carried out. Rescue crews found the Wisconsin woman had suffered a possible broken ankle and broken ribs . Rescue teams had to wait for the heavy fog to lift so they could winch the woman out via a helicopter . 'But due to the terrain in the prevailing weather that plan was aborted.' Rescue teams had to wait for the fog to lift so they could winch the woman out via a helicopter.\n",
      "Generated summary 1: The 25-year-old from Wisconsin was walking near Pulpit Rock, Mount Victoria with a group of friends on Friday. She fell about 15 metres and rolled a further 20 metres down a steep slope, police say. She remained with an ambulance team overnight due to low light and foggy weather conditions.\n",
      "----------------------------------------------------------------------------------------------------\n",
      "Input: A 41-year-old British man has been charged after he allegedly relieved himself in an ice machine at an Orlando hotel. Andrew Stewart Wood, of Havant, Hampshire, was accused of urinating into the ice machine at the Hard Rock Hotel in the Universal theme park resort in the early hours of Tuesday. A guest reportedly told a security guard at the luxury hotel that there was a very intoxicated man on the premises. Andrew Wood, 41, from the UK, was arrested at Orlando's Hard Rock Hotel after being caught urinating in an ice machine while intoxicated . The guard located Wood and saw him urinating into an ice machine. When he tried to stop him, Wood became belligerent, began shouting and would not cooperate. According to the police report, the security guard tried to have the guest identify himself and tell him what room he was staying in but he continued disturbing the peace and quiet of other guests. The security guard then called the police. Police removed Wood from the premises after he refused to stay in his room. Officers said that Wood was extremely intoxicated 'with the odor of alcohol emanating from his person and having random outbursts'. He was arrested on disorderly conduct charges and placed in jail where he continued to act out. Wood posted $1,000 bond and was released from Orange County Jail on Tuesday afternoon, according to a booking report. In a statement to Daily Mail Online, Hard Rock Hotel at Universal Orlando said: 'The health and safety of our guests is our top priority and we have removed the ice machine from service.' The hotel was unable to confirm if Wood was still a guest, adding: 'For security reasons, we are unable to provide guest information.' A standard room at the hotel costs around $294 per night. The luxury Hard Rock hotel in Florida is attached to the Universal Studios theme park - a standard room starts at around $300 a night .\n",
      "Generated summary 2: Andrew Wood, 41, from Hampshire, urinated in ice machine at Hard Rock Hotel. A guest told a security guard that there was a very intoxicated man on the premises. Wood was arrested on disorderly conduct charges and placed in jail.\n",
      "----------------------------------------------------------------------------------------------------\n",
      "Input: Tehran, Iran (CNN)The Basij is a militia made up of fighters loyal to Iran's religious leaders; their mission is to protect the country's Islamic order. To do that, they will go to any lengths necessary, including -- they say -- taking on ISIS. \"We all are prepared to go and destroy ISIS totally,\" one Basij commander told CNN. \"If our Imam, our Supreme Leader orders us, we will destroy ISIS.\" The commander says that, so far, the Basij has not been caught up in the fight against the feared Islamic extremists currently waging war in parts of Iraq and Syria. But Iran's elite Revolutionary Guard's Quds Force, led by General Qassem Suleimani, is already training, advising and supporting Iraqi Shia militias in their fight against ISIS. Suleimani was accused of involvement in the Shia insurgency against U.S. forces during the Iraq war. Today he is a celebrity to many Iraqis and Iranians. That is symbolic of the gulf that still exists between Iran and the U.S., regardless of any thaw in relations in the wake of the recent agreement on a framework nuclear deal and ongoing talks. Iran, militias' involvement in ISIS fight a mixed blessing . Iranian officials, who believe their strategy is making a difference in the fight against ISIS, say they would like better cooperation with the U.S., but point out that the level of trust simply isn't there. \"At the moment, we consider the United States to be a threat to us because its policies and actions are threatening to us,\" said General Ahmad Reza Pourdastan, commander of Iran's ground forces. \"We would like the US to change its rhetoric and tone of voice so that our nation could have more trust in U.S. military leadership.\" And the feeling is mutual: the U.S., which is leading the air campaign against ISIS in Iraq, has denied any direct coordination with Iran. Iran will do what it takes to fight ISIS . Iranians believe air strikes against ISIS are not effective, and feel that the U.S. and its allies are not trying seriously enough to defeat the group. Iran's President Hassan Rouhani told CNN's Christiane Amanpour last September that \"the aerial bombardment campaign is mostly ... a form of theater, rather than a serious battle against terrorism.\" \"The battle in Iraq is very important to Iran,\" explained Mohammed Marandi, a professor at Tehran University. \"The Iranians believe that the Americans, if they wanted to, could do a lot more to put pressure on their allies. And also, if they were serious about air strikes, they could do a lot more.\" It's a point the U.S., of course, disagrees with -- U.S. President Barack Obama has vowed to \"degrade and ultimately defeat\" the terror group. But Iran remains unconvinced. \"If they want to destroy ISIS, it is possible for them to achieve that,\" said Major-General Hassan Firouzabadi, Iran's chief of general staff. \"The U.S. military and intelligence organizations have many ways to strike at ISIS, but we have not seen anything so far except intelligence gathering from the U.S. and Britain,\" he said. \"We hope that one day, because of their national interests and the will of their nations, the U.S. and the UK will decide to really fight ISIS.\" In ISIS, Iran and the U.S. share a common enemy, but -- for now at least -- no apparent common strategy.Will Iran-Saudi proxy war erupt?\n",
      "Generated summary 3: Iran and the U.S. share a common enemy, but for now at least -- no apparent common strategy. Iran and the U.S. share a common enemy, but for now at least -- no apparent common strategy.\n",
      "----------------------------------------------------------------------------------------------------\n",
      "Input: She was the most hated woman in Britain, loathed for her role in the break-up of the Prince and Princess of Wales' marriage and vilified for everything from her dress sense to her looks. But 10 years on from the sunny April day that saw Camilla Parker-Bowles become the Duchess of Cornwall, things are looking very different for the 67-year-old royal. Indeed, so popular has Camilla become, a recent poll revealed that not only is the Duchess loved by 50 per cent of Britons, 56 per cent credit her with Charles' own increasing popularity. Scroll down for video . Relaxed: The Prince of Wales has cut an increasingly relaxed figure since marrying Camilla . Still in love: An intimate photo released today to mark their 10th wedding anniversary . More to the point, she has also become a much-loved member of the Royal Family, adored by her step-sons William and Harry and noticeably close to her mother-in-law, the Queen. That her relationship with the rest of the Firm is so good is due, in no small part, to her 'charm and charisma', both of which got an appreciative mention from her husband during a recent interview with CNN. The natural warmth she displays during public appearances has helped cement her place in the Royal Family, with courtiers impressed by her knack of creating an instant rapport with members of the public. Most recently, she pulled off a tour of the US with aplomb, charming locals with her approachability and winning admiring headlines at home. Her relaxed approach to life was in evidence once again during last month's Cheltenham Festival where, accosted by ex-glamour model Katie Price in the paddock, she posed obligingly for a selfie. A few minutes later, she was seen engrossed in conversation with author Jilly Cooper, who memorably based the caddish Rupert Campbell-Black, the star of the much-loved Rutshire Chronicles, on Camilla's ex-husband Andrew Parker-Bowles. Sharing a joke: Camilla and Prince William share a joke at the opening ceremony of the Invictus Games . Natural warmth: Camilla's success is due to her charm - on display here during last month's Cheltenham . Involved: Camilla's granddaughter Eliza Lopes was a bridesmaid at the 2011 Royal Wedding . 'She is warm, smiley and sincere,' reveals one Royal insider. 'If you were going to use five words to describe her, they would be funny, down-to-earth, opinionated, family-orientated and hearty.' But Camilla's new-found confidence is hard-won. A salt-of-the-earth countrywoman who, given the opportunity, would happily go make-up free and avoid set-piece events, taking on the very public life of a senior royal hasn't been easy. That she has managed it, apparently without breaking a sweat, hasn't gone unnoticed - not least by Prince Charles himself. 'You can imagine it is a real, real challenge,' said the prince in the same CNN interview, adding: 'But she's, I think, been brilliant in the way she's tackled these things . insiders say the transformation is less about careful PR work and more about Camilla herself - in particular, the way she has thrown herself into championing the charities closest to her heart. One of the first to benefit was the National Osteoporosis Society, with whom the Duchess has been involved for more than 19 years. 'Throughout our association with the Duchess, she has been unwavering in her support,' says Chief Executive Claire Severgnini. 'She is personable, knowledgeable and compassionate.' All smiles: The Duchess of Cornwall enjoys a chat with the Duchess of Cambridge during the 2012 Jubilee . All together: The Duchess of Cornwall in the family photo released after Prince George's christening . Close: The Duchess of Cornwall now enjoys a close relationship with the Queen . Approval: A clear sign of approval is the regularity with which the Duchess appears alongside the Queen . Shared interests: Both Camilla and the Queen share a passion for all things equestrian . Her interest in osteoporosis comes as no surprise to those who know the Duchess. In 1994, aged 47, she was forced to watch as her 'beloved Mama' Rosalind Shand died, slowly and in agony, as a result of the disease. Indeed, the Camilla's association with the charity pre-dates her marriage, with the Duchess first getting involved while still Mrs Parker-Bowles. Asked to join forces with the charity while at the height of her infamy, biographer Penny Junor writes that she was initially reluctant, fearing she might do more harm than good, before agreeing to get involved. Although her first attempt at fundraising was curtailed by Princess Diana's tragic death, she never stopped supporting the organisation and still gets involved in events. She has also made a name for herself as a champion of women's rights, becoming deeply involved in the UK's rape crisis centres and making a visit to a local women's refuge part of every international tour. While visiting Colombian capital Bogota last November, she cut a sympathetic figure as she chatted to rape victims over a cup of tea at the Memory, Peace and Reconciliation Center. Having a laugh: Camilla, Harry and Kate share a joke on the balcony of Buckingham Palace in June 2013 . Friendly: The Duchess of Cornwall enjoys a friendly relationship with the Duchess of Cambridge . All smiles: The pair were frequently spotted together during the London 2012 Olympic Games . In Washington last month, the Duchess left Prince Charles to his own devices for a couple of hours while she met detectives working for the District of Colombia's Sexual Assault Response Team. Camilla's increasing confidence has also shown itself in the ensembles she wears, with the frumpy get-ups of old swapped for elegant tailored dresses designed to flatter her still-trim waist. Like the Duchess of Cambridge, she's never far from a delicate cream dress and accessorises nearly everything she wears with one of her trademark five-strand pearl chokers. In the country, she likes tailored tweed suits by Roy Allen, one of her favourite couturiers, cosy coats by Swiss label Moncler and flattering hats by London-based milliner, Lock & Co. But as the Duchess of Cornwall prepares to celebrate her 10th wedding anniversary, it is the sea-change in her family life as much as her public image that ought to leave her smiling. Mirror image: The two also share a similar sense of style - including a penchant for nude pumps . Cheers! Meanwhile Camilla's relationship with Prince Charles has gone from strength to strength . Charm: The Prince spoke glowingly of his wife's 'charm and charisma' in an interview last month . Not only is she close to the Queen, who was once reported as wishing she 'would just go away', Camilla is also adored by Diana's sons William and Harry - as photos of the trio laughing together at the opening ceremony of September's Invictus Games made only too clear. 'Having initially loathed her, the Queen gets on well with Camilla now,' adds the insider. 'She isn't as close to the Queen as Sophie [Countess of Wessex] is but that is partly because the Queen's relationship with Charles is a bit complicated anyway.' What certainly isn't complicated is Camilla's relationship with Charles. Despite such quirks as maintaining separate country homes, after 10 years, the royal couple are closer - and happier - than ever. Born Camilla Rosemary Shand on the 17th July 1947, the Duchess of Cornwall's 67 years have undoubtedly been interesting ones. The daughter of Major Bruce Middleton Hope Shand and his wife Rosalind, the Duchess was born in London but spent much of her childhood in Sussex along with her siblings, Annabel and Mark. According to her biographer Giles Brandreth, her upbringing, although not royal, was certainly a grand one. 'Camilla is often described as having had an \"Enid Blyton sort of Childhood\",' he writes. 'In fact, it was much grander than that. 'The Shands had position and they had help ‚ help in the house, help in the garden, help with children. 'They were gentry. They opened their garden for the local Conservative Party Association summer fte. Enough said.' After a stint at a Swiss finishing school, Camilla burst onto the London social scene as a debutante on the 25th March 1965. But it wasn't all fun, with the future Duchess of Cornwall working as a secretary for a succession of London firms to pay for her Belgravia flat, which she shared with Lady Moyra Campbell. In the late 1960s, Camilla met the man who was to become her first husband, cavalry officer Andrew Parker-Bowles, with the couple dating off and on for several years - with Mr Parker-Bowles striking up a relationship with Princess Anne at one point. Camilla, meanwhile, had struck up a relationship with Prince Charles, who was first introduced to her sometime in 1971. When the couple split following an overseas posting for Charles in 1973, Camilla reconciled with Parker-Bowles and the couple announced their engagement and married the same year. Two children followed. Tom in 1974 and Laura in 1978. But it was her continuing relationship with Prince Charles that would come to define her, with the former couple remaining close friends even after both had married other people. In 1992, claims that the two had remained an item throughout both marriages emerged when Diana: Her True Story was published, followed, a year later by the 'Camillagate' scandal. By 1995, both marriages had come to an end and Charles and Camilla were unofficially back together, with the future Duchess often seen attending events with the prince. Royal acceptance soon followed with the Queen making Camilla part of the Golden Jubilee celebrations in 2002. A year later, the Duchess moved into Clarence House and on the 10th February 2005, Charles and Camilla's engagement was announced. The couple married just under two months later in Windsor, with Camilla taking the title of the Duchess of Cornwall.\n",
      "Generated summary 4: Camilla Parker-Bowles became the Duchess of Cornwall in April. She is now a much-loved member of the Royal Family. She has also become a much-loved member of the Royal Family. She has also become a much-loved member of the Royal Family.\n",
      "----------------------------------------------------------------------------------------------------\n",
      "Input: Fruit juices made from so-called superfoods such as cranberries and pomegranates often have more sugar than a can of cola, officials have warned. While the drinks are said to have health benefits, some brands contain more than a day's recommended intake of sugar in a single 300ml serving. The Local Government Association, which represents councils that are responsible for public health, accused soft drink firms of 'dragging their heels' when it comes to minimising sugar in their products. Ocean Spray Cranberry Classic juice drink (pictured left) was found to have 11g of sugar per 100ml, which is more than the amount in a can of Coca-Cola (right) It said children under the age of ten get almost a fifth of their sugar intake from soft drinks. In a survey, the organisation found that some cans of fizzy drinks contain almost twice the recommended daily sugar limit for adults. Even some fruit juices contain more than a single day's limit in a single serving ‚ surpassing a can of Coca-Cola. Ocean Spray Cranberry Classic juice drink was found to have 11g of sugar per 100ml, while PomeGreat 'Super Juice' had 12.1g. Both exceed the 10.6g per 100ml in a can of Coca-Cola ‚ but do not come close to the 15.1g per 100ml in Old Jamaica Ginger Beer. A 300ml serving of any of the four drinks would breach the 25g daily sugar limit recommended by the World Health Organisation. Juice businesses insisted the study is misleading because it does not differentiate between unhealthy added sugar ‚ such as monosaccharides and disaccharides in fizzy drinks ‚ and natural sugar found in fruit. Cranberry juice is frequently promoted as a health product which is said to ward off urinary tract infections. And pomegranate juice has been linked to resistance to prostate cancer and heart disease. The LGA is calling for a fifth of the VAT raised on sugary drinks, sweets and takeaway food to go to councils to pay for public health schemes. Councillor Izzi Seccombe, Tory leader of Warwickshire county council and chairman of the LGA's Community Wellbeing Board, said: 'It is wholly unacceptable for one normal-sized can of soft drink to contain double the recommended daily limit. 'Products like these are fuelling the obesity crisis and helping wean a generation of overweight children. 'We are calling on the sector as a whole to step up and show more corporate responsibility.' A spokesman for Ocean Spray said cranberries are naturally low in sugar, so sweetening is required. Vitamin Water is promoted for its health benefits, but drinks contain four teaspoons of sugar per 330ml . She added: 'We offer consumers a range of reduced sugar options including our Cranberry Classic Light product . 'We've made and continue to maintain a firm commitment to low-sugar innovation, and through product formulation, price promotion and portion sizes we seek to offer the best choice in flavours, calories and formats.' Adam Pritchard, chief executive of PomeGreat, accused the LGA of distributing misleading research. He said his product does not include refined sugar, which the WHO says is more harmful than naturally occurring fruit sugars. PomeGreat instead includes pinitol, a natural compound which stops blood sugar levels rapidly rising. Mr Pritchard said: 'To lump us in with big fizzy drinks companies is just misleading. 'We are a small company competing with huge multinational businesses which are just chucking sugar into drinks because it is cheap. 'We use a much more healthy natural sweetener which costs 2.5 as much as refined sugar. It is not the same thing.'\n",
      "Generated summary 5: Fruit juices contain more than a day's recommended intake of sugar in a single 300ml serving. Juice firms claim study is misleading because it does not distinguish between unhealthy added sugar and natural sugar found in fruit.\n",
      "----------------------------------------------------------------------------------------------------\n"
     ]
    }
   ],
   "source": [
    "print(\"Output:\\n\" + 100 * '-')\n",
    "for idx, output_sequence in enumerate(output_sequences):\n",
    "    output = T5_base_tokenizer.decode(output_sequence, skip_special_tokens=True)\n",
    "    print(\"Input: {}\".format(sentences[idx]))\n",
    "    print(\"Generated summary {}: {}\".format(idx + 1, output))\n",
    "    print(100 * '-')"
   ]
  },
  {
   "cell_type": "markdown",
   "metadata": {},
   "source": [
    "## Seperate generate function via Subclassing and Overriding"
   ]
  },
  {
   "cell_type": "code",
   "execution_count": 73,
   "metadata": {},
   "outputs": [],
   "source": [
    "class CustomT5Model(T5ForConditionalGeneration):\n",
    "    def __init__(self, *args, **kwargs):\n",
    "        super().__init__(*args, **kwargs)\n",
    "        # Initialize additional attributes if necessary\n",
    "\n",
    "    def generate(self, input_ids, attention_mask=None, **kwargs):\n",
    "        # Dummy implementation: Call the original generate method\n",
    "        output_sequences = super().generate(\n",
    "            input_ids=input_ids,\n",
    "            attention_mask=attention_mask,\n",
    "            **kwargs\n",
    "        )\n",
    "\n",
    "        # Dummy token reweighting (multiplying by 1, which does nothing)\n",
    "        # This is where you'd integrate the LDA model logic in the future\n",
    "\n",
    "        return output_sequences\n"
   ]
  },
  {
   "cell_type": "code",
   "execution_count": 74,
   "metadata": {},
   "outputs": [],
   "source": [
    "# Example Usage\n",
    "custom_model = CustomT5Model.from_pretrained(\"google/flan-t5-base\")\n",
    "\n",
    "# Assuming 'inputs' is a dictionary with 'input_ids' and 'attention_mask'\n",
    "output_sequences = custom_model.generate(\n",
    "    input_ids=inputs[\"input_ids\"],\n",
    "    attention_mask=inputs[\"attention_mask\"],\n",
    "    max_length=100,\n",
    "    min_length=30,\n",
    "    num_beams=1,\n",
    "    num_return_sequences=1,\n",
    ")"
   ]
  },
  {
   "cell_type": "code",
   "execution_count": 75,
   "metadata": {},
   "outputs": [
    {
     "name": "stdout",
     "output_type": "stream",
     "text": [
      "Output from custom model:\n",
      "----------------------------------------------------------------------------------------------------\n",
      "Input: An American tourist has spent the night stranded in the Blue Mountains, west of Sydney, after she fell 15 metres off a cliff while bushwalking. The 25-year-old from the US state of Wisconsin was walking near Pulpit Rock, Mount Victoria with a group of friends on Friday when she slipped from a track. She fell about 15 metres and rolled a further 20 metres down a steep slope, police say. Rescue teams escort a 25-year-old US tourist after she spent the night stranded in the Blue Mountains after falling 15 metres off a cliff . Rescue crews found the woman suffering a possible broken ankle and broken ribs. She remained with an ambulance team overnight due to low light and foggy weather conditions. Blue Mountains Police Rescue Sergeant Dallas Atkinson told ABC a helicopter was deployed to finish the rescue this morning. 'After she fell yesterday she was accessed a short time later by police and ambulance,' Sergeant Atkinson said. 'It was determined that she had sustained leg and chest injuries and a rescue plan was put in place where the patient was going to be carried out. Rescue crews found the Wisconsin woman had suffered a possible broken ankle and broken ribs . Rescue teams had to wait for the heavy fog to lift so they could winch the woman out via a helicopter . 'But due to the terrain in the prevailing weather that plan was aborted.' Rescue teams had to wait for the fog to lift so they could winch the woman out via a helicopter.\n",
      "Generated summary 1: The 25-year-old from Wisconsin was walking near Pulpit Rock, Mount Victoria with a group of friends on Friday. She fell about 15 metres and rolled a further 20 metres down a steep slope, police say. She remained with an ambulance team overnight due to low light and foggy weather conditions.\n",
      "----------------------------------------------------------------------------------------------------\n",
      "Input: A 41-year-old British man has been charged after he allegedly relieved himself in an ice machine at an Orlando hotel. Andrew Stewart Wood, of Havant, Hampshire, was accused of urinating into the ice machine at the Hard Rock Hotel in the Universal theme park resort in the early hours of Tuesday. A guest reportedly told a security guard at the luxury hotel that there was a very intoxicated man on the premises. Andrew Wood, 41, from the UK, was arrested at Orlando's Hard Rock Hotel after being caught urinating in an ice machine while intoxicated . The guard located Wood and saw him urinating into an ice machine. When he tried to stop him, Wood became belligerent, began shouting and would not cooperate. According to the police report, the security guard tried to have the guest identify himself and tell him what room he was staying in but he continued disturbing the peace and quiet of other guests. The security guard then called the police. Police removed Wood from the premises after he refused to stay in his room. Officers said that Wood was extremely intoxicated 'with the odor of alcohol emanating from his person and having random outbursts'. He was arrested on disorderly conduct charges and placed in jail where he continued to act out. Wood posted $1,000 bond and was released from Orange County Jail on Tuesday afternoon, according to a booking report. In a statement to Daily Mail Online, Hard Rock Hotel at Universal Orlando said: 'The health and safety of our guests is our top priority and we have removed the ice machine from service.' The hotel was unable to confirm if Wood was still a guest, adding: 'For security reasons, we are unable to provide guest information.' A standard room at the hotel costs around $294 per night. The luxury Hard Rock hotel in Florida is attached to the Universal Studios theme park - a standard room starts at around $300 a night .\n",
      "Generated summary 2: Andrew Wood, 41, from Hampshire, urinated in ice machine at Hard Rock Hotel. A guest told a security guard that there was a very intoxicated man on the premises. Wood was arrested on disorderly conduct charges and placed in jail.\n",
      "----------------------------------------------------------------------------------------------------\n",
      "Input: Tehran, Iran (CNN)The Basij is a militia made up of fighters loyal to Iran's religious leaders; their mission is to protect the country's Islamic order. To do that, they will go to any lengths necessary, including -- they say -- taking on ISIS. \"We all are prepared to go and destroy ISIS totally,\" one Basij commander told CNN. \"If our Imam, our Supreme Leader orders us, we will destroy ISIS.\" The commander says that, so far, the Basij has not been caught up in the fight against the feared Islamic extremists currently waging war in parts of Iraq and Syria. But Iran's elite Revolutionary Guard's Quds Force, led by General Qassem Suleimani, is already training, advising and supporting Iraqi Shia militias in their fight against ISIS. Suleimani was accused of involvement in the Shia insurgency against U.S. forces during the Iraq war. Today he is a celebrity to many Iraqis and Iranians. That is symbolic of the gulf that still exists between Iran and the U.S., regardless of any thaw in relations in the wake of the recent agreement on a framework nuclear deal and ongoing talks. Iran, militias' involvement in ISIS fight a mixed blessing . Iranian officials, who believe their strategy is making a difference in the fight against ISIS, say they would like better cooperation with the U.S., but point out that the level of trust simply isn't there. \"At the moment, we consider the United States to be a threat to us because its policies and actions are threatening to us,\" said General Ahmad Reza Pourdastan, commander of Iran's ground forces. \"We would like the US to change its rhetoric and tone of voice so that our nation could have more trust in U.S. military leadership.\" And the feeling is mutual: the U.S., which is leading the air campaign against ISIS in Iraq, has denied any direct coordination with Iran. Iran will do what it takes to fight ISIS . Iranians believe air strikes against ISIS are not effective, and feel that the U.S. and its allies are not trying seriously enough to defeat the group. Iran's President Hassan Rouhani told CNN's Christiane Amanpour last September that \"the aerial bombardment campaign is mostly ... a form of theater, rather than a serious battle against terrorism.\" \"The battle in Iraq is very important to Iran,\" explained Mohammed Marandi, a professor at Tehran University. \"The Iranians believe that the Americans, if they wanted to, could do a lot more to put pressure on their allies. And also, if they were serious about air strikes, they could do a lot more.\" It's a point the U.S., of course, disagrees with -- U.S. President Barack Obama has vowed to \"degrade and ultimately defeat\" the terror group. But Iran remains unconvinced. \"If they want to destroy ISIS, it is possible for them to achieve that,\" said Major-General Hassan Firouzabadi, Iran's chief of general staff. \"The U.S. military and intelligence organizations have many ways to strike at ISIS, but we have not seen anything so far except intelligence gathering from the U.S. and Britain,\" he said. \"We hope that one day, because of their national interests and the will of their nations, the U.S. and the UK will decide to really fight ISIS.\" In ISIS, Iran and the U.S. share a common enemy, but -- for now at least -- no apparent common strategy.Will Iran-Saudi proxy war erupt?\n",
      "Generated summary 3: Iran and the U.S. share a common enemy, but for now at least -- no apparent common strategy. Iran and the U.S. share a common enemy, but for now at least -- no apparent common strategy.\n",
      "----------------------------------------------------------------------------------------------------\n",
      "Input: She was the most hated woman in Britain, loathed for her role in the break-up of the Prince and Princess of Wales' marriage and vilified for everything from her dress sense to her looks. But 10 years on from the sunny April day that saw Camilla Parker-Bowles become the Duchess of Cornwall, things are looking very different for the 67-year-old royal. Indeed, so popular has Camilla become, a recent poll revealed that not only is the Duchess loved by 50 per cent of Britons, 56 per cent credit her with Charles' own increasing popularity. Scroll down for video . Relaxed: The Prince of Wales has cut an increasingly relaxed figure since marrying Camilla . Still in love: An intimate photo released today to mark their 10th wedding anniversary . More to the point, she has also become a much-loved member of the Royal Family, adored by her step-sons William and Harry and noticeably close to her mother-in-law, the Queen. That her relationship with the rest of the Firm is so good is due, in no small part, to her 'charm and charisma', both of which got an appreciative mention from her husband during a recent interview with CNN. The natural warmth she displays during public appearances has helped cement her place in the Royal Family, with courtiers impressed by her knack of creating an instant rapport with members of the public. Most recently, she pulled off a tour of the US with aplomb, charming locals with her approachability and winning admiring headlines at home. Her relaxed approach to life was in evidence once again during last month's Cheltenham Festival where, accosted by ex-glamour model Katie Price in the paddock, she posed obligingly for a selfie. A few minutes later, she was seen engrossed in conversation with author Jilly Cooper, who memorably based the caddish Rupert Campbell-Black, the star of the much-loved Rutshire Chronicles, on Camilla's ex-husband Andrew Parker-Bowles. Sharing a joke: Camilla and Prince William share a joke at the opening ceremony of the Invictus Games . Natural warmth: Camilla's success is due to her charm - on display here during last month's Cheltenham . Involved: Camilla's granddaughter Eliza Lopes was a bridesmaid at the 2011 Royal Wedding . 'She is warm, smiley and sincere,' reveals one Royal insider. 'If you were going to use five words to describe her, they would be funny, down-to-earth, opinionated, family-orientated and hearty.' But Camilla's new-found confidence is hard-won. A salt-of-the-earth countrywoman who, given the opportunity, would happily go make-up free and avoid set-piece events, taking on the very public life of a senior royal hasn't been easy. That she has managed it, apparently without breaking a sweat, hasn't gone unnoticed - not least by Prince Charles himself. 'You can imagine it is a real, real challenge,' said the prince in the same CNN interview, adding: 'But she's, I think, been brilliant in the way she's tackled these things . insiders say the transformation is less about careful PR work and more about Camilla herself - in particular, the way she has thrown herself into championing the charities closest to her heart. One of the first to benefit was the National Osteoporosis Society, with whom the Duchess has been involved for more than 19 years. 'Throughout our association with the Duchess, she has been unwavering in her support,' says Chief Executive Claire Severgnini. 'She is personable, knowledgeable and compassionate.' All smiles: The Duchess of Cornwall enjoys a chat with the Duchess of Cambridge during the 2012 Jubilee . All together: The Duchess of Cornwall in the family photo released after Prince George's christening . Close: The Duchess of Cornwall now enjoys a close relationship with the Queen . Approval: A clear sign of approval is the regularity with which the Duchess appears alongside the Queen . Shared interests: Both Camilla and the Queen share a passion for all things equestrian . Her interest in osteoporosis comes as no surprise to those who know the Duchess. In 1994, aged 47, she was forced to watch as her 'beloved Mama' Rosalind Shand died, slowly and in agony, as a result of the disease. Indeed, the Camilla's association with the charity pre-dates her marriage, with the Duchess first getting involved while still Mrs Parker-Bowles. Asked to join forces with the charity while at the height of her infamy, biographer Penny Junor writes that she was initially reluctant, fearing she might do more harm than good, before agreeing to get involved. Although her first attempt at fundraising was curtailed by Princess Diana's tragic death, she never stopped supporting the organisation and still gets involved in events. She has also made a name for herself as a champion of women's rights, becoming deeply involved in the UK's rape crisis centres and making a visit to a local women's refuge part of every international tour. While visiting Colombian capital Bogota last November, she cut a sympathetic figure as she chatted to rape victims over a cup of tea at the Memory, Peace and Reconciliation Center. Having a laugh: Camilla, Harry and Kate share a joke on the balcony of Buckingham Palace in June 2013 . Friendly: The Duchess of Cornwall enjoys a friendly relationship with the Duchess of Cambridge . All smiles: The pair were frequently spotted together during the London 2012 Olympic Games . In Washington last month, the Duchess left Prince Charles to his own devices for a couple of hours while she met detectives working for the District of Colombia's Sexual Assault Response Team. Camilla's increasing confidence has also shown itself in the ensembles she wears, with the frumpy get-ups of old swapped for elegant tailored dresses designed to flatter her still-trim waist. Like the Duchess of Cambridge, she's never far from a delicate cream dress and accessorises nearly everything she wears with one of her trademark five-strand pearl chokers. In the country, she likes tailored tweed suits by Roy Allen, one of her favourite couturiers, cosy coats by Swiss label Moncler and flattering hats by London-based milliner, Lock & Co. But as the Duchess of Cornwall prepares to celebrate her 10th wedding anniversary, it is the sea-change in her family life as much as her public image that ought to leave her smiling. Mirror image: The two also share a similar sense of style - including a penchant for nude pumps . Cheers! Meanwhile Camilla's relationship with Prince Charles has gone from strength to strength . Charm: The Prince spoke glowingly of his wife's 'charm and charisma' in an interview last month . Not only is she close to the Queen, who was once reported as wishing she 'would just go away', Camilla is also adored by Diana's sons William and Harry - as photos of the trio laughing together at the opening ceremony of September's Invictus Games made only too clear. 'Having initially loathed her, the Queen gets on well with Camilla now,' adds the insider. 'She isn't as close to the Queen as Sophie [Countess of Wessex] is but that is partly because the Queen's relationship with Charles is a bit complicated anyway.' What certainly isn't complicated is Camilla's relationship with Charles. Despite such quirks as maintaining separate country homes, after 10 years, the royal couple are closer - and happier - than ever. Born Camilla Rosemary Shand on the 17th July 1947, the Duchess of Cornwall's 67 years have undoubtedly been interesting ones. The daughter of Major Bruce Middleton Hope Shand and his wife Rosalind, the Duchess was born in London but spent much of her childhood in Sussex along with her siblings, Annabel and Mark. According to her biographer Giles Brandreth, her upbringing, although not royal, was certainly a grand one. 'Camilla is often described as having had an \"Enid Blyton sort of Childhood\",' he writes. 'In fact, it was much grander than that. 'The Shands had position and they had help ‚ help in the house, help in the garden, help with children. 'They were gentry. They opened their garden for the local Conservative Party Association summer fte. Enough said.' After a stint at a Swiss finishing school, Camilla burst onto the London social scene as a debutante on the 25th March 1965. But it wasn't all fun, with the future Duchess of Cornwall working as a secretary for a succession of London firms to pay for her Belgravia flat, which she shared with Lady Moyra Campbell. In the late 1960s, Camilla met the man who was to become her first husband, cavalry officer Andrew Parker-Bowles, with the couple dating off and on for several years - with Mr Parker-Bowles striking up a relationship with Princess Anne at one point. Camilla, meanwhile, had struck up a relationship with Prince Charles, who was first introduced to her sometime in 1971. When the couple split following an overseas posting for Charles in 1973, Camilla reconciled with Parker-Bowles and the couple announced their engagement and married the same year. Two children followed. Tom in 1974 and Laura in 1978. But it was her continuing relationship with Prince Charles that would come to define her, with the former couple remaining close friends even after both had married other people. In 1992, claims that the two had remained an item throughout both marriages emerged when Diana: Her True Story was published, followed, a year later by the 'Camillagate' scandal. By 1995, both marriages had come to an end and Charles and Camilla were unofficially back together, with the future Duchess often seen attending events with the prince. Royal acceptance soon followed with the Queen making Camilla part of the Golden Jubilee celebrations in 2002. A year later, the Duchess moved into Clarence House and on the 10th February 2005, Charles and Camilla's engagement was announced. The couple married just under two months later in Windsor, with Camilla taking the title of the Duchess of Cornwall.\n",
      "Generated summary 4: Camilla Parker-Bowles became the Duchess of Cornwall in April. She is now a much-loved member of the Royal Family. She has also become a much-loved member of the Royal Family. She has also become a much-loved member of the Royal Family.\n",
      "----------------------------------------------------------------------------------------------------\n",
      "Input: Fruit juices made from so-called superfoods such as cranberries and pomegranates often have more sugar than a can of cola, officials have warned. While the drinks are said to have health benefits, some brands contain more than a day's recommended intake of sugar in a single 300ml serving. The Local Government Association, which represents councils that are responsible for public health, accused soft drink firms of 'dragging their heels' when it comes to minimising sugar in their products. Ocean Spray Cranberry Classic juice drink (pictured left) was found to have 11g of sugar per 100ml, which is more than the amount in a can of Coca-Cola (right) It said children under the age of ten get almost a fifth of their sugar intake from soft drinks. In a survey, the organisation found that some cans of fizzy drinks contain almost twice the recommended daily sugar limit for adults. Even some fruit juices contain more than a single day's limit in a single serving ‚ surpassing a can of Coca-Cola. Ocean Spray Cranberry Classic juice drink was found to have 11g of sugar per 100ml, while PomeGreat 'Super Juice' had 12.1g. Both exceed the 10.6g per 100ml in a can of Coca-Cola ‚ but do not come close to the 15.1g per 100ml in Old Jamaica Ginger Beer. A 300ml serving of any of the four drinks would breach the 25g daily sugar limit recommended by the World Health Organisation. Juice businesses insisted the study is misleading because it does not differentiate between unhealthy added sugar ‚ such as monosaccharides and disaccharides in fizzy drinks ‚ and natural sugar found in fruit. Cranberry juice is frequently promoted as a health product which is said to ward off urinary tract infections. And pomegranate juice has been linked to resistance to prostate cancer and heart disease. The LGA is calling for a fifth of the VAT raised on sugary drinks, sweets and takeaway food to go to councils to pay for public health schemes. Councillor Izzi Seccombe, Tory leader of Warwickshire county council and chairman of the LGA's Community Wellbeing Board, said: 'It is wholly unacceptable for one normal-sized can of soft drink to contain double the recommended daily limit. 'Products like these are fuelling the obesity crisis and helping wean a generation of overweight children. 'We are calling on the sector as a whole to step up and show more corporate responsibility.' A spokesman for Ocean Spray said cranberries are naturally low in sugar, so sweetening is required. Vitamin Water is promoted for its health benefits, but drinks contain four teaspoons of sugar per 330ml . She added: 'We offer consumers a range of reduced sugar options including our Cranberry Classic Light product . 'We've made and continue to maintain a firm commitment to low-sugar innovation, and through product formulation, price promotion and portion sizes we seek to offer the best choice in flavours, calories and formats.' Adam Pritchard, chief executive of PomeGreat, accused the LGA of distributing misleading research. He said his product does not include refined sugar, which the WHO says is more harmful than naturally occurring fruit sugars. PomeGreat instead includes pinitol, a natural compound which stops blood sugar levels rapidly rising. Mr Pritchard said: 'To lump us in with big fizzy drinks companies is just misleading. 'We are a small company competing with huge multinational businesses which are just chucking sugar into drinks because it is cheap. 'We use a much more healthy natural sweetener which costs 2.5 as much as refined sugar. It is not the same thing.'\n",
      "Generated summary 5: Fruit juices contain more than a day's recommended intake of sugar in a single 300ml serving. Juice firms claim study is misleading because it does not distinguish between unhealthy added sugar and natural sugar found in fruit.\n",
      "----------------------------------------------------------------------------------------------------\n"
     ]
    }
   ],
   "source": [
    "print(\"Output from custom model:\\n\" + 100 * '-')\n",
    "for idx, output_sequence in enumerate(output_sequences):\n",
    "    output = T5_base_tokenizer.decode(output_sequence, skip_special_tokens=True)\n",
    "    print(\"Input: {}\".format(sentences[idx]))\n",
    "    print(\"Generated summary {}: {}\".format(idx + 1, output))\n",
    "    print(100 * '-')"
   ]
  },
  {
   "cell_type": "markdown",
   "metadata": {},
   "source": [
    "Works perfectly fine"
   ]
  },
  {
   "cell_type": "markdown",
   "metadata": {},
   "source": [
    "## Alter generate function and take topic into account during generation\n",
    "#### Option 1: \n",
    "discard/block words based on their topic affiliation (expect this to be bad)\n",
    "cannot write coherent/grammatical sentences if blocking too many words\n",
    "block words from second topic\n",
    "topics could overlap (could exclude the overlapping)\n",
    "binary mask over the vocabulary to multiply probability vector with\n",
    "\n",
    "#### Option 2:\n",
    "temperature scaling if needed (to make the factor important)\n",
    "multiply tokens that belong to the target topic with a factor > 1 \n",
    "rescale/normalize  after multiplying\n",
    "Alternative\n",
    "select top k tokens and then over-sample tokens from the topic. \n",
    "Start out with uniform distribution over top-k tokens. Multiply each token belonging to the target topic with factor (e.g. 2-5) and then rescale entire probability distribution accordingly.\n"
   ]
  },
  {
   "cell_type": "markdown",
   "metadata": {},
   "source": [
    "## Import LDA model"
   ]
  },
  {
   "cell_type": "code",
   "execution_count": 76,
   "metadata": {},
   "outputs": [],
   "source": [
    "def load_lda_model(model_address: str):\n",
    "    # Loads the LDA model and dictionary from the specified address.\n",
    "    try:\n",
    "        lda = gensim.models.ldamodel.LdaModel.load(model_address + 'lda.model', mmap='r')\n",
    "        dictionary = corpora.Dictionary.load(model_address + 'dictionary.dic', mmap='r')\n",
    "        return lda, dictionary\n",
    "    except Exception as e:\n",
    "        print(f\"Error loading model or dictionary: {e}\")\n",
    "        return None, None"
   ]
  },
  {
   "cell_type": "code",
   "execution_count": 77,
   "metadata": {},
   "outputs": [
    {
     "name": "stderr",
     "output_type": "stream",
     "text": [
      "WARNING:root:random_state not set so using default value\n"
     ]
    }
   ],
   "source": [
    "model_address = \"LDA_250/\"\n",
    "lda, dictionary = load_lda_model(model_address)\n",
    "# Warning \"WARNING:root:random_state not set so using default value\" is inconsequential for inference"
   ]
  },
  {
   "cell_type": "code",
   "execution_count": 78,
   "metadata": {},
   "outputs": [],
   "source": [
    "def get_top_topic_words(lda, topic_number, num_words=100):\n",
    "    \"\"\"\n",
    "    Returns the top words for a given topic from the LDA model.\n",
    "    \n",
    "    :param lda: The LDA model.\n",
    "    :param topic_number: The topic number to get the top words for.\n",
    "    :param num_words: The number of top words to return.\n",
    "    :return: A list of top words for the specified topic.\n",
    "    \"\"\"\n",
    "    try:\n",
    "        lda_topics = lda.show_topics(formatted=True)\n",
    "        _, topic_words = lda_topics[topic_number]\n",
    "        words_with_probs = topic_words.split(' + ')\n",
    "\n",
    "        # Extracting just the words\n",
    "        top_words = [word_prob.split('*')[1].strip() for word_prob in words_with_probs[:num_words]]\n",
    "        return top_words\n",
    "    except Exception as e:\n",
    "        print(f\"Error in getting top topic words: {e}\")\n",
    "        return []"
   ]
  },
  {
   "cell_type": "markdown",
   "metadata": {},
   "source": [
    "## Create custom model"
   ]
  },
  {
   "cell_type": "code",
   "execution_count": 79,
   "metadata": {},
   "outputs": [],
   "source": [
    "class CustomT5Model(T5ForConditionalGeneration):\n",
    "    def __init__(self, tokenizer, *args, **kwargs):\n",
    "        super().__init__(*args, **kwargs)\n",
    "        self.tokenizer = tokenizer\n",
    "\n",
    "    def adjust_logits_during_generation(self, logits, block_token_ids, cur_len, max_length):\n",
    "        # Modify this method to adjust logits according to your needs\n",
    "        if cur_len < max_length:\n",
    "            for token_id in block_token_ids:\n",
    "                logits[:, token_id] = -float('inf')\n",
    "        return logits\n",
    "    \n",
    "    def generate(self, input_ids, attention_mask=None, block_topic=-1, lda_model=None, dictionary=None, **kwargs):\n",
    "        # Checking if a topic should be blocked\n",
    "        block_token_ids = []\n",
    "        if block_topic >= 0 and lda_model is not None and dictionary is not None:\n",
    "            top_words = get_top_topic_words(lda_model, block_topic)\n",
    "            block_token_ids = [self.tokenizer.encode(word, add_special_tokens=False)[0] for word in top_words]\n",
    "\n",
    "            # Modify logits_processor to block the selected words\n",
    "            logits_processor = transformers.generation_logits_process.LogitsProcessorList([\n",
    "                transformers.generation_logits_process.HammingDiversityLogitsProcessor(group_size=1),\n",
    "                transformers.generation_logits_process.InfNanRemoveLogitsProcessor(),\n",
    "                transformers.generation_logits_process.RepetitionPenaltyLogitsProcessor(penalty=1.2),\n",
    "                transformers.generation_logits_process.ForbiddenTokensLogitsProcessor(forbidden_tokens=block_token_ids)\n",
    "            ])\n",
    "            kwargs[\"logits_processor\"] = logits_processor\n",
    "\n",
    "        output_sequences = super().generate(\n",
    "            input_ids=input_ids,\n",
    "            attention_mask=attention_mask,\n",
    "            **kwargs\n",
    "        )\n",
    "\n",
    "        return output_sequences"
   ]
  },
  {
   "cell_type": "code",
   "execution_count": 80,
   "metadata": {},
   "outputs": [],
   "source": [
    "from transformers import T5ForConditionalGeneration\n",
    "\n",
    "class CustomT5Model(T5ForConditionalGeneration):\n",
    "    def __init__(self, tokenizer, *args, **kwargs):\n",
    "        super().__init__(*args, **kwargs)\n",
    "        self.tokenizer = tokenizer\n",
    "\n",
    "    def generate(self, \n",
    "                 input_ids, \n",
    "                 attention_mask=None, \n",
    "                 block_topic=-1, \n",
    "                 lda_model=None, \n",
    "                 dictionary=None, \n",
    "                 **kwargs):\n",
    "\n",
    "        # If a topic should be blocked, prepare the block_token_ids\n",
    "        block_token_ids = []\n",
    "        if block_topic >= 0 and lda_model is not None and dictionary is not None:\n",
    "            top_words = get_top_topic_words(lda_model, block_topic)\n",
    "            block_token_ids = [self.tokenizer.encode(word, add_special_tokens=False)[0] for word in top_words]\n",
    "\n",
    "        # Custom logits manipulation\n",
    "        def custom_logits_processor(logits, input_ids):\n",
    "            if block_token_ids:\n",
    "                logits[:, block_token_ids] = -float('inf')\n",
    "            return logits\n",
    "\n",
    "        # Override the standard logits_processor in the generation loop\n",
    "        original_logits_processor = self._get_logits_processor(**kwargs)\n",
    "        def combined_logits_processor(logits, input_ids):\n",
    "            logits = original_logits_processor(logits, input_ids)\n",
    "            return custom_logits_processor(logits, input_ids)\n",
    "        self._get_logits_processor = lambda **kwargs: combined_logits_processor\n",
    "\n",
    "        # Generate output sequences\n",
    "        output_sequences = super().generate(\n",
    "            input_ids=input_ids,\n",
    "            attention_mask=attention_mask,\n",
    "            **kwargs\n",
    "        )\n",
    "\n",
    "        # Reset logits processor to its original state\n",
    "        self._get_logits_processor = lambda **kwargs: original_logits_processor\n",
    "\n",
    "        return output_sequences\n",
    "\n",
    "# Usage remains the same\n"
   ]
  },
  {
   "cell_type": "code",
   "execution_count": 81,
   "metadata": {},
   "outputs": [
    {
     "name": "stderr",
     "output_type": "stream",
     "text": [
      "Special tokens have been added in the vocabulary, make sure the associated word embeddings are fine-tuned or trained.\n"
     ]
    }
   ],
   "source": [
    "T5_base_tokenizer = T5Tokenizer.from_pretrained(\"google/flan-t5-base\")\n",
    "custom_model = CustomT5Model(tokenizer=T5_base_tokenizer, config=T5ForConditionalGeneration.from_pretrained(\"google/flan-t5-base\").config)"
   ]
  },
  {
   "cell_type": "code",
   "execution_count": 82,
   "metadata": {},
   "outputs": [
    {
     "ename": "TypeError",
     "evalue": "GenerationMixin._get_logits_processor() got an unexpected keyword argument 'max_length'",
     "output_type": "error",
     "traceback": [
      "\u001b[0;31m---------------------------------------------------------------------------\u001b[0m",
      "\u001b[0;31mTypeError\u001b[0m                                 Traceback (most recent call last)",
      "Cell \u001b[0;32mIn[82], line 2\u001b[0m\n\u001b[1;32m      1\u001b[0m \u001b[38;5;66;03m# Assuming 'inputs' is a dictionary with 'input_ids' and 'attention_mask'\u001b[39;00m\n\u001b[0;32m----> 2\u001b[0m custom_output_sequences \u001b[38;5;241m=\u001b[39m custom_model\u001b[38;5;241m.\u001b[39mgenerate(\n\u001b[1;32m      3\u001b[0m     input_ids\u001b[38;5;241m=\u001b[39minputs[\u001b[38;5;124m\"\u001b[39m\u001b[38;5;124minput_ids\u001b[39m\u001b[38;5;124m\"\u001b[39m],\n\u001b[1;32m      4\u001b[0m     attention_mask\u001b[38;5;241m=\u001b[39minputs[\u001b[38;5;124m\"\u001b[39m\u001b[38;5;124mattention_mask\u001b[39m\u001b[38;5;124m\"\u001b[39m],\n\u001b[1;32m      5\u001b[0m     block_topic\u001b[38;5;241m=\u001b[39m\u001b[38;5;241m0\u001b[39m,  \u001b[38;5;66;03m# Topic to block\u001b[39;00m\n\u001b[1;32m      6\u001b[0m     lda_model\u001b[38;5;241m=\u001b[39mlda,  \u001b[38;5;66;03m# Your LDA model\u001b[39;00m\n\u001b[1;32m      7\u001b[0m     dictionary\u001b[38;5;241m=\u001b[39mdictionary,  \u001b[38;5;66;03m# Your dictionary\u001b[39;00m\n\u001b[1;32m      8\u001b[0m     max_length\u001b[38;5;241m=\u001b[39m\u001b[38;5;241m100\u001b[39m,\n\u001b[1;32m      9\u001b[0m     min_length\u001b[38;5;241m=\u001b[39m\u001b[38;5;241m30\u001b[39m,\n\u001b[1;32m     10\u001b[0m     num_beams\u001b[38;5;241m=\u001b[39m\u001b[38;5;241m1\u001b[39m,\n\u001b[1;32m     11\u001b[0m     num_return_sequences\u001b[38;5;241m=\u001b[39m\u001b[38;5;241m1\u001b[39m,\n\u001b[1;32m     12\u001b[0m )\n",
      "Cell \u001b[0;32mIn[80], line 29\u001b[0m, in \u001b[0;36mCustomT5Model.generate\u001b[0;34m(self, input_ids, attention_mask, block_topic, lda_model, dictionary, **kwargs)\u001b[0m\n\u001b[1;32m     26\u001b[0m     \u001b[38;5;28;01mreturn\u001b[39;00m logits\n\u001b[1;32m     28\u001b[0m \u001b[38;5;66;03m# Override the standard logits_processor in the generation loop\u001b[39;00m\n\u001b[0;32m---> 29\u001b[0m original_logits_processor \u001b[38;5;241m=\u001b[39m \u001b[38;5;28mself\u001b[39m\u001b[38;5;241m.\u001b[39m_get_logits_processor(\u001b[38;5;241m*\u001b[39m\u001b[38;5;241m*\u001b[39mkwargs)\n\u001b[1;32m     30\u001b[0m \u001b[38;5;28;01mdef\u001b[39;00m \u001b[38;5;21mcombined_logits_processor\u001b[39m(logits, input_ids):\n\u001b[1;32m     31\u001b[0m     logits \u001b[38;5;241m=\u001b[39m original_logits_processor(logits, input_ids)\n",
      "\u001b[0;31mTypeError\u001b[0m: GenerationMixin._get_logits_processor() got an unexpected keyword argument 'max_length'"
     ]
    }
   ],
   "source": [
    "# Assuming 'inputs' is a dictionary with 'input_ids' and 'attention_mask'\n",
    "custom_output_sequences = custom_model.generate(\n",
    "    input_ids=inputs[\"input_ids\"],\n",
    "    attention_mask=inputs[\"attention_mask\"],\n",
    "    block_topic=0,  # Topic to block\n",
    "    lda_model=lda,  # Your LDA model\n",
    "    dictionary=dictionary,  # Your dictionary\n",
    "    max_length=100,\n",
    "    min_length=30,\n",
    "    num_beams=1,\n",
    "    num_return_sequences=1,\n",
    ")\n"
   ]
  },
  {
   "cell_type": "code",
   "execution_count": null,
   "metadata": {},
   "outputs": [],
   "source": [
    "print(\"Output from custom model:\\n\" + 100 * '-')\n",
    "for idx, output_sequence in enumerate(custom_output_sequences):\n",
    "    output = T5_base_tokenizer.decode(output_sequence, skip_special_tokens=True)\n",
    "    print(\"Input: {}\".format(sentences[idx]))\n",
    "    print(\"Generated summary {}: {}\".format(idx + 1, output))\n",
    "    print(100 * '-')"
   ]
  },
  {
   "cell_type": "code",
   "execution_count": null,
   "metadata": {},
   "outputs": [],
   "source": []
  },
  {
   "cell_type": "code",
   "execution_count": null,
   "metadata": {},
   "outputs": [],
   "source": []
  },
  {
   "cell_type": "code",
   "execution_count": null,
   "metadata": {},
   "outputs": [],
   "source": []
  },
  {
   "cell_type": "code",
   "execution_count": null,
   "metadata": {},
   "outputs": [],
   "source": []
  },
  {
   "cell_type": "code",
   "execution_count": null,
   "metadata": {},
   "outputs": [],
   "source": []
  },
  {
   "cell_type": "code",
   "execution_count": null,
   "metadata": {},
   "outputs": [],
   "source": []
  },
  {
   "cell_type": "code",
   "execution_count": null,
   "metadata": {},
   "outputs": [],
   "source": []
  },
  {
   "cell_type": "code",
   "execution_count": null,
   "metadata": {},
   "outputs": [],
   "source": []
  },
  {
   "cell_type": "code",
   "execution_count": null,
   "metadata": {},
   "outputs": [],
   "source": []
  },
  {
   "cell_type": "code",
   "execution_count": null,
   "metadata": {},
   "outputs": [],
   "source": []
  },
  {
   "cell_type": "code",
   "execution_count": null,
   "metadata": {},
   "outputs": [],
   "source": []
  },
  {
   "cell_type": "code",
   "execution_count": null,
   "metadata": {},
   "outputs": [],
   "source": []
  },
  {
   "cell_type": "code",
   "execution_count": null,
   "metadata": {},
   "outputs": [],
   "source": [
    "original_summaries = output_sequences.tolist()"
   ]
  },
  {
   "cell_type": "code",
   "execution_count": null,
   "metadata": {},
   "outputs": [
    {
     "name": "stdout",
     "output_type": "stream",
     "text": [
      "[[0, 37, 944, 18, 1201, 18, 1490, 45, 10212, 47, 3214, 1084, 10035, 5230, 3120, 6, 7964, 7488, 28, 3, 9, 563, 13, 803, 30, 1701, 5, 451, 4728, 81, 627, 14604, 11, 3, 10671, 3, 9, 856, 460, 14604, 323, 3, 9, 10856, 13150, 6, 2095, 497, 5, 451, 3, 7361, 28, 46, 25102, 372, 8521, 788, 12, 731, 659, 11, 5575, 9559, 1969, 1124, 5, 1, 0], [0, 5954, 2985, 6, 8798, 6, 45, 17944, 6, 3, 459, 29, 920, 16, 3, 867, 1437, 44, 6424, 3120, 2282, 5, 71, 3886, 1219, 3, 9, 1034, 4879, 24, 132, 47, 3, 9, 182, 16, 14367, 920, 388, 30, 8, 12787, 5, 2985, 47, 10195, 30, 9311, 120, 3498, 3991, 11, 2681, 16, 11796, 5, 1, 0, 0, 0, 0, 0, 0, 0, 0, 0, 0, 0, 0], [0, 7449, 11, 8, 412, 5, 134, 5, 698, 3, 9, 1017, 10101, 6, 68, 21, 230, 44, 709, 1636, 150, 10320, 1017, 1998, 5, 7449, 11, 8, 412, 5, 134, 5, 698, 3, 9, 1017, 10101, 6, 68, 21, 230, 44, 709, 1636, 150, 10320, 1017, 1998, 5, 1, 0, 0, 0, 0, 0, 0, 0, 0, 0, 0, 0, 0, 0, 0, 0, 0, 0, 0, 0], [0, 28347, 9, 13156, 18, 279, 2381, 965, 1632, 8, 970, 2951, 7, 13, 26334, 16, 1186, 5, 451, 19, 230, 3, 9, 231, 18, 5850, 15, 26, 1144, 13, 8, 3671, 3712, 5, 451, 65, 92, 582, 3, 9, 231, 18, 5850, 15, 26, 1144, 13, 8, 3671, 3712, 5, 451, 65, 92, 582, 3, 9, 231, 18, 5850, 15, 26, 1144, 13, 8, 3671, 3712, 5, 1], [0, 17764, 5143, 7, 3480, 72, 145, 3, 9, 239, 31, 7, 3024, 11963, 13, 2656, 16, 3, 9, 712, 3147, 51, 40, 3122, 5, 3736, 867, 5654, 1988, 810, 19, 23828, 250, 34, 405, 59, 15849, 344, 23363, 974, 2656, 11, 793, 2656, 435, 16, 2728, 5, 1, 0, 0, 0, 0, 0, 0, 0, 0, 0, 0, 0, 0, 0, 0, 0, 0, 0, 0, 0, 0]]\n"
     ]
    }
   ],
   "source": [
    "print(original_summaries)"
   ]
  },
  {
   "cell_type": "code",
   "execution_count": null,
   "metadata": {},
   "outputs": [
    {
     "name": "stdout",
     "output_type": "stream",
     "text": [
      "Output:\n",
      "----------------------------------------------------------------------------------------------------\n",
      "Input: An American tourist has spent the night stranded in the Blue Mountains, west of Sydney, after she fell 15 metres off a cliff while bushwalking. The 25-year-old from the US state of Wisconsin was walking near Pulpit Rock, Mount Victoria with a group of friends on Friday when she slipped from a track. She fell about 15 metres and rolled a further 20 metres down a steep slope, police say. Rescue teams escort a 25-year-old US tourist after she spent the night stranded in the Blue Mountains after falling 15 metres off a cliff . Rescue crews found the woman suffering a possible broken ankle and broken ribs. She remained with an ambulance team overnight due to low light and foggy weather conditions. Blue Mountains Police Rescue Sergeant Dallas Atkinson told ABC a helicopter was deployed to finish the rescue this morning. 'After she fell yesterday she was accessed a short time later by police and ambulance,' Sergeant Atkinson said. 'It was determined that she had sustained leg and chest injuries and a rescue plan was put in place where the patient was going to be carried out. Rescue crews found the Wisconsin woman had suffered a possible broken ankle and broken ribs . Rescue teams had to wait for the heavy fog to lift so they could winch the woman out via a helicopter . 'But due to the terrain in the prevailing weather that plan was aborted.' Rescue teams had to wait for the fog to lift so they could winch the woman out via a helicopter.\n",
      "Generated summary 1: The 25-year-old from Wisconsin was walking near Pulpit Rock, Mount Victoria with a group of friends on Friday. She fell about 15 metres and rolled a further 20 metres down a steep slope, police say. She remained with an ambulance team overnight due to low light and foggy weather conditions.\n",
      "----------------------------------------------------------------------------------------------------\n",
      "Input: A 41-year-old British man has been charged after he allegedly relieved himself in an ice machine at an Orlando hotel. Andrew Stewart Wood, of Havant, Hampshire, was accused of urinating into the ice machine at the Hard Rock Hotel in the Universal theme park resort in the early hours of Tuesday. A guest reportedly told a security guard at the luxury hotel that there was a very intoxicated man on the premises. Andrew Wood, 41, from the UK, was arrested at Orlando's Hard Rock Hotel after being caught urinating in an ice machine while intoxicated . The guard located Wood and saw him urinating into an ice machine. When he tried to stop him, Wood became belligerent, began shouting and would not cooperate. According to the police report, the security guard tried to have the guest identify himself and tell him what room he was staying in but he continued disturbing the peace and quiet of other guests. The security guard then called the police. Police removed Wood from the premises after he refused to stay in his room. Officers said that Wood was extremely intoxicated 'with the odor of alcohol emanating from his person and having random outbursts'. He was arrested on disorderly conduct charges and placed in jail where he continued to act out. Wood posted $1,000 bond and was released from Orange County Jail on Tuesday afternoon, according to a booking report. In a statement to Daily Mail Online, Hard Rock Hotel at Universal Orlando said: 'The health and safety of our guests is our top priority and we have removed the ice machine from service.' The hotel was unable to confirm if Wood was still a guest, adding: 'For security reasons, we are unable to provide guest information.' A standard room at the hotel costs around $294 per night. The luxury Hard Rock hotel in Florida is attached to the Universal Studios theme park - a standard room starts at around $300 a night .\n",
      "Generated summary 2: Andrew Wood, 41, from Hampshire, urinated in ice machine at Hard Rock Hotel. A guest told a security guard that there was a very intoxicated man on the premises. Wood was arrested on disorderly conduct charges and placed in jail.\n",
      "----------------------------------------------------------------------------------------------------\n",
      "Input: Tehran, Iran (CNN)The Basij is a militia made up of fighters loyal to Iran's religious leaders; their mission is to protect the country's Islamic order. To do that, they will go to any lengths necessary, including -- they say -- taking on ISIS. \"We all are prepared to go and destroy ISIS totally,\" one Basij commander told CNN. \"If our Imam, our Supreme Leader orders us, we will destroy ISIS.\" The commander says that, so far, the Basij has not been caught up in the fight against the feared Islamic extremists currently waging war in parts of Iraq and Syria. But Iran's elite Revolutionary Guard's Quds Force, led by General Qassem Suleimani, is already training, advising and supporting Iraqi Shia militias in their fight against ISIS. Suleimani was accused of involvement in the Shia insurgency against U.S. forces during the Iraq war. Today he is a celebrity to many Iraqis and Iranians. That is symbolic of the gulf that still exists between Iran and the U.S., regardless of any thaw in relations in the wake of the recent agreement on a framework nuclear deal and ongoing talks. Iran, militias' involvement in ISIS fight a mixed blessing . Iranian officials, who believe their strategy is making a difference in the fight against ISIS, say they would like better cooperation with the U.S., but point out that the level of trust simply isn't there. \"At the moment, we consider the United States to be a threat to us because its policies and actions are threatening to us,\" said General Ahmad Reza Pourdastan, commander of Iran's ground forces. \"We would like the US to change its rhetoric and tone of voice so that our nation could have more trust in U.S. military leadership.\" And the feeling is mutual: the U.S., which is leading the air campaign against ISIS in Iraq, has denied any direct coordination with Iran. Iran will do what it takes to fight ISIS . Iranians believe air strikes against ISIS are not effective, and feel that the U.S. and its allies are not trying seriously enough to defeat the group. Iran's President Hassan Rouhani told CNN's Christiane Amanpour last September that \"the aerial bombardment campaign is mostly ... a form of theater, rather than a serious battle against terrorism.\" \"The battle in Iraq is very important to Iran,\" explained Mohammed Marandi, a professor at Tehran University. \"The Iranians believe that the Americans, if they wanted to, could do a lot more to put pressure on their allies. And also, if they were serious about air strikes, they could do a lot more.\" It's a point the U.S., of course, disagrees with -- U.S. President Barack Obama has vowed to \"degrade and ultimately defeat\" the terror group. But Iran remains unconvinced. \"If they want to destroy ISIS, it is possible for them to achieve that,\" said Major-General Hassan Firouzabadi, Iran's chief of general staff. \"The U.S. military and intelligence organizations have many ways to strike at ISIS, but we have not seen anything so far except intelligence gathering from the U.S. and Britain,\" he said. \"We hope that one day, because of their national interests and the will of their nations, the U.S. and the UK will decide to really fight ISIS.\" In ISIS, Iran and the U.S. share a common enemy, but -- for now at least -- no apparent common strategy.Will Iran-Saudi proxy war erupt?\n",
      "Generated summary 3: Iran and the U.S. share a common enemy, but for now at least -- no apparent common strategy. Iran and the U.S. share a common enemy, but for now at least -- no apparent common strategy.\n",
      "----------------------------------------------------------------------------------------------------\n",
      "Input: She was the most hated woman in Britain, loathed for her role in the break-up of the Prince and Princess of Wales' marriage and vilified for everything from her dress sense to her looks. But 10 years on from the sunny April day that saw Camilla Parker-Bowles become the Duchess of Cornwall, things are looking very different for the 67-year-old royal. Indeed, so popular has Camilla become, a recent poll revealed that not only is the Duchess loved by 50 per cent of Britons, 56 per cent credit her with Charles' own increasing popularity. Scroll down for video . Relaxed: The Prince of Wales has cut an increasingly relaxed figure since marrying Camilla . Still in love: An intimate photo released today to mark their 10th wedding anniversary . More to the point, she has also become a much-loved member of the Royal Family, adored by her step-sons William and Harry and noticeably close to her mother-in-law, the Queen. That her relationship with the rest of the Firm is so good is due, in no small part, to her 'charm and charisma', both of which got an appreciative mention from her husband during a recent interview with CNN. The natural warmth she displays during public appearances has helped cement her place in the Royal Family, with courtiers impressed by her knack of creating an instant rapport with members of the public. Most recently, she pulled off a tour of the US with aplomb, charming locals with her approachability and winning admiring headlines at home. Her relaxed approach to life was in evidence once again during last month's Cheltenham Festival where, accosted by ex-glamour model Katie Price in the paddock, she posed obligingly for a selfie. A few minutes later, she was seen engrossed in conversation with author Jilly Cooper, who memorably based the caddish Rupert Campbell-Black, the star of the much-loved Rutshire Chronicles, on Camilla's ex-husband Andrew Parker-Bowles. Sharing a joke: Camilla and Prince William share a joke at the opening ceremony of the Invictus Games . Natural warmth: Camilla's success is due to her charm - on display here during last month's Cheltenham . Involved: Camilla's granddaughter Eliza Lopes was a bridesmaid at the 2011 Royal Wedding . 'She is warm, smiley and sincere,' reveals one Royal insider. 'If you were going to use five words to describe her, they would be funny, down-to-earth, opinionated, family-orientated and hearty.' But Camilla's new-found confidence is hard-won. A salt-of-the-earth countrywoman who, given the opportunity, would happily go make-up free and avoid set-piece events, taking on the very public life of a senior royal hasn't been easy. That she has managed it, apparently without breaking a sweat, hasn't gone unnoticed - not least by Prince Charles himself. 'You can imagine it is a real, real challenge,' said the prince in the same CNN interview, adding: 'But she's, I think, been brilliant in the way she's tackled these things . insiders say the transformation is less about careful PR work and more about Camilla herself - in particular, the way she has thrown herself into championing the charities closest to her heart. One of the first to benefit was the National Osteoporosis Society, with whom the Duchess has been involved for more than 19 years. 'Throughout our association with the Duchess, she has been unwavering in her support,' says Chief Executive Claire Severgnini. 'She is personable, knowledgeable and compassionate.' All smiles: The Duchess of Cornwall enjoys a chat with the Duchess of Cambridge during the 2012 Jubilee . All together: The Duchess of Cornwall in the family photo released after Prince George's christening . Close: The Duchess of Cornwall now enjoys a close relationship with the Queen . Approval: A clear sign of approval is the regularity with which the Duchess appears alongside the Queen . Shared interests: Both Camilla and the Queen share a passion for all things equestrian . Her interest in osteoporosis comes as no surprise to those who know the Duchess. In 1994, aged 47, she was forced to watch as her 'beloved Mama' Rosalind Shand died, slowly and in agony, as a result of the disease. Indeed, the Camilla's association with the charity pre-dates her marriage, with the Duchess first getting involved while still Mrs Parker-Bowles. Asked to join forces with the charity while at the height of her infamy, biographer Penny Junor writes that she was initially reluctant, fearing she might do more harm than good, before agreeing to get involved. Although her first attempt at fundraising was curtailed by Princess Diana's tragic death, she never stopped supporting the organisation and still gets involved in events. She has also made a name for herself as a champion of women's rights, becoming deeply involved in the UK's rape crisis centres and making a visit to a local women's refuge part of every international tour. While visiting Colombian capital Bogota last November, she cut a sympathetic figure as she chatted to rape victims over a cup of tea at the Memory, Peace and Reconciliation Center. Having a laugh: Camilla, Harry and Kate share a joke on the balcony of Buckingham Palace in June 2013 . Friendly: The Duchess of Cornwall enjoys a friendly relationship with the Duchess of Cambridge . All smiles: The pair were frequently spotted together during the London 2012 Olympic Games . In Washington last month, the Duchess left Prince Charles to his own devices for a couple of hours while she met detectives working for the District of Colombia's Sexual Assault Response Team. Camilla's increasing confidence has also shown itself in the ensembles she wears, with the frumpy get-ups of old swapped for elegant tailored dresses designed to flatter her still-trim waist. Like the Duchess of Cambridge, she's never far from a delicate cream dress and accessorises nearly everything she wears with one of her trademark five-strand pearl chokers. In the country, she likes tailored tweed suits by Roy Allen, one of her favourite couturiers, cosy coats by Swiss label Moncler and flattering hats by London-based milliner, Lock & Co. But as the Duchess of Cornwall prepares to celebrate her 10th wedding anniversary, it is the sea-change in her family life as much as her public image that ought to leave her smiling. Mirror image: The two also share a similar sense of style - including a penchant for nude pumps . Cheers! Meanwhile Camilla's relationship with Prince Charles has gone from strength to strength . Charm: The Prince spoke glowingly of his wife's 'charm and charisma' in an interview last month . Not only is she close to the Queen, who was once reported as wishing she 'would just go away', Camilla is also adored by Diana's sons William and Harry - as photos of the trio laughing together at the opening ceremony of September's Invictus Games made only too clear. 'Having initially loathed her, the Queen gets on well with Camilla now,' adds the insider. 'She isn't as close to the Queen as Sophie [Countess of Wessex] is but that is partly because the Queen's relationship with Charles is a bit complicated anyway.' What certainly isn't complicated is Camilla's relationship with Charles. Despite such quirks as maintaining separate country homes, after 10 years, the royal couple are closer - and happier - than ever. Born Camilla Rosemary Shand on the 17th July 1947, the Duchess of Cornwall's 67 years have undoubtedly been interesting ones. The daughter of Major Bruce Middleton Hope Shand and his wife Rosalind, the Duchess was born in London but spent much of her childhood in Sussex along with her siblings, Annabel and Mark. According to her biographer Giles Brandreth, her upbringing, although not royal, was certainly a grand one. 'Camilla is often described as having had an \"Enid Blyton sort of Childhood\",' he writes. 'In fact, it was much grander than that. 'The Shands had position and they had help ‚ help in the house, help in the garden, help with children. 'They were gentry. They opened their garden for the local Conservative Party Association summer fte. Enough said.' After a stint at a Swiss finishing school, Camilla burst onto the London social scene as a debutante on the 25th March 1965. But it wasn't all fun, with the future Duchess of Cornwall working as a secretary for a succession of London firms to pay for her Belgravia flat, which she shared with Lady Moyra Campbell. In the late 1960s, Camilla met the man who was to become her first husband, cavalry officer Andrew Parker-Bowles, with the couple dating off and on for several years - with Mr Parker-Bowles striking up a relationship with Princess Anne at one point. Camilla, meanwhile, had struck up a relationship with Prince Charles, who was first introduced to her sometime in 1971. When the couple split following an overseas posting for Charles in 1973, Camilla reconciled with Parker-Bowles and the couple announced their engagement and married the same year. Two children followed. Tom in 1974 and Laura in 1978. But it was her continuing relationship with Prince Charles that would come to define her, with the former couple remaining close friends even after both had married other people. In 1992, claims that the two had remained an item throughout both marriages emerged when Diana: Her True Story was published, followed, a year later by the 'Camillagate' scandal. By 1995, both marriages had come to an end and Charles and Camilla were unofficially back together, with the future Duchess often seen attending events with the prince. Royal acceptance soon followed with the Queen making Camilla part of the Golden Jubilee celebrations in 2002. A year later, the Duchess moved into Clarence House and on the 10th February 2005, Charles and Camilla's engagement was announced. The couple married just under two months later in Windsor, with Camilla taking the title of the Duchess of Cornwall.\n",
      "Generated summary 4: Camilla Parker-Bowles became the Duchess of Cornwall in April. She is now a much-loved member of the Royal Family. She has also become a much-loved member of the Royal Family. She has also become a much-loved member of the Royal Family.\n",
      "----------------------------------------------------------------------------------------------------\n",
      "Input: Fruit juices made from so-called superfoods such as cranberries and pomegranates often have more sugar than a can of cola, officials have warned. While the drinks are said to have health benefits, some brands contain more than a day's recommended intake of sugar in a single 300ml serving. The Local Government Association, which represents councils that are responsible for public health, accused soft drink firms of 'dragging their heels' when it comes to minimising sugar in their products. Ocean Spray Cranberry Classic juice drink (pictured left) was found to have 11g of sugar per 100ml, which is more than the amount in a can of Coca-Cola (right) It said children under the age of ten get almost a fifth of their sugar intake from soft drinks. In a survey, the organisation found that some cans of fizzy drinks contain almost twice the recommended daily sugar limit for adults. Even some fruit juices contain more than a single day's limit in a single serving ‚ surpassing a can of Coca-Cola. Ocean Spray Cranberry Classic juice drink was found to have 11g of sugar per 100ml, while PomeGreat 'Super Juice' had 12.1g. Both exceed the 10.6g per 100ml in a can of Coca-Cola ‚ but do not come close to the 15.1g per 100ml in Old Jamaica Ginger Beer. A 300ml serving of any of the four drinks would breach the 25g daily sugar limit recommended by the World Health Organisation. Juice businesses insisted the study is misleading because it does not differentiate between unhealthy added sugar ‚ such as monosaccharides and disaccharides in fizzy drinks ‚ and natural sugar found in fruit. Cranberry juice is frequently promoted as a health product which is said to ward off urinary tract infections. And pomegranate juice has been linked to resistance to prostate cancer and heart disease. The LGA is calling for a fifth of the VAT raised on sugary drinks, sweets and takeaway food to go to councils to pay for public health schemes. Councillor Izzi Seccombe, Tory leader of Warwickshire county council and chairman of the LGA's Community Wellbeing Board, said: 'It is wholly unacceptable for one normal-sized can of soft drink to contain double the recommended daily limit. 'Products like these are fuelling the obesity crisis and helping wean a generation of overweight children. 'We are calling on the sector as a whole to step up and show more corporate responsibility.' A spokesman for Ocean Spray said cranberries are naturally low in sugar, so sweetening is required. Vitamin Water is promoted for its health benefits, but drinks contain four teaspoons of sugar per 330ml . She added: 'We offer consumers a range of reduced sugar options including our Cranberry Classic Light product . 'We've made and continue to maintain a firm commitment to low-sugar innovation, and through product formulation, price promotion and portion sizes we seek to offer the best choice in flavours, calories and formats.' Adam Pritchard, chief executive of PomeGreat, accused the LGA of distributing misleading research. He said his product does not include refined sugar, which the WHO says is more harmful than naturally occurring fruit sugars. PomeGreat instead includes pinitol, a natural compound which stops blood sugar levels rapidly rising. Mr Pritchard said: 'To lump us in with big fizzy drinks companies is just misleading. 'We are a small company competing with huge multinational businesses which are just chucking sugar into drinks because it is cheap. 'We use a much more healthy natural sweetener which costs 2.5 as much as refined sugar. It is not the same thing.'\n",
      "Generated summary 5: Fruit juices contain more than a day's recommended intake of sugar in a single 300ml serving. Juice firms claim study is misleading because it does not distinguish between unhealthy added sugar and natural sugar found in fruit.\n",
      "----------------------------------------------------------------------------------------------------\n"
     ]
    }
   ],
   "source": [
    "print(\"Output:\\n\" + 100 * '-')\n",
    "for idx, output_sequence in enumerate(original_summaries):\n",
    "    output = T5_base_tokenizer.decode(output_sequence, skip_special_tokens=True)\n",
    "    print(\"Input: {}\".format(sentences[idx]))\n",
    "    print(\"Generated summary {}: {}\".format(idx + 1, output))\n",
    "    print(100 * '-')"
   ]
  },
  {
   "cell_type": "code",
   "execution_count": null,
   "metadata": {},
   "outputs": [],
   "source": []
  },
  {
   "cell_type": "code",
   "execution_count": null,
   "metadata": {},
   "outputs": [],
   "source": []
  },
  {
   "cell_type": "code",
   "execution_count": null,
   "metadata": {},
   "outputs": [],
   "source": []
  },
  {
   "cell_type": "code",
   "execution_count": null,
   "metadata": {},
   "outputs": [],
   "source": []
  },
  {
   "cell_type": "code",
   "execution_count": null,
   "metadata": {},
   "outputs": [],
   "source": []
  }
 ],
 "metadata": {
  "kernelspec": {
   "display_name": "NLP_proj_basic",
   "language": "python",
   "name": "python3"
  },
  "language_info": {
   "codemirror_mode": {
    "name": "ipython",
    "version": 3
   },
   "file_extension": ".py",
   "mimetype": "text/x-python",
   "name": "python",
   "nbconvert_exporter": "python",
   "pygments_lexer": "ipython3",
   "version": "3.11.5"
  }
 },
 "nbformat": 4,
 "nbformat_minor": 2
}
