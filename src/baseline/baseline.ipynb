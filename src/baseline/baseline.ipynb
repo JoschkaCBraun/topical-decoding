{
 "cells": [
  {
   "cell_type": "markdown",
   "metadata": {},
   "source": [
    "# Generate and evaluate the baseline for topical decoding\n",
    "In this notebook we want to generate baseline summaries to benchmark our topical decoding approaches against."
   ]
  },
  {
   "cell_type": "markdown",
   "metadata": {},
   "source": [
    "## Overview\n",
    "\n",
    "0. Set Hyperparameters \n",
    "\n",
    "1. Imports\n",
    "    - 1.1. Import libraries\n",
    "    - 1.2. Import model and tokenizer\n",
    "    - 1.3. Import NEWTS dataset\n",
    "    - 1.4. Import LDA model\n",
    "\n",
    "3. Data preparation\n",
    "\n",
    "4. Generate summaries\n",
    "\n",
    "5. Analyze the summaries"
   ]
  },
  {
   "cell_type": "markdown",
   "metadata": {},
   "source": [
    "# 0. Set Hyperparamters"
   ]
  },
  {
   "cell_type": "code",
   "execution_count": 1,
   "metadata": {},
   "outputs": [],
   "source": [
    "# number of words from topic model to use as features\n",
    "N_TOPIC_WORDS = 20\n",
    "\n",
    "# number of articles for which summaries are generated\n",
    "N_ARTICLES = 2\n",
    "\n",
    "# batch size for generating summaries\n",
    "BATCH_SIZE = 1\n",
    "\n",
    "# number of workers for generating summaries\n",
    "NUM_WORKERS = 0\n",
    "\n",
    "# number of beams for beam search\n",
    "NUM_BEAMS = 1\n",
    "\n",
    "# min length of summary\n",
    "MIN_SUMMARY_LENGTH = 40# set to 80 \n",
    "\n",
    "# max length of summary\n",
    "MAX_SUMMARY_LENGTH = 80 # set to 150"
   ]
  },
  {
   "cell_type": "markdown",
   "metadata": {},
   "source": [
    "# 1. Imports"
   ]
  },
  {
   "cell_type": "code",
   "execution_count": 2,
   "metadata": {},
   "outputs": [],
   "source": [
    "import sys\n",
    "sys.path.append('../..') "
   ]
  },
  {
   "cell_type": "markdown",
   "metadata": {},
   "source": [
    "## 1.1 Import libraries"
   ]
  },
  {
   "cell_type": "code",
   "execution_count": 3,
   "metadata": {},
   "outputs": [
    {
     "name": "stderr",
     "output_type": "stream",
     "text": [
      "2024-03-22 16:55:40,934 - numexpr.utils - INFO - Note: NumExpr detected 12 cores but \"NUMEXPR_MAX_THREADS\" not set, so enforcing safe limit of 8.\n",
      "2024-03-22 16:55:40,934 - numexpr.utils - INFO - NumExpr defaulting to 8 threads.\n"
     ]
    }
   ],
   "source": [
    "import os, json\n",
    "import torch\n",
    "from gensim import corpora\n",
    "import numpy as np\n",
    "from dotenv import load_dotenv\n",
    "import matplotlib.pyplot as plt\n",
    "from torch.nn.utils.rnn import pad_sequence\n",
    "from torch.utils.data import DataLoader, Dataset\n",
    "from utils.topical_evaluations import topic_scores\n",
    "from utils.baseline_utils import generate_baseline_summaries"
   ]
  },
  {
   "cell_type": "code",
   "execution_count": 4,
   "metadata": {},
   "outputs": [
    {
     "data": {
      "text/plain": [
       "<torch._C.Generator at 0x10e692690>"
      ]
     },
     "execution_count": 4,
     "metadata": {},
     "output_type": "execute_result"
    }
   ],
   "source": [
    "# Ensure deterministic behavior\n",
    "torch.manual_seed(0)"
   ]
  },
  {
   "cell_type": "markdown",
   "metadata": {},
   "source": [
    "## 1.2 Import model and tokenizer"
   ]
  },
  {
   "cell_type": "code",
   "execution_count": 5,
   "metadata": {},
   "outputs": [
    {
     "name": "stdout",
     "output_type": "stream",
     "text": [
      "Using device: mps\n"
     ]
    }
   ],
   "source": [
    "device = torch.device(\"mps\" if torch.backends.mps.is_available() else \"cuda\" if torch.cuda.is_available() else \"cpu\")\n",
    "print(f\"Using device: {device}\")"
   ]
  },
  {
   "cell_type": "markdown",
   "metadata": {},
   "source": [
    "# pip install bitsandbytes accelerate\n",
    "from transformers import AutoTokenizer, AutoModelForCausalLM, BitsAndBytesConfig\n",
    "\n",
    "quantization_config = BitsAndBytesConfig(load_in_8bit=True)\n",
    "\n",
    "tokenizer = AutoTokenizer.from_pretrained(\"google/gemma-2b-it\")\n",
    "model = AutoModelForCausalLM.from_pretrained(\"google/gemma-2b-it\", quantization_config=quantization_config)\n",
    "\n",
    "input_text = \"Write me a poem about Machine Learning.\"\n",
    "input_ids = tokenizer(input_text, return_tensors=\"pt\").to(\"cuda\")\n",
    "\n",
    "outputs = model.generate(**input_ids)\n",
    "print(tokenizer.decode(outputs[0]))"
   ]
  },
  {
   "cell_type": "code",
   "execution_count": 6,
   "metadata": {},
   "outputs": [
    {
     "data": {
      "application/vnd.jupyter.widget-view+json": {
       "model_id": "bcc2fd03b9414c52ba74fce21ba2aa5f",
       "version_major": 2,
       "version_minor": 0
      },
      "text/plain": [
       "Loading checkpoint shards:   0%|          | 0/2 [00:00<?, ?it/s]"
      ]
     },
     "metadata": {},
     "output_type": "display_data"
    }
   ],
   "source": [
    "# pip install accelerate\n",
    "# https://huggingface.co/google/gemma-2b-it\n",
    "from transformers import AutoTokenizer, AutoModelForCausalLM\n",
    "\n",
    "HF_AUTH_TOKEN = os.getenv(\"HF_AUTH_TOKEN\")\n",
    "\n",
    "tokenizer = AutoTokenizer.from_pretrained(\"google/gemma-2b-it\", token=HF_AUTH_TOKEN)\n",
    "model = AutoModelForCausalLM.from_pretrained(\"google/gemma-2b-it\", \n",
    "                                             device_map=\"auto\", \n",
    "                                             torch_dtype=torch.float16,\n",
    "                                             token=HF_AUTH_TOKEN).to(device)"
   ]
  },
  {
   "cell_type": "code",
   "execution_count": 7,
   "metadata": {},
   "outputs": [
    {
     "name": "stdout",
     "output_type": "stream",
     "text": [
      "Maximum input token length: 8192\n"
     ]
    }
   ],
   "source": [
    "# Query the maximum input length from the model's configuration\n",
    "max_input_length = model.config.max_position_embeddings\n",
    "print(f\"Maximum input token length: {max_input_length}\")"
   ]
  },
  {
   "cell_type": "code",
   "execution_count": 8,
   "metadata": {},
   "outputs": [
    {
     "name": "stdout",
     "output_type": "stream",
     "text": [
      "1000000000000000019884624838656\n"
     ]
    }
   ],
   "source": [
    "print(tokenizer.model_max_length)\n",
    "# is this normal?"
   ]
  },
  {
   "cell_type": "code",
   "execution_count": 9,
   "metadata": {},
   "outputs": [],
   "source": [
    "# tokenizer.model_max_length = max_input_length"
   ]
  },
  {
   "cell_type": "code",
   "execution_count": 10,
   "metadata": {},
   "outputs": [
    {
     "name": "stdout",
     "output_type": "stream",
     "text": [
      "mps:0\n"
     ]
    }
   ],
   "source": [
    "# Check the device of the model\n",
    "print(next(model.parameters()).device)"
   ]
  },
  {
   "cell_type": "markdown",
   "metadata": {},
   "source": [
    "## 1.3 Import the NEWTS dataset"
   ]
  },
  {
   "cell_type": "code",
   "execution_count": 11,
   "metadata": {},
   "outputs": [
    {
     "name": "stderr",
     "output_type": "stream",
     "text": [
      "2024-03-22 16:55:43,909 - root - INFO - Data directory found at /Users/joschka/Documents/0_Studium/0_ML_Master/0_current_lectures/NLP_practical_project/local_topical_decoding/data.\n",
      "2024-03-22 16:55:43,977 - root - INFO - Successfully loaded NEWTS training set.\n",
      "2024-03-22 16:55:43,978 - root - INFO - Data directory found at /Users/joschka/Documents/0_Studium/0_ML_Master/0_current_lectures/NLP_practical_project/local_topical_decoding/data.\n",
      "2024-03-22 16:55:43,996 - root - INFO - Successfully loaded NEWTS testing set.\n"
     ]
    }
   ],
   "source": [
    "from utils.newts_lda_utils import read_NEWTS_test, read_NEWTS_train\n",
    "\n",
    "# Load the NEWTS training set\n",
    "newts_train = read_NEWTS_train()\n",
    "newts_test = read_NEWTS_test()"
   ]
  },
  {
   "cell_type": "markdown",
   "metadata": {},
   "source": [
    "## 1.4. Import LDA model"
   ]
  },
  {
   "cell_type": "code",
   "execution_count": 12,
   "metadata": {},
   "outputs": [
    {
     "name": "stderr",
     "output_type": "stream",
     "text": [
      "2024-03-22 16:55:44,005 - root - INFO - Data directory found at /Users/joschka/Documents/0_Studium/0_ML_Master/0_current_lectures/NLP_practical_project/local_topical_decoding/data.\n",
      "2024-03-22 16:55:44,005 - gensim.utils - INFO - loading LdaModel object from /Users/joschka/Documents/0_Studium/0_ML_Master/0_current_lectures/NLP_practical_project/local_topical_decoding/data/LDA_250/lda.model\n",
      "2024-03-22 16:55:44,113 - gensim.utils - INFO - loading id2word recursively from /Users/joschka/Documents/0_Studium/0_ML_Master/0_current_lectures/NLP_practical_project/local_topical_decoding/data/LDA_250/lda.model.id2word.* with mmap=r\n",
      "2024-03-22 16:55:44,114 - gensim.utils - INFO - loading expElogbeta from /Users/joschka/Documents/0_Studium/0_ML_Master/0_current_lectures/NLP_practical_project/local_topical_decoding/data/LDA_250/lda.model.expElogbeta.npy with mmap=r\n",
      "2024-03-22 16:55:44,119 - gensim.utils - INFO - setting ignored attribute state to None\n",
      "2024-03-22 16:55:44,119 - gensim.utils - INFO - setting ignored attribute dispatcher to None\n",
      "2024-03-22 16:55:44,120 - gensim.utils - INFO - LdaModel lifecycle event {'fname': '/Users/joschka/Documents/0_Studium/0_ML_Master/0_current_lectures/NLP_practical_project/local_topical_decoding/data/LDA_250/lda.model', 'datetime': '2024-03-22T16:55:44.120067', 'gensim': '4.3.0', 'python': '3.11.5 (main, Sep 11 2023, 08:31:25) [Clang 14.0.6 ]', 'platform': 'macOS-14.4-arm64-arm-64bit', 'event': 'loaded'}\n",
      "2024-03-22 16:55:44,120 - root - WARNING - random_state not set so using default value\n",
      "2024-03-22 16:55:44,120 - root - INFO - dtype was not set in saved LdaModel file /Users/joschka/Documents/0_Studium/0_ML_Master/0_current_lectures/NLP_practical_project/local_topical_decoding/data/LDA_250/lda.model, assuming np.float64\n",
      "2024-03-22 16:55:44,120 - gensim.utils - INFO - loading LdaState object from /Users/joschka/Documents/0_Studium/0_ML_Master/0_current_lectures/NLP_practical_project/local_topical_decoding/data/LDA_250/lda.model.state\n",
      "2024-03-22 16:55:44,121 - gensim.utils - INFO - loading sstats from /Users/joschka/Documents/0_Studium/0_ML_Master/0_current_lectures/NLP_practical_project/local_topical_decoding/data/LDA_250/lda.model.state.sstats.npy with mmap=r\n",
      "2024-03-22 16:55:44,121 - gensim.utils - INFO - LdaState lifecycle event {'fname': '/Users/joschka/Documents/0_Studium/0_ML_Master/0_current_lectures/NLP_practical_project/local_topical_decoding/data/LDA_250/lda.model.state', 'datetime': '2024-03-22T16:55:44.121834', 'gensim': '4.3.0', 'python': '3.11.5 (main, Sep 11 2023, 08:31:25) [Clang 14.0.6 ]', 'platform': 'macOS-14.4-arm64-arm-64bit', 'event': 'loaded'}\n",
      "2024-03-22 16:55:44,122 - root - INFO - dtype was not set in saved LdaState file /Users/joschka/Documents/0_Studium/0_ML_Master/0_current_lectures/NLP_practical_project/local_topical_decoding/data/LDA_250/lda.model.state, assuming np.float64\n",
      "2024-03-22 16:55:44,122 - gensim.utils - INFO - loading Dictionary object from /Users/joschka/Documents/0_Studium/0_ML_Master/0_current_lectures/NLP_practical_project/local_topical_decoding/data/LDA_250/dictionary.dic\n",
      "2024-03-22 16:55:44,234 - gensim.utils - INFO - Dictionary lifecycle event {'fname': '/Users/joschka/Documents/0_Studium/0_ML_Master/0_current_lectures/NLP_practical_project/local_topical_decoding/data/LDA_250/dictionary.dic', 'datetime': '2024-03-22T16:55:44.234513', 'gensim': '4.3.0', 'python': '3.11.5 (main, Sep 11 2023, 08:31:25) [Clang 14.0.6 ]', 'platform': 'macOS-14.4-arm64-arm-64bit', 'event': 'loaded'}\n",
      "2024-03-22 16:55:44,234 - root - INFO - Successfully loaded the LDA model and dictionary.\n"
     ]
    }
   ],
   "source": [
    "from utils.newts_lda_utils import read_LDA, get_topic_words\n",
    "\n",
    "# Load the LDA model and dictionary\n",
    "lda, dictionary = read_LDA()\n",
    "# Warning \"WARNING:root:random_state not set so using default value\" is inconsequential for inference"
   ]
  },
  {
   "cell_type": "markdown",
   "metadata": {},
   "source": [
    "# 2. Data Preparation\n",
    "## 2.1 Prepare NEWTS dataset for efficient summary generation"
   ]
  },
  {
   "cell_type": "code",
   "execution_count": 13,
   "metadata": {},
   "outputs": [],
   "source": [
    "class NEWTSDataset(Dataset):\n",
    "    def __init__(self, dataframe):\n",
    "        \"\"\"\n",
    "        Initializes the dataset with a dataframe containing articles and their topic IDs.\n",
    "        \n",
    "        :param dataframe: A Pandas DataFrame containing columns 'article', 'tid1', and 'tid2'.\n",
    "        \"\"\"\n",
    "        self.data = dataframe\n",
    "\n",
    "    def __len__(self):\n",
    "        \"\"\"\n",
    "        Returns the total number of articles in the dataset.\n",
    "        \"\"\"\n",
    "        return len(self.data)\n",
    "    \n",
    "    def __getitem__(self, idx):\n",
    "        \"\"\"\n",
    "        Retrieves an article and its associated topic IDs by index.\n",
    "        \n",
    "        :param idx: Index of the article to retrieve.\n",
    "        :return: A dictionary containing the article text and its two topic IDs.\n",
    "        \"\"\"\n",
    "        article_text = self.data.iloc[idx]['article']\n",
    "        tid1 = self.data.iloc[idx]['tid1']\n",
    "        tid2 = self.data.iloc[idx]['tid2']\n",
    "        \n",
    "        return {\n",
    "            \"article_text\": article_text,\n",
    "            \"tid1\": tid1,\n",
    "            \"tid2\": tid2\n",
    "        }"
   ]
  },
  {
   "cell_type": "code",
   "execution_count": 14,
   "metadata": {},
   "outputs": [],
   "source": [
    "# Create the dataset\n",
    "newts_dataset = NEWTSDataset(dataframe=newts_train)"
   ]
  },
  {
   "cell_type": "code",
   "execution_count": 15,
   "metadata": {},
   "outputs": [],
   "source": [
    "# Create the dataloader\n",
    "dataloader = DataLoader(newts_dataset, batch_size=BATCH_SIZE, shuffle=False, num_workers=NUM_WORKERS)"
   ]
  },
  {
   "cell_type": "markdown",
   "metadata": {},
   "source": [
    "# 3. Generate Summaries"
   ]
  },
  {
   "cell_type": "code",
   "execution_count": 16,
   "metadata": {},
   "outputs": [],
   "source": [
    "import gc\n",
    "# If device is MPS, consider doing this after significant model operations\n",
    "if device.type == 'mps':\n",
    "    gc.collect()"
   ]
  },
  {
   "cell_type": "code",
   "execution_count": 17,
   "metadata": {},
   "outputs": [],
   "source": [
    "# Generate summaries with the adjusted function\n",
    "summaries = generate_baseline_summaries(dataloader=dataloader, model=model, tokenizer=tokenizer, \n",
    "                                        device=device, lda=lda, n_articles=N_ARTICLES, \n",
    "                                        n_topic_words=N_TOPIC_WORDS, min_new_tokens=MIN_SUMMARY_LENGTH,\n",
    "                                        max_new_tokens=MAX_SUMMARY_LENGTH, num_beams=NUM_BEAMS)"
   ]
  },
  {
   "cell_type": "code",
   "execution_count": 18,
   "metadata": {},
   "outputs": [
    {
     "name": "stdout",
     "output_type": "stream",
     "text": [
      "<class 'list'>\n",
      "2\n",
      "<class 'dict'>\n",
      "dict_keys(['tid1', 'tid2', 'no_focus', 'tid1_focus', 'tid2_focus'])\n",
      "\n",
      "\n",
      "Sure, here's a summary of the article:\n",
      "\n",
      "The World Bank's president, Jim Yong Kim, has warned the United States that it is days away from a dangerous moment due to the ongoing standoff over the debt ceiling. Failure to reach a resolution could result in interest rate hikes, falling confidence, and slowing growth. The US Treasury Secretary, Jacob Lew, has expressed concern that the\n"
     ]
    }
   ],
   "source": [
    "print(type(summaries))\n",
    "print(len(summaries))\n",
    "print(type(summaries[0]))\n",
    "print(summaries[0].keys())\n",
    "print(summaries[0]['no_focus'])"
   ]
  },
  {
   "cell_type": "code",
   "execution_count": 19,
   "metadata": {},
   "outputs": [
    {
     "name": "stdout",
     "output_type": "stream",
     "text": [
      "Summaries for Article 0:\n",
      "\n",
      "Focus: tid1\n",
      "175\n",
      "\n",
      "Focus: tid2\n",
      "110\n",
      "\n",
      "Focus: no_focus\n",
      "\n",
      "\n",
      "Sure, here's a summary of the article:\n",
      "\n",
      "The World Bank's president, Jim Yong Kim, has warned the United States that it is days away from a dangerous moment due to the ongoing standoff over the debt ceiling. Failure to reach a resolution could result in interest rate hikes, falling confidence, and slowing growth. The US Treasury Secretary, Jacob Lew, has expressed concern that the\n",
      "\n",
      "Focus: tid1_focus\n",
      "\n",
      "\n",
      "The article discusses the dire situation the US is facing due to the standoff over the debt ceiling. The World Bank's President Jim Yong Kim warns that the US is days away from a dangerous moment and that inaction could result in devastating consequences for the developing world. The IMF's Managing Director, Tharman Shanmugaratnam, also expressed concerns about the US economy and the global economy.\n",
      "\n",
      "Focus: tid2_focus\n",
      "\n",
      "\n",
      "The World Bank's president warned that the US was just days away from causing a global economic disaster unless politicians come up with a plan to raise the nation's debt limit and avoid default. The US Treasury Secretary has warned that he will exhaust his borrowing authority on Thursday and the government will face the prospect of default on its debt unless Congress raises the $16.7 trillion borrowing limit.\n",
      "\n",
      "==================================================\n",
      "\n",
      "Summaries for Article 1:\n",
      "\n",
      "Focus: tid1\n",
      "152\n",
      "\n",
      "Focus: tid2\n",
      "217\n",
      "\n",
      "Focus: no_focus\n",
      "\n",
      "\n",
      "Sure, here's a summary of the article:\n",
      "\n",
      "The article highlights Manchester City as the highest-paid sports team globally, with an average first-team pay of £5.3m a year. This surpasses the earnings of teams like Liverpool, Chelsea, Arsenal, and Manchester United. The report also reveals that City's owner, Sheik Mansour, has invested significant resources in the\n",
      "\n",
      "Focus: tid1_focus\n",
      "\n",
      "\n",
      "Manchester City are the best-paid sports team in the world, with average first-team pay a whopping £5.3m a year, or £102,653 per week according to a new report that compares global earnings in the most popular leagues.\n",
      "\n",
      "Focus: tid2_focus\n",
      "\n",
      "\n",
      "Manchester City are the best-paid sports team in the world, with average first-team pay a whopping £5.3m a year, or £102,653 per week according to a new report that compares global earnings in the most popular leagues.\n",
      "\n",
      "==================================================\n",
      "\n"
     ]
    }
   ],
   "source": [
    "for article_idx, article_summaries in enumerate(summaries):\n",
    "    print(f\"Summaries for Article {article_idx}:\")\n",
    "    for focus_type, summary_text in article_summaries.items():\n",
    "        print(f\"\\nFocus: {focus_type}\")\n",
    "        print(summary_text)\n",
    "    print(\"\\n\" + \"=\"*50 + \"\\n\")"
   ]
  },
  {
   "cell_type": "code",
   "execution_count": 20,
   "metadata": {},
   "outputs": [],
   "source": [
    "# Assuming 'summaries' is a list of dictionaries containing the summaries\n",
    "# Convert the summaries to JSON format\n",
    "json_summaries = json.dumps(summaries, indent=4)  # Added indent for pretty-printing\n",
    "\n",
    "# Define the path to the data directory (relative to the current notebook's location)\n",
    "data_dir = os.path.join(os.path.dirname(os.path.dirname(os.getcwd())), 'data/outputs')\n",
    "\n",
    "# Ensure the data directory exists\n",
    "os.makedirs(data_dir, exist_ok=True)\n",
    "\n",
    "# Define the full path to the summaries JSON file\n",
    "summaries_file_path = os.path.join(data_dir, 'summaries.json')\n",
    "\n",
    "# Save the JSON object to a file\n",
    "with open(summaries_file_path, 'w') as f:\n",
    "    f.write(json_summaries)"
   ]
  },
  {
   "cell_type": "code",
   "execution_count": 21,
   "metadata": {},
   "outputs": [],
   "source": [
    "# Define the path to the data directory (relative to the current notebook's location)\n",
    "data_dir = os.path.join(os.path.dirname(os.path.dirname(os.getcwd())), 'data/outputs')\n",
    "\n",
    "# Define the full path to the summaries JSON file\n",
    "summaries_file_path = os.path.join(data_dir, 'summaries.json')\n",
    "\n",
    "# Read the JSON object from the file\n",
    "with open(summaries_file_path, 'r') as f:\n",
    "    summaries_from_json = json.load(f)"
   ]
  },
  {
   "cell_type": "markdown",
   "metadata": {},
   "source": [
    "# 4. Analyse the summaries"
   ]
  },
  {
   "cell_type": "markdown",
   "metadata": {},
   "source": [
    "## Calculate the Topic Scores"
   ]
  },
  {
   "cell_type": "code",
   "execution_count": 22,
   "metadata": {},
   "outputs": [],
   "source": [
    "def calculate_topic_scores_for_all_summaries(summaries, lda, method=\"lemmatize\", dictionary=None):\n",
    "    \"\"\"\n",
    "    Calculate topic scores for the three types of summaries for both tid1 and tid2.\n",
    "    \n",
    "    :param summaries: List of dictionaries, each containing summaries for an article and its topic IDs.\n",
    "    :param lda: The LDA model to use for calculating topic scores.\n",
    "    :param method: Method used for text processing before calculating topic scores.\n",
    "    :param dictionary: Dictionary used for LDA model.\n",
    "    :return: Dictionary of scores categorized by focus type and topic ID.\n",
    "    \"\"\"\n",
    "\n",
    "    scores = {\n",
    "        \"no_focus\": {\"tid1\": [], \"tid2\": []},\n",
    "        \"tid1_focus\": {\"tid1\": [], \"tid2\": []},\n",
    "        \"tid2_focus\": {\"tid1\": [], \"tid2\": []}\n",
    "    }\n",
    "    \n",
    "    for summary_info in summaries:\n",
    "        tid1 = summary_info[\"tid1\"]\n",
    "        tid2 = summary_info[\"tid2\"]\n",
    "        tid1 = int(tid1)\n",
    "        tid2 = int(tid2)\n",
    "        \n",
    "        for focus in [\"no_focus\", \"tid1_focus\", \"tid2_focus\"]:\n",
    "            summary_text = summary_info[focus]\n",
    "            # Calculate topic scores for tid1 and tid2\n",
    "            score_tid1 = topic_scores(documents=[summary_text], lda=lda, tids=[tid1], method=method, dictionary=dictionary)[0]\n",
    "            score_tid2 = topic_scores(documents=[summary_text], lda=lda, tids=[tid2], method=method, dictionary=dictionary)[0]\n",
    "            \n",
    "            # Store the scores\n",
    "            scores[focus][\"tid1\"].append(score_tid1)\n",
    "            scores[focus][\"tid2\"].append(score_tid2)\n",
    "    \n",
    "    return scores\n"
   ]
  },
  {
   "cell_type": "code",
   "execution_count": 23,
   "metadata": {},
   "outputs": [],
   "source": [
    "# Calculate topic scores for all summaries\n",
    "scores = calculate_topic_scores_for_all_summaries(summaries, lda, method=\"lemmatize\", dictionary=dictionary)"
   ]
  },
  {
   "cell_type": "code",
   "execution_count": 24,
   "metadata": {},
   "outputs": [],
   "source": [
    "def plot_topic_scores(scores, title):\n",
    "    \"\"\"\n",
    "    Plot the average topic scores for tid1 and tid2, with improved labeling and ordering.\n",
    "\n",
    "    :param scores: A dictionary with keys as focus types and values as dictionaries containing 'tid1' and 'tid2' scores.\n",
    "    :param title: The title for the plot.\n",
    "    \"\"\"\n",
    "    # Ordering and labeling adjustments\n",
    "    focus_order = ['tid1_focus', 'no_focus', 'tid2_focus']  # Define the order\n",
    "    focus_labels = ['TID1 Focus', 'No Focus', 'TID2 Focus']  # Human-readable labels\n",
    "    \n",
    "    # Calculate average scores for tid1 and tid2 according to the defined order\n",
    "    avg_scores_tid1 = [np.mean(scores[focus]['tid1']) for focus in focus_order]\n",
    "    avg_scores_tid2 = [np.mean(scores[focus]['tid2']) for focus in focus_order]\n",
    "    \n",
    "    x = np.arange(len(focus_order))  # the label locations\n",
    "    width = 0.35  # the width of the bars\n",
    "\n",
    "    fig, ax = plt.subplots()\n",
    "    rects1 = ax.bar(x - width/2, avg_scores_tid1, width, label='TID1')\n",
    "    rects2 = ax.bar(x + width/2, avg_scores_tid2, width, label='TID2')\n",
    "\n",
    "    # Add some text for labels, title, and custom x-axis tick labels\n",
    "    ax.set_xlabel('Summary Type')\n",
    "    ax.set_ylabel('Scores')\n",
    "    ax.set_title(title)\n",
    "    ax.set_xticks(x)\n",
    "    ax.set_xticklabels(focus_labels)\n",
    "    ax.legend()\n",
    "\n",
    "    fig.tight_layout()\n",
    "\n",
    "    plt.show()\n"
   ]
  },
  {
   "cell_type": "code",
   "execution_count": 25,
   "metadata": {},
   "outputs": [
    {
     "data": {
      "image/png": "[encoded data removed]",
      "text/plain": [
       "<Figure size 640x480 with 1 Axes>"
      ]
     },
     "metadata": {},
     "output_type": "display_data"
    }
   ],
   "source": [
    "# Plot the scores for tid1 and tid2\n",
    "plot_topic_scores(scores, 'Comparison of Topic Scores for Tid1 and Tid2')"
   ]
  },
  {
   "cell_type": "code",
   "execution_count": 26,
   "metadata": {},
   "outputs": [],
   "source": [
    "from rouge_score import rouge_scorer\n",
    "\n",
    "def compute_rouge_scores(generated_summary, reference_summary):\n",
    "    \"\"\"\n",
    "    Compute ROUGE-1, ROUGE-2, and ROUGE-L scores between a generated summary and a reference summary.\n",
    "    \n",
    "    :param generated_summary: The generated summary text.\n",
    "    :param reference_summary: The reference summary text.\n",
    "    :return: A dictionary with keys 'rouge1', 'rouge2', and 'rougeL' and values as the corresponding scores.\n",
    "    \"\"\"\n",
    "    scorer = rouge_scorer.RougeScorer(['rouge1', 'rouge2', 'rougeL'], use_stemmer=True)\n",
    "    scores = scorer.score(reference_summary, generated_summary)\n",
    "    \n",
    "    # Extract F1 scores for simplicity\n",
    "    results = {key: score.fmeasure for key, score in scores.items()}\n",
    "    return results\n"
   ]
  },
  {
   "cell_type": "code",
   "execution_count": 27,
   "metadata": {},
   "outputs": [
    {
     "name": "stderr",
     "output_type": "stream",
     "text": [
      "2024-03-22 16:56:25,733 - absl - INFO - Using default tokenizer.\n",
      "2024-03-22 16:56:25,735 - absl - INFO - Using default tokenizer.\n",
      "2024-03-22 16:56:25,737 - absl - INFO - Using default tokenizer.\n",
      "2024-03-22 16:56:25,739 - absl - INFO - Using default tokenizer.\n",
      "2024-03-22 16:56:25,740 - absl - INFO - Using default tokenizer.\n",
      "2024-03-22 16:56:25,742 - absl - INFO - Using default tokenizer.\n",
      "2024-03-22 16:56:25,744 - absl - INFO - Using default tokenizer.\n",
      "2024-03-22 16:56:25,745 - absl - INFO - Using default tokenizer.\n",
      "2024-03-22 16:56:25,747 - absl - INFO - Using default tokenizer.\n",
      "2024-03-22 16:56:25,748 - absl - INFO - Using default tokenizer.\n",
      "2024-03-22 16:56:25,749 - absl - INFO - Using default tokenizer.\n",
      "2024-03-22 16:56:25,750 - absl - INFO - Using default tokenizer.\n"
     ]
    }
   ],
   "source": [
    "rouge_scores = []\n",
    "\n",
    "# Assuming 'summaries' is your list of generated summaries for each article\n",
    "for idx, summaries_for_article in enumerate(summaries):\n",
    "    # Fetch reference summaries from newts_train by index\n",
    "    # Ensure 'newts_train' is a DataFrame and its order corresponds to 'summaries'\n",
    "    reference_summary1 = newts_train.iloc[idx]['summary1']\n",
    "    reference_summary2 = newts_train.iloc[idx]['summary2']\n",
    "    \n",
    "    article_rouge_scores = {}\n",
    "    \n",
    "    for summary_type in ['no_focus', 'tid1_focus', 'tid2_focus']:\n",
    "        generated_summary = summaries_for_article[summary_type]\n",
    "        \n",
    "        # Compute ROUGE scores against both reference summaries\n",
    "        article_rouge_scores[summary_type] = {\n",
    "            'summary1': compute_rouge_scores(generated_summary, reference_summary1),\n",
    "            'summary2': compute_rouge_scores(generated_summary, reference_summary2)\n",
    "        }\n",
    "    \n",
    "    rouge_scores.append(article_rouge_scores)"
   ]
  },
  {
   "cell_type": "code",
   "execution_count": 28,
   "metadata": {},
   "outputs": [],
   "source": [
    "def plot_rouge_scores(rouge_scores):\n",
    "    \"\"\"\n",
    "    Plot simplified ROUGE scores for each summary type, showing averaged scores for comparison against summary1 and summary2.\n",
    "    \n",
    "    :param rouge_scores: The computed ROUGE scores, structured as a list of dictionaries.\n",
    "    \"\"\"\n",
    "    summary_types = ['tid1_focus', 'no_focus', 'tid2_focus']\n",
    "    metrics = ['rouge1', 'rouge2', 'rougeL']\n",
    "    colors = ['#1f77b4', '#ff7f0e']  # Different color for each reference summary\n",
    "    \n",
    "    # Initialize lists to hold averaged scores for each reference summary\n",
    "    scores_summary1 = []\n",
    "    scores_summary2 = []\n",
    "    \n",
    "    for stype in summary_types:\n",
    "        rouge1_avg = np.mean([np.mean([article_scores[stype]['summary1'][metric] for metric in metrics]) for article_scores in rouge_scores])\n",
    "        rouge2_avg = np.mean([np.mean([article_scores[stype]['summary2'][metric] for metric in metrics]) for article_scores in rouge_scores])\n",
    "        \n",
    "        scores_summary1.append(rouge1_avg)\n",
    "        scores_summary2.append(rouge2_avg)\n",
    "    \n",
    "    x = np.arange(len(summary_types))  # the label locations\n",
    "    width = 0.35  # the width of the bars\n",
    "    \n",
    "    fig, ax = plt.subplots()\n",
    "    rects1 = ax.bar(x - width/2, scores_summary1, width, label='Summary1', color=colors[0])\n",
    "    rects2 = ax.bar(x + width/2, scores_summary2, width, label='Summary2', color=colors[1])\n",
    "\n",
    "    # Add some text for labels, title, and custom x-axis tick labels\n",
    "    ax.set_ylabel('Average ROUGE Scores')\n",
    "    ax.set_title('Average ROUGE Scores by Summary Type and Reference')\n",
    "    ax.set_xticks(x)\n",
    "    ax.set_xticklabels(['TID1 Focus', 'No Focus', 'TID2 Focus'])\n",
    "    ax.legend()\n",
    "\n",
    "    fig.tight_layout()\n",
    "    plt.show()\n"
   ]
  },
  {
   "cell_type": "code",
   "execution_count": 29,
   "metadata": {},
   "outputs": [
    {
     "data": {
      "image/png": "[encoded data removed]",
      "text/plain": [
       "<Figure size 640x480 with 1 Axes>"
      ]
     },
     "metadata": {},
     "output_type": "display_data"
    }
   ],
   "source": [
    "plot_rouge_scores(rouge_scores)"
   ]
  }
 ],
 "metadata": {
  "kernelspec": {
   "display_name": "NLP_proj_basic",
   "language": "python",
   "name": "python3"
  },
  "language_info": {
   "codemirror_mode": {
    "name": "ipython",
    "version": 3
   },
   "file_extension": ".py",
   "mimetype": "text/x-python",
   "name": "python",
   "nbconvert_exporter": "python",
   "pygments_lexer": "ipython3",
   "version": "3.11.5"
  }
 },
 "nbformat": 4,
 "nbformat_minor": 2
}
