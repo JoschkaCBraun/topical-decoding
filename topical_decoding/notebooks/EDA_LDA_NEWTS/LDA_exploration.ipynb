{
 "cells": [
  {
   "cell_type": "markdown",
   "metadata": {},
   "source": [
    "# LDA Exploration Notebook\n",
    "In this notebook, we will explore the LDA model associated with the NEWTS dataset"
   ]
  },
  {
   "cell_type": "markdown",
   "metadata": {},
   "source": [
    "## Import the required libraries"
   ]
  },
  {
   "cell_type": "code",
   "execution_count": 1,
   "metadata": {},
   "outputs": [],
   "source": [
    "import sys\n",
    "sys.path.append('../..') "
   ]
  },
  {
   "cell_type": "markdown",
   "metadata": {},
   "source": [
    "## Import LDA"
   ]
  },
  {
   "cell_type": "code",
   "execution_count": 2,
   "metadata": {},
   "outputs": [
    {
     "name": "stderr",
     "output_type": "stream",
     "text": [
      "2024-04-08 11:47:06,985 - INFO - Data directory found at /Users/joschka/Documents/0_Studium/0_ML_Master/0_current_lectures/NLP_practical_project/local_topical_decoding/data.\n",
      "2024-04-08 11:47:06,985 - INFO - loading LdaModel object from /Users/joschka/Documents/0_Studium/0_ML_Master/0_current_lectures/NLP_practical_project/local_topical_decoding/data/LDA_250/lda.model\n",
      "2024-04-08 11:47:07,096 - INFO - loading id2word recursively from /Users/joschka/Documents/0_Studium/0_ML_Master/0_current_lectures/NLP_practical_project/local_topical_decoding/data/LDA_250/lda.model.id2word.* with mmap=r\n",
      "2024-04-08 11:47:07,096 - INFO - loading expElogbeta from /Users/joschka/Documents/0_Studium/0_ML_Master/0_current_lectures/NLP_practical_project/local_topical_decoding/data/LDA_250/lda.model.expElogbeta.npy with mmap=r\n",
      "2024-04-08 11:47:07,102 - INFO - setting ignored attribute state to None\n",
      "2024-04-08 11:47:07,102 - INFO - setting ignored attribute dispatcher to None\n",
      "2024-04-08 11:47:07,102 - INFO - LdaModel lifecycle event {'fname': '/Users/joschka/Documents/0_Studium/0_ML_Master/0_current_lectures/NLP_practical_project/local_topical_decoding/data/LDA_250/lda.model', 'datetime': '2024-04-08T11:47:07.102840', 'gensim': '4.3.0', 'python': '3.11.5 (main, Sep 11 2023, 08:31:25) [Clang 14.0.6 ]', 'platform': 'macOS-14.4.1-arm64-arm-64bit', 'event': 'loaded'}\n",
      "2024-04-08 11:47:07,103 - WARNING - random_state not set so using default value\n",
      "2024-04-08 11:47:07,103 - INFO - dtype was not set in saved LdaModel file /Users/joschka/Documents/0_Studium/0_ML_Master/0_current_lectures/NLP_practical_project/local_topical_decoding/data/LDA_250/lda.model, assuming np.float64\n",
      "2024-04-08 11:47:07,103 - INFO - loading LdaState object from /Users/joschka/Documents/0_Studium/0_ML_Master/0_current_lectures/NLP_practical_project/local_topical_decoding/data/LDA_250/lda.model.state\n",
      "2024-04-08 11:47:07,104 - INFO - loading sstats from /Users/joschka/Documents/0_Studium/0_ML_Master/0_current_lectures/NLP_practical_project/local_topical_decoding/data/LDA_250/lda.model.state.sstats.npy with mmap=r\n",
      "2024-04-08 11:47:07,105 - INFO - LdaState lifecycle event {'fname': '/Users/joschka/Documents/0_Studium/0_ML_Master/0_current_lectures/NLP_practical_project/local_topical_decoding/data/LDA_250/lda.model.state', 'datetime': '2024-04-08T11:47:07.105220', 'gensim': '4.3.0', 'python': '3.11.5 (main, Sep 11 2023, 08:31:25) [Clang 14.0.6 ]', 'platform': 'macOS-14.4.1-arm64-arm-64bit', 'event': 'loaded'}\n",
      "2024-04-08 11:47:07,105 - INFO - dtype was not set in saved LdaState file /Users/joschka/Documents/0_Studium/0_ML_Master/0_current_lectures/NLP_practical_project/local_topical_decoding/data/LDA_250/lda.model.state, assuming np.float64\n",
      "2024-04-08 11:47:07,105 - INFO - loading Dictionary object from /Users/joschka/Documents/0_Studium/0_ML_Master/0_current_lectures/NLP_practical_project/local_topical_decoding/data/LDA_250/dictionary.dic\n",
      "2024-04-08 11:47:07,212 - INFO - Dictionary lifecycle event {'fname': '/Users/joschka/Documents/0_Studium/0_ML_Master/0_current_lectures/NLP_practical_project/local_topical_decoding/data/LDA_250/dictionary.dic', 'datetime': '2024-04-08T11:47:07.212465', 'gensim': '4.3.0', 'python': '3.11.5 (main, Sep 11 2023, 08:31:25) [Clang 14.0.6 ]', 'platform': 'macOS-14.4.1-arm64-arm-64bit', 'event': 'loaded'}\n",
      "2024-04-08 11:47:07,212 - INFO - Successfully loaded the LDA model and dictionary.\n"
     ]
    }
   ],
   "source": [
    "from utils.newts_lda_utils import read_LDA, get_topic_words\n",
    "\n",
    "# Load the LDA model and dictionary\n",
    "lda, dictionary = read_LDA()\n",
    "# Warning \"WARNING:root:random_state not set so using default value\" is inconsequential for inference"
   ]
  },
  {
   "cell_type": "markdown",
   "metadata": {},
   "source": [
    "## Explore dictionary\n",
    "The dictionary is a Gensim's Dictionary object which is a mapping between words and their integer ids and much more information"
   ]
  },
  {
   "cell_type": "code",
   "execution_count": 3,
   "metadata": {},
   "outputs": [
    {
     "name": "stdout",
     "output_type": "stream",
     "text": [
      "Object type of dictionary: <class 'gensim.corpora.dictionary.Dictionary'>\n"
     ]
    }
   ],
   "source": [
    "print(f\"Object type of dictionary: {type(dictionary)}\")"
   ]
  },
  {
   "cell_type": "code",
   "execution_count": 4,
   "metadata": {},
   "outputs": [
    {
     "name": "stdout",
     "output_type": "stream",
     "text": [
      "Number of unique tokens: 434592\n",
      "Number of documents used to train: 287113\n"
     ]
    }
   ],
   "source": [
    "# print basic info about the dictionary\n",
    "print(f\"Number of unique tokens: {len(dictionary)}\")\n",
    "print(f\"Number of documents used to train: {dictionary.num_docs}\")"
   ]
  },
  {
   "cell_type": "code",
   "execution_count": 5,
   "metadata": {},
   "outputs": [
    {
     "name": "stdout",
     "output_type": "stream",
     "text": [
      "Most common tokens:\n",
      "rrb: 190675\n",
      "lrb: 190543\n",
      "people: 139627\n",
      "left: 108363\n",
      "cnn: 83572\n",
      "including: 80069\n",
      "family: 75770\n",
      "video: 74566\n",
      "life: 74157\n",
      "work: 73720\n"
     ]
    }
   ],
   "source": [
    "# Most common tokens\n",
    "most_common_tokens = sorted(dictionary.dfs.items(), key=lambda x: x[1], reverse=True)[:10]\n",
    "print(\"Most common tokens:\")\n",
    "for token_id, freq in most_common_tokens:\n",
    "    print(f\"{dictionary.get(token_id)}: {freq}\")"
   ]
  },
  {
   "cell_type": "markdown",
   "metadata": {},
   "source": [
    "\"rrb\" probably stands for right round bracket \"(\" and \"lrb\" for left round bracket \")\". "
   ]
  },
  {
   "cell_type": "code",
   "execution_count": 6,
   "metadata": {},
   "outputs": [
    {
     "name": "stdout",
     "output_type": "stream",
     "text": [
      "\n",
      "Rare tokens:\n",
      "babineau: 1\n",
      "vichada: 1\n",
      "m136: 1\n",
      "casciato: 1\n",
      "batna: 1\n",
      "iapv: 1\n",
      "bekham: 1\n",
      "ewerthon: 1\n",
      "tanktops: 1\n",
      "moncier: 1\n"
     ]
    }
   ],
   "source": [
    "# Rare tokens\n",
    "rare_tokens = sorted(dictionary.dfs.items(), key=lambda x: x[1], reverse=False)[:10]\n",
    "print(\"\\nRare tokens:\")\n",
    "for token_id, freq in rare_tokens:\n",
    "    print(f\"{dictionary.get(token_id)}: {freq}\")"
   ]
  },
  {
   "cell_type": "code",
   "execution_count": 7,
   "metadata": {},
   "outputs": [
    {
     "name": "stdout",
     "output_type": "stream",
     "text": [
      "\n",
      "Token to ID mapping (sample):\n",
      "ID 0: Token 'shoes'\n",
      "ID 1: Token 'welcomed'\n",
      "ID 2: Token 'money'\n",
      "ID 3: Token 'saves'\n",
      "ID 4: Token 'ninth'\n",
      "ID 5: Token 'shouts'\n",
      "ID 6: Token 'arrests'\n",
      "ID 7: Token 'determine'\n",
      "ID 8: Token 'follow'\n",
      "ID 9: Token 'police'\n"
     ]
    }
   ],
   "source": [
    "# Token to ID mapping\n",
    "print(\"\\nToken to ID mapping (sample):\")\n",
    "for token_id in range(10):\n",
    "    print(f\"ID {token_id}: Token '{dictionary.get(token_id)}'\")"
   ]
  },
  {
   "cell_type": "code",
   "execution_count": 8,
   "metadata": {},
   "outputs": [
    {
     "name": "stdout",
     "output_type": "stream",
     "text": [
      "\n",
      "Document Frequency of tokens (sample):\n",
      "Token 'shoes': Document Frequency 4818\n",
      "Token 'welcomed': Document Frequency 4402\n",
      "Token 'money': Document Frequency 39355\n",
      "Token 'saves': Document Frequency 1230\n",
      "Token 'ninth': Document Frequency 2238\n",
      "Token 'shouts': Document Frequency 896\n",
      "Token 'arrests': Document Frequency 4668\n",
      "Token 'determine': Document Frequency 8255\n",
      "Token 'follow': Document Frequency 15531\n",
      "Token 'police': Document Frequency 68329\n"
     ]
    }
   ],
   "source": [
    "# Document frequency of tokens\n",
    "print(\"\\nDocument Frequency of tokens (sample):\")\n",
    "for token_id in range(10):\n",
    "    print(f\"Token '{dictionary.get(token_id)}': Document Frequency {dictionary.dfs[token_id]}\")\n"
   ]
  },
  {
   "cell_type": "markdown",
   "metadata": {},
   "source": [
    "## Explore the LDA model\n",
    "The LDA is a Gensim's lda model object. It has a number of useful methods and attributes."
   ]
  },
  {
   "cell_type": "code",
   "execution_count": 26,
   "metadata": {},
   "outputs": [
    {
     "name": "stdout",
     "output_type": "stream",
     "text": [
      "Object type of lda: <class 'gensim.models.ldamodel.LdaModel'>\n"
     ]
    }
   ],
   "source": [
    "print(f\"Object type of lda: {type(lda)}\")"
   ]
  },
  {
   "cell_type": "code",
   "execution_count": 34,
   "metadata": {},
   "outputs": [
    {
     "name": "stdout",
     "output_type": "stream",
     "text": [
      "Number of unique tokens in LDA: 434592\n",
      "Number of unique tokens in dictionary: 434592\n",
      "Number of topics: 250\n"
     ]
    }
   ],
   "source": [
    "# print basic info about the dictionary\n",
    "print(f\"Number of unique tokens in LDA: {len(lda.id2word)}\")\n",
    "print(f\"Number of unique tokens in dictionary: {len(dictionary)}\")\n",
    "print(f\"Number of topics: {lda.num_topics}\")"
   ]
  },
  {
   "cell_type": "code",
   "execution_count": 37,
   "metadata": {},
   "outputs": [],
   "source": [
    "tid = 56\n"
   ]
  },
  {
   "cell_type": "code",
   "execution_count": 14,
   "metadata": {},
   "outputs": [
    {
     "name": "stdout",
     "output_type": "stream",
     "text": [
      "Top 25 words for Topic 175:\n",
      "house (Probability: 0.0668)\n",
      "committee (Probability: 0.0617)\n",
      "congress (Probability: 0.0466)\n",
      "senate (Probability: 0.0437)\n",
      "republican (Probability: 0.0361)\n",
      "republicans (Probability: 0.0297)\n",
      "senator (Probability: 0.0292)\n",
      "rep (Probability: 0.0230)\n",
      "federal (Probability: 0.0216)\n",
      "democrats (Probability: 0.0212)\n",
      "sen (Probability: 0.0190)\n",
      "reid (Probability: 0.0187)\n",
      "chamber (Probability: 0.0179)\n",
      "democratic (Probability: 0.0154)\n",
      "capitol (Probability: 0.0143)\n",
      "government (Probability: 0.0141)\n",
      "congressional (Probability: 0.0138)\n",
      "lawmakers (Probability: 0.0131)\n",
      "gop (Probability: 0.0126)\n",
      "democrat (Probability: 0.0108)\n",
      "john (Probability: 0.0108)\n",
      "vets (Probability: 0.0098)\n",
      "chairman (Probability: 0.0091)\n",
      "members (Probability: 0.0091)\n",
      "reform (Probability: 0.0089)\n"
     ]
    }
   ],
   "source": [
    "tid = 175  # Choose topic number between 0 and 249\n",
    "n_words = 25 # Choose the number of words to display between 1 and 1000\n",
    "\n",
    "top_words = lda.show_topic(tid, n_words)\n",
    "\n",
    "# Print the words and their probabilities\n",
    "print(f\"Top {n_words} words for Topic {tid}:\")\n",
    "for word, probability in top_words:\n",
    "    print(f\"{word} (Probability: {probability:.4f})\")"
   ]
  },
  {
   "cell_type": "code",
   "execution_count": 51,
   "metadata": {},
   "outputs": [
    {
     "name": "stdout",
     "output_type": "stream",
     "text": [
      "\n",
      "Words that contain a capital letter:\n"
     ]
    }
   ],
   "source": [
    "# search in the dictionary for words that contain a capital letter\n",
    "print(\"\\nWords that contain a capital letter:\")\n",
    "for word in dictionary.values():\n",
    "    if any(letter.isupper() for letter in word):\n",
    "        print(word)"
   ]
  },
  {
   "cell_type": "code",
   "execution_count": 40,
   "metadata": {},
   "outputs": [
    {
     "name": "stdout",
     "output_type": "stream",
     "text": [
      "Attributes of lda:\n",
      "  __class__\n",
      "  __delattr__\n",
      "  __dict__\n",
      "  __dir__\n",
      "  __doc__\n",
      "  __eq__\n",
      "  __format__\n",
      "  __ge__\n",
      "  __getattribute__\n",
      "  __getitem__\n",
      "  __getstate__\n",
      "  __gt__\n",
      "  __hash__\n",
      "  __ignoreds\n",
      "  __init__\n",
      "  __init_subclass__\n",
      "  __le__\n",
      "  __lt__\n",
      "  __module__\n",
      "  __ne__\n",
      "  __new__\n",
      "  __numpys\n",
      "  __recursive_saveloads\n",
      "  __reduce__\n",
      "  __reduce_ex__\n",
      "  __repr__\n",
      "  __scipys\n",
      "  __setattr__\n",
      "  __sizeof__\n",
      "  __str__\n",
      "  __subclasshook__\n",
      "  __weakref__\n",
      "  _adapt_by_suffix\n",
      "  _apply\n",
      "  _load_specials\n",
      "  _save_specials\n",
      "  _smart_save\n",
      "  add_lifecycle_event\n",
      "  alpha\n",
      "  bound\n",
      "  chunksize\n",
      "  clear\n",
      "  decay\n",
      "  diff\n",
      "  dispatcher\n",
      "  distributed\n",
      "  do_estep\n",
      "  do_mstep\n",
      "  dtype\n",
      "  eta\n",
      "  eval_every\n",
      "  expElogbeta\n",
      "  gamma_threshold\n",
      "  get_document_topics\n",
      "  get_term_topics\n",
      "  get_topic_terms\n",
      "  get_topics\n",
      "  id2word\n",
      "  inference\n",
      "  init_dir_prior\n",
      "  iterations\n",
      "  lifecycle_events\n",
      "  load\n",
      "  log_perplexity\n",
      "  minimum_probability\n",
      "  num_terms\n",
      "  num_topics\n",
      "  num_updates\n",
      "  numworkers\n",
      "  offset\n",
      "  optimize_alpha\n",
      "  optimize_eta\n",
      "  passes\n",
      "  print_topic\n",
      "  print_topics\n",
      "  random_state\n",
      "  save\n",
      "  show_topic\n",
      "  show_topics\n",
      "  state\n",
      "  sync_state\n",
      "  top_topics\n",
      "  update\n",
      "  update_alpha\n",
      "  update_eta\n",
      "  update_every\n",
      "Functions of lda:\n",
      "  __class__\n",
      "  __delattr__\n",
      "  __dir__\n",
      "  __eq__\n",
      "  __format__\n",
      "  __ge__\n",
      "  __getattribute__\n",
      "  __getitem__\n",
      "  __getstate__\n",
      "  __gt__\n",
      "  __hash__\n",
      "  __init__\n",
      "  __init_subclass__\n",
      "  __le__\n",
      "  __lt__\n",
      "  __ne__\n",
      "  __new__\n",
      "  __reduce__\n",
      "  __reduce_ex__\n",
      "  __repr__\n",
      "  __setattr__\n",
      "  __sizeof__\n",
      "  __str__\n",
      "  __subclasshook__\n",
      "  _adapt_by_suffix\n",
      "  _apply\n",
      "  _load_specials\n",
      "  _save_specials\n",
      "  _smart_save\n",
      "  add_lifecycle_event\n",
      "  bound\n",
      "  clear\n",
      "  diff\n",
      "  do_estep\n",
      "  do_mstep\n",
      "  dtype\n",
      "  get_document_topics\n",
      "  get_term_topics\n",
      "  get_topic_terms\n",
      "  get_topics\n",
      "  inference\n",
      "  init_dir_prior\n",
      "  load\n",
      "  log_perplexity\n",
      "  print_topic\n",
      "  print_topics\n",
      "  save\n",
      "  show_topic\n",
      "  show_topics\n",
      "  sync_state\n",
      "  top_topics\n",
      "  update\n",
      "  update_alpha\n",
      "  update_eta\n"
     ]
    }
   ],
   "source": [
    "# print all attributes of lda\n",
    "print(f\"Attributes of lda:\")\n",
    "for attr in dir(lda):\n",
    "    print(f\"  {attr}\")\n"
   ]
  },
  {
   "cell_type": "code",
   "execution_count": 42,
   "metadata": {},
   "outputs": [
    {
     "name": "stdout",
     "output_type": "stream",
     "text": [
      "Functions of lda (excluding private functions):\n",
      "  add_lifecycle_event\n",
      "  alpha\n",
      "  bound\n",
      "  chunksize\n",
      "  clear\n",
      "  decay\n",
      "  diff\n",
      "  dispatcher\n",
      "  distributed\n",
      "  do_estep\n",
      "  do_mstep\n",
      "  dtype\n",
      "  eta\n",
      "  eval_every\n",
      "  expElogbeta\n",
      "  gamma_threshold\n",
      "  get_document_topics\n",
      "  get_term_topics\n",
      "  get_topic_terms\n",
      "  get_topics\n",
      "  id2word\n",
      "  inference\n",
      "  init_dir_prior\n",
      "  iterations\n",
      "  lifecycle_events\n",
      "  load\n",
      "  log_perplexity\n",
      "  minimum_probability\n",
      "  num_terms\n",
      "  num_topics\n",
      "  num_updates\n",
      "  numworkers\n",
      "  offset\n",
      "  optimize_alpha\n",
      "  optimize_eta\n",
      "  passes\n",
      "  print_topic\n",
      "  print_topics\n",
      "  random_state\n",
      "  save\n",
      "  show_topic\n",
      "  show_topics\n",
      "  state\n",
      "  sync_state\n",
      "  top_topics\n",
      "  update\n",
      "  update_alpha\n",
      "  update_eta\n",
      "  update_every\n"
     ]
    }
   ],
   "source": [
    "# print all functions of lda that are not private\n",
    "print(f\"Functions of lda (excluding private functions):\")\n",
    "for func in dir(lda):\n",
    "    if not func.startswith('_'):\n",
    "        print(f\"  {func}\")"
   ]
  },
  {
   "cell_type": "code",
   "execution_count": 43,
   "metadata": {},
   "outputs": [
    {
     "name": "stdout",
     "output_type": "stream",
     "text": [
      "[(731, 0.06125133390524473), (3343, 0.04532882042495825), (6905, 0.04220589663237313), (9382, 0.04172136762507789), (4124, 0.03167186019871307), (1406, 0.024092633331342758), (5200, 0.01799292369007864), (345, 0.017384140913002093), (707, 0.015678341084186344), (3176, 0.014321096969606048)]\n"
     ]
    }
   ],
   "source": [
    "print(lda.get_topic_terms(topic_number, topn=num_words))"
   ]
  },
  {
   "cell_type": "code",
   "execution_count": null,
   "metadata": {},
   "outputs": [],
   "source": []
  },
  {
   "cell_type": "code",
   "execution_count": null,
   "metadata": {},
   "outputs": [],
   "source": []
  },
  {
   "cell_type": "code",
   "execution_count": null,
   "metadata": {},
   "outputs": [],
   "source": []
  }
 ],
 "metadata": {
  "kernelspec": {
   "display_name": "NLP_proj_basic",
   "language": "python",
   "name": "python3"
  },
  "language_info": {
   "codemirror_mode": {
    "name": "ipython",
    "version": 3
   },
   "file_extension": ".py",
   "mimetype": "text/x-python",
   "name": "python",
   "nbconvert_exporter": "python",
   "pygments_lexer": "ipython3",
   "version": "3.11.5"
  }
 },
 "nbformat": 4,
 "nbformat_minor": 2
}
