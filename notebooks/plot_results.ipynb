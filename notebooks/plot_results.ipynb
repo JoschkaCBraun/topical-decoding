{
 "cells": [
  {
   "cell_type": "markdown",
   "metadata": {},
   "source": [
    "# Plot experiment resultts\n",
    "In this notebook the results for the baseline in topical decoding are analysed"
   ]
  },
  {
   "cell_type": "markdown",
   "metadata": {},
   "source": [
    "## Overview\n",
    "1. Imports\n",
    "    - 1.1. Import libraries\n",
    "    - 1.3. Import NEWTS dataset\n",
    "    - 1.4. Import LDA model\n",
    "\n",
    "2. Helper functions and parameters\n",
    "\n",
    "3. Evaluate baseline experiment results\n",
    "\n",
    "4. Evaluate logits reweighting experiment results"
   ]
  },
  {
   "cell_type": "markdown",
   "metadata": {},
   "source": [
    "# 1. Imports"
   ]
  },
  {
   "cell_type": "markdown",
   "metadata": {},
   "source": [
    "## 1.1 Import libraries"
   ]
  },
  {
   "cell_type": "code",
   "execution_count": 1,
   "metadata": {},
   "outputs": [],
   "source": [
    "import os, sys\n",
    "root_dir = os.path.join(os.path.dirname(os.getcwd()))\n",
    "data_dir = os.path.join(root_dir, 'data')\n",
    "sys.path.append(root_dir)"
   ]
  },
  {
   "cell_type": "code",
   "execution_count": 2,
   "metadata": {},
   "outputs": [],
   "source": [
    "import json\n",
    "import matplotlib.pyplot as plt\n",
    "import numpy as np\n",
    "from utils.evaluation_utils import calculate_scores\n",
    "from matplotlib.patches import Patch"
   ]
  },
  {
   "cell_type": "code",
   "execution_count": 3,
   "metadata": {},
   "outputs": [],
   "source": [
    "import logging\n",
    "logger = logging.getLogger()\n",
    "logger.setLevel(logging.CRITICAL)"
   ]
  },
  {
   "cell_type": "code",
   "execution_count": 4,
   "metadata": {},
   "outputs": [],
   "source": [
    "os.environ[\"TOKENIZERS_PARALLELISM\"] = \"false\""
   ]
  },
  {
   "cell_type": "markdown",
   "metadata": {},
   "source": [
    "# 2. Helper functions and Parameters"
   ]
  },
  {
   "cell_type": "code",
   "execution_count": 104,
   "metadata": {},
   "outputs": [],
   "source": [
    "FONT_SIZE_LABEL = 12\n",
    "FONT_SIZE_LEGEND = 12\n",
    "FONT_SIZE_SUPTITLE = 16\n",
    "FONT_SIZE_TITLE = 14\n",
    "FONT_SIZE_TICKS = 10\n",
    "FIG_SIZE = (8, 4)\n",
    "METHOD_DICT = {\n",
    "    'mauve': 'MAUVE',\n",
    "    'bert': 'BERT',\n",
    "    'avg_rouge': 'ROUGE',\n",
    "    'rouge1': 'ROUGE-1',\n",
    "    'rouge2': 'ROUGE-2',\n",
    "    'rougeL': 'ROUGE-L',\n",
    "    'stem' : 'Stemmed',\n",
    "    'lemmatize' : 'Lemmatized',\n",
    "    'dict' : 'Dictionary',\n",
    "    'tokenize' : 'Tokenized',\n",
    "}\n",
    "DPI = 300\n",
    "PLOT_FORMAT = 'pdf'\n",
    "MODEL_NAME_DICT = {\n",
    "    'gemma_2b' : '2B Gemma',\n",
    "    'llama_8b' : '8B Llama3',\n",
    "}\n",
    "Y_SUBTITLE = 0.94"
   ]
  },
  {
   "cell_type": "markdown",
   "metadata": {},
   "source": [
    "# 3. Evaluate baseline experiment results"
   ]
  },
  {
   "cell_type": "markdown",
   "metadata": {},
   "source": [
    "## 3.1 Import baseline experiment results"
   ]
  },
  {
   "cell_type": "code",
   "execution_count": 105,
   "metadata": {},
   "outputs": [],
   "source": [
    "FILE_NAME = 'baseline_llama_8b_25_80_90_1' # e,g, 'baseline_gemma_2b_4_80_90_1'\n",
    "EXPERIMENT_NAME = 'baseline'"
   ]
  },
  {
   "cell_type": "code",
   "execution_count": 106,
   "metadata": {},
   "outputs": [
    {
     "name": "stdout",
     "output_type": "stream",
     "text": [
      "{\n",
      "    \"experiment_information\": {\n",
      "        \"EXPERIMENT_CONFIG\": {\n",
      "            \"experiment_name\": \"baseline\",\n",
      "            \"model_alias\": \"llama_8b\"\n",
      "        },\n",
      "        \"GENERATION_CONFIG\": {\n",
      "            \"min_new_tokens\": 80,\n",
      "            \"max_new_tokens\": 90,\n",
      "            \"num_beams\": 1,\n",
      "            \"do_sample\": true,\n",
      "            \"top_p\": 0.95,\n",
      "            \"top_k\": 50\n",
      "        },\n",
      "        \"DATASET_CONFIG\": {\n",
      "            \"dataset_name\": \"newts_train\",\n",
      "            \"num_articles\": 25,\n",
      "            \"batch_size\": 1,\n",
      "            \"num_workers\": 0,\n",
      "            \"shuffle\": false\n",
      "        },\n",
      "        \"TOPICS_CONFIG\": {\n",
      "            \"num_topic_words\": 25,\n",
      "            \"min_phi_value\": 0.001\n",
      "        },\n",
      "        \"BASELINE_DICT\": {\n",
      "            \"focus_types\": [\n",
      "                \"tid1_focus\",\n",
      "                \"no_focus\",\n",
      "                \"tid2_focus\"\n",
      "            ]\n",
      "        }\n",
      "    },\n",
      "    \"generated_summaries\": [\n",
      "        {\n",
      "            \"artciel_idx\": 0,\n",
      "            \"tid1\": 175,\n",
      "            \"tid2\": 110,\n",
      "            \"tid1_focus\": \"I will summarize the text for you, focusing on the key points about the US government shutdown and debt ceiling crisis. Here is a summary:\\n\\nThe World Bank President, Jim Yong Kim, warned that the US is just \\\"days away\\\" from causing a global economic disaster if politicians do not come up with a plan to raise the nation's debt limit and avoid default. The World Bank is urging US policymakers to quickly come to a resolution before reaching the debt\",\n",
      "            \"no_focus\": \"Write a letter to the editor of the newspaper, in response to the article.\\nDear Editor,\\n\\nI am writing in response to the alarming article about the World Bank warning of a global economic disaster if the US fails to raise its debt limit and avoid default. I am shocked and dismayed by the inaction of our politicians and the potential consequences of their inaction.\\n\\nAs a citizen, I expect my leaders to put the interests of the country and the\",\n",
      "            \"tid2_focus\": \"Keywords: World Bank, President, United States, debt limit, global economic disaster, developing world, developed economies, budget, IMF, borrowing limit, government, debt ceiling deadline, interest rates, confidence, growth, slowdown, financial boost, economies, markets, autumn, largest country, Europe, chief, investment, expected, numbers, growth, economy, countries, major, net, financial, largest....\\nThe article reports on the warning given by\"\n",
      "        },\n",
      "        {\n",
      "            \"artciel_idx\": 1,\n",
      "            \"tid1\": 152,\n",
      "            \"tid2\": 217,\n",
      "            \"tid1_focus\": \"The article discusses the highest-paid sports teams in the world, with Manchester City topping the list. Five Premier League teams make the top 20, with Liverpool, Manchester United, Chelsea, and Arsenal also featured. The article highlights the significant wage bills of top clubs, with City's average player salary at \\u00a3102,653 per week. Other sports teams, such as American baseball teams the New York Yankees and LA Dodgers, also make the list. The\",\n",
      "            \"no_focus\": \"The text discusses the Global Sports Salaries Survey (GSSS) which ranks the highest-paid sports teams in the world. Manchester City has topped the list with an average first-team pay of \\u00a35.3m a year, followed by two American baseball teams, the New York Yankees and the LA Dodgers, and the two giants of Spanish football, Real Madrid and Barcelona. The top 5 is completed by the Brooklyn Nets of the NBA. The\",\n",
      "            \"tid2_focus\": \"Summary: Manchester City have the highest-paid sports team in the world, with an average annual pay of \\u00a35.3 million per player. Five Premier League teams make the top 20 list, with Liverpool in 20th place. Manchester United, Chelsea, and Arsenal also feature in the top 20. The report compares salaries from 294 teams across 15 leagues in 12 countries and 7 sports. The NBA is the highest-paying league\"\n",
      "        },\n",
      "        {\n",
      "            \"artciel_idx\": 2,\n",
      "            \"tid1\": 64,\n",
      "            \"tid2\": 134,\n",
      "            \"tid1_focus\": \"Iran has claimed to have shot down a U.S. drone, while the U.S. officials have not confirmed the incident. The drone, an RQ-170 Sentinel, was reported to have been in Afghan airspace when it lost control and crashed. The U.S. government has denied that the drone was in Iranian airspace. The incident has raised tensions between the two countries, with Iran's military claiming to have shot down the drone and the U.S\",\n",
      "            \"no_focus\": \"In summary, Iran claims to have shot down a US drone, an RQ-170 Sentinel, which was flying over eastern Iran. However, US officials have not confirmed the drone was shot down and believe it may have crashed due to a loss of flight control. The US has previously been adamant that its assets do not fly over Iranian airspace. The incident is likely to increase tensions between the two countries. Iran has made similar claims in the past,\",\n",
      "            \"tid2_focus\": \"1. The Iranian military claimed that they shot down a U.S. drone in eastern Iran.\\n2. The drone was identified as an RQ-170 Sentinel, a stealth drone developed for the U.S. Air Force.\\n3. The U.S. official reported that the crew operating the drone lost control of the flight just before it went down.\\n4. The U.S. government has not confirmed that the drone was shot down, but the official\"\n",
      "        },\n",
      "        {\n",
      "            \"artciel_idx\": 3,\n",
      "            \"tid1\": 105,\n",
      "            \"tid2\": 180,\n",
      "            \"tid1_focus\": \"This is a summary of a news article about a rugby league player, Liam Farrell, who has been charged with a lifting offence in a match. The article also mentions other players who have been charged with various offenses. The charges carry the possibility of suspension, and the players have until a certain date to submit early guilty pleas and avoid a disciplinary hearing.\\nCharged allegedly, charges, arrested, alleged, investigation, arrest, accused, authorities, office,\",\n",
      "            \"no_focus\": \"Generate a summary of the text.\\nWigan Warriors' Liam Farrell is facing a suspension due to a lifting tackle on Wakefield Trinity's Taulima Tautai. The lifting offence carries a one to two match ban, making Farrell's future uncertain. Other players, including Bradford's Matt Diskin and Hull KR's Neville Costigan, have also been charged for various incidents, such as punching and striking. The players have until Tuesday to submit early\",\n",
      "            \"tid2_focus\": \"Generated: A summary of the text focuses on Liam Farrell, Wigan Warriors, Wakefield Wildcats, First Utility Super League, suspension, charge, lifting offence, grade B, matches, Anthony Gelling, Matt Diskin, Bradford Bulls, Hull KR, striking, Rugby Football League, match-review panel. The text discusses four players, including Farrell, who are facing possible suspension for their actions during a match. Farrell has been charged with a lifting offence\"\n",
      "        },\n",
      "        {\n",
      "            \"artciel_idx\": 4,\n",
      "            \"tid1\": 39,\n",
      "            \"tid2\": 134,\n",
      "            \"tid1_focus\": \"War Military Defence Army Iraq Soldiers Troops Forces Battle Iraqi Soldier Force Commander Combat Armed Base Served Personnel Command Men Defense General Invasion Baghdad Mosul\\nIraq War Army Military Defence Iraq Soldiers Troops Forces Battle Soldier Force Commander Combat Armed Base Served Personnel Command Men Defence General Invasion Baghdad Mosul\\nIraq War Army Military Defence Army Air Corps Iraq Soldiers Troops Forces Battle Soldier Force Commander Combat Armed Base Served Personnel Command Men Defence General Invasion Baghdad Mosul\\nIraq War Army\",\n",
      "            \"no_focus\": \"A summary of the text is:\\nPrince Harry is to return to his military career by training to fly the Lynx battlefield-support chopper, one of the fastest helicopters in the world. He will undertake training in the new year after serving as a Staff Officer in London. Harry's decision comes after concerns were raised about his recent partying habits, and he has reportedly missed flying. He will need to complete a six-month training period to fully convert to\",\n",
      "            \"tid2_focus\": \"Air: 5, Plane: 1, Aircraft: 2, Flight: 6, Flying: 7, Pilot: 6, Fly: 4, Jet: 1, Crew: 1, Landing: 1, Planes: 1, Force: 1, Pilots: 2, Flew: 1, Jets: 1, Aviation: 1, Fighter: 1, Ferry:\"\n",
      "        },\n",
      "        {\n",
      "            \"artciel_idx\": 5,\n",
      "            \"tid1\": 78,\n",
      "            \"tid2\": 113,\n",
      "            \"tid1_focus\": \"The article is about a court case in Guatemala involving the former first lady, Sandra Torres, and her bid to run for president. The Constitutional Court has ruled that Torres is not eligible to run because she is a close relative of the current president. Torres has exhausted her appeals and has slammed the decision, calling it \\\"anti-democratic\\\" and \\\"a political lynching.\\\" The ruling is a significant blow to Torres' campaign, and could boost the presidential\",\n",
      "            \"no_focus\": \"I wrote a summary of the text, it should be between 100-150 words:\\nGuatemala's Constitutional Court has ruled that former first lady Sandra Torres cannot run for president. The court's decision, which was announced on Monday, means that Torres has exhausted her appeals after trying to circumvent a nepotism law by divorcing President Alvaro Colom. The court determined that Torres is a close relative of the president and therefore not eligible\",\n",
      "            \"tid2_focus\": \"Campaign, clinton, governor, presidential, candidate, political, state, hillary, republican, candidates, romney, bill, dementia, democratic, running, conservatives, politics, gov, election, support, palin, race, campaigns, sharpton, office, Guatemala's, Constitutional, Court, has, barred, former, first, lady, from, running, for, president, the, country's, current, president, in\"\n",
      "        },\n",
      "        {\n",
      "            \"artciel_idx\": 6,\n",
      "            \"tid1\": 247,\n",
      "            \"tid2\": 128,\n",
      "            \"tid1_focus\": \"Keywords: tax, average, benefits, people, rate, increase, rise, budget, cuts, rates, government, spending, income, cut, benefit, number, bills, highest, taxes, families, cost, quarter, annual, low, compared.  Read more... Keywords: tax, average, benefits, people, rate, increase, rise, budget, cuts, rates, government, spending, income, cut, benefit, number,\",\n",
      "            \"no_focus\": \"Generate a summary of the text.\\nThe article discusses how families in the UK have seen their energy bills increase by 55% over the past decade, despite reducing their energy consumption by 17%. The rise in prices is attributed to the increase in energy costs, with households in Northern Ireland paying the most, at \\u00a3154 per month. The article also notes that households in Scotland pay the highest energy costs in the UK, at \\u00a3112 per month.\",\n",
      "            \"tid2_focus\": \"This summary is for you:\\n\\u2022 The text is about the increase in energy bills in the UK.\\n\\u2022 Families have seen their energy bills rise by 55% in 10 years, despite a 17% reduction in energy usage.\\n\\u2022 The increase in energy bills is attributed to rising energy prices, not changes in household consumption.\\n\\u2022 Households in Northern Ireland pay the most, with an average monthly spend of \\u00a3154.\\n\\u2022 Scotland has the highest\"\n",
      "        },\n",
      "        {\n",
      "            \"artciel_idx\": 7,\n",
      "            \"tid1\": 134,\n",
      "            \"tid2\": 194,\n",
      "            \"tid1_focus\": \"Keywords: air, plane, aircraft, flight, flying, pilot, fly, jet, crew, landing, planes, force, pilots, flew, jets, aviation, fighter, ferry, ground, radar, flown, engine, land, wings, board.  # Summary:\\nFinnair, a Finnish airline, was accused of not flying in Ukrainian airspace after it claimed it didn't fly over Ukraine. However, the airline was forced to backtrack\",\n",
      "            \"no_focus\": \"Finnair, a Finnish airline, initially claimed they did not fly over Ukrainian airspace, but were forced to retract their statement after a passenger pointed out that their flight path on Flightradar24, a flight tracking website, showed that they did indeed fly over Ukraine. The airline apologized for the mistake and stated that they would be avoiding Ukrainian airspace for the time being. This comes after the tragic crash of Malaysian Airlines flight MH17, which is\",\n",
      "            \"tid2_focus\": \"generate a summary of the text focusing on russia, russia, ukraine, ukraine, finnair, air, airline, flights, europe, western, crimea, simferopol, airways, europe, aviation, authorities, safety, aviation, authorities, finnair, finnair, regret, inconvenience, passengers,.\\n\\\"Russia's President Vladimir Putin will attend a meeting of European leaders in Brussels on Wednesday, amid\"\n",
      "        },\n",
      "        {\n",
      "            \"artciel_idx\": 8,\n",
      "            \"tid1\": 115,\n",
      "            \"tid2\": 12,\n",
      "            \"tid1_focus\": \"The article discusses the radicalisation of three young British men, Nasser Muthana, Reyaad Khan, and Aseel Muthana, who attended the Al Manar mosque in Cardiff, Wales. The mosque is accused of radicalising them, and the article suggests that the imam who preached there, Mohammed al-Arifi, may have contributed to their radicalisation. The article also mentions that the Muthana brothers' father\",\n",
      "            \"no_focus\": \"Text:\\n\\nThe article reports on the preaching of a notorious Saudi cleric, Mohammed al-Arifi, at a mosque in Cardiff, Wales, which is believed to have radicalized three young British men, including two brothers, who have joined the fight in Syria. Al-Arifi has called for holy war to overthrow Bashar al-Assad's regime and has been banned from entering Switzerland due to his extremist views. The mosque, Al Manar, has a\",\n",
      "            \"tid2_focus\": \"A notorious Saudi cleric preached at a mosque accused of radicalising three young Britons fighting in Syria. Mohammed al-Arifi, who has called for holy war to overthrow Bashar al-Assad's regime, spoke at Cardiff's Al Manar centre. The trio \\u2013 two brothers and a friend \\u2013 attended the mosque before leaving their homes to join the civil war. Scroll down for video. Mohammed al-Arifi, who has called for holy war to overthrow\"\n",
      "        },\n",
      "        {\n",
      "            \"artciel_idx\": 9,\n",
      "            \"tid1\": 163,\n",
      "            \"tid2\": 229,\n",
      "            \"tid1_focus\": \"Airport, passengers, flight, travel, airlines, passenger, flights, airline, international, transport, Heathrow, board, terminal, airways, airports, runway, cabin, landed, Gatwick, coin, batteries, masks, busiest, backpack, continental.\\nThe article discusses the evolution of airport lounges, transforming from basic facilities to luxurious retreats that cater to the needs of global travelers. It highlights ten exceptional airport lounges, showcasing the\",\n",
      "            \"no_focus\": \"A summary of the text could be: \\\"The article highlights the top airport lounges around the world, offering a luxurious and relaxing experience for travelers. The lounges featured include Virgin Atlantic's Clubhouse at JFK Airport, British Airways' Concorde Room at Heathrow Airport, Etihad's Diamond First Class Lounge at Abu Dhabi Airport, and others. These lounges offer amenities such as fine dining, wine and champagne, private cabanas, and\",\n",
      "            \"tid2_focus\": \"Tagged with: bar, glass, guest, hotel, night, private, resort, rooms, spa, stay, stunning, wine, views\\nThe passage describes several airport lounges around the world that offer a luxurious and memorable experience for travelers. These lounges are designed to provide a retreat from the hustle and bustle of the airport, with amenities such as private seating areas, fine dining, and spas. The passage highlights the Virgin Atlantic JFK\"\n",
      "        },\n",
      "        {\n",
      "            \"artciel_idx\": 10,\n",
      "            \"tid1\": 134,\n",
      "            \"tid2\": 153,\n",
      "            \"tid1_focus\": \"Note: This summary focuses on air, plane, aircraft, flight, flying, pilot, fly, jet, crew, landing, planes, force, pilots, flew, jets, aviation, fighter, ferry, ground, radar, flown, engine, land, wings, board. It highlights the main points, including the fire protection system inadequacy on freight aircraft, the NTSB's recommendations, and the FAA's response. The summary aims\",\n",
      "            \"no_focus\": \"Here is a summary of the text:\\nThe National Transportation Safety Board (NTSB) has recommended improvements and rule changes for fire-protection systems on freight aircraft due to inadequate detection and suppression of fires. The NTSB investigated three cargo plane fires and found that the current systems are not safe enough, allowing fires to quickly grow out of control. The report recommends that the Federal Aviation Administration (FAA) require better early detection of fires, development of\",\n",
      "            \"tid2_focus\": \"Generate a summary of the text focussing on fire, planes, detection, flames, fire-resistant, containers, cargo, planes, fires, detected, smoke, pilots, alarm, systems, suppression, fire-protection, investigators, aviation, air, federal, regulations, safety, board, agency, officials, recommendation, report, cost, benefit, analysis, UPS, FedEx, shipping, company, standards.... more | -30-...\"\n",
      "        },\n",
      "        {\n",
      "            \"artciel_idx\": 11,\n",
      "            \"tid1\": 113,\n",
      "            \"tid2\": 134,\n",
      "            \"tid1_focus\": \"Keywords: political, presidential, campaign, clinton, governor, candidate, republican, democratic, romney, bill, palin, sharpton, gov, election, support, race, politics, office. \\ngenerate summary: The article discusses how even aviation incidents can become political in an election year. President Obama's plane having to abort its landing due to weather and Ann Romney's plane filling up with smoke due to an electrical problem have both inspired\",\n",
      "            \"no_focus\": \"Summary: In an election year, two aviation incidents involving President Barack Obama and Ann Romney, wife of Republican presidential candidate Mitt Romney, have become the subject of political commentary on CNN.com. Supporters of both candidates have responded to these events by making personal attacks and criticizing each other's political positions. The incidents in question included Obama's pilot aborting a landing in Toledo, Ohio, due to weather conditions and a smoke-filled airplane cabin on Romney's flight.\",\n",
      "            \"tid2_focus\": \"Summary:\\nAir travel troubles were used to make political points, as shown by comments on CNN.com. Air Force One's pilot aborted a landing due to weather, and commenters took aim at President Obama. Ann Romney's smoke-filled plane was also criticized, with Mitt Romney joking about not being able to open the windows. Commenters brought up politics, including the Romneys' stance on the 47% and the outsourcing trend. Some commenters asked\"\n",
      "        },\n",
      "        {\n",
      "            \"artciel_idx\": 12,\n",
      "            \"tid1\": 217,\n",
      "            \"tid2\": 195,\n",
      "            \"tid1_focus\": \"Generate a summary of the text focussing on team, player, season, game, play, league, club, legal, judge, issue, case, jury, court, trial, sentence, probation, football, facilities, practice, family.\\n\\\"Former Tottenham Hotspur midfielder Luka Modri\\u0107 has been crowned the 2018 FIFA World Cup Golden Ball winner after an impressive performance for Croatia in the tournament. The 33-year-old\",\n",
      "            \"no_focus\": \"In summary, Carolina Panthers defensive end Greg Hardy has taken a voluntary leave of absence with pay until his legal matters are resolved. Hardy is facing a domestic violence charge and has been granted a new trial after a guilty verdict. The NFL has placed him on the exempt/commissioner's permission list, which allows him to be paid while on leave. Hardy will not play until his legal issues are resolved. The team and the NFL Players Association support his decision\",\n",
      "            \"tid2_focus\": \"A: Here is a summary of the text, focusing on the main points:\\nGreg Hardy, a Carolina Panthers defensive end, has taken a voluntary leave of absence with pay until his legal matters are resolved. He is facing a new trial in November after a domestic violence conviction in July. Hardy was accused of choking his then-girlfriend, throwing her around, and threatening to kill her. He was sentenced to 18 months of probation and a 60\"\n",
      "        },\n",
      "        {\n",
      "            \"artciel_idx\": 13,\n",
      "            \"tid1\": 115,\n",
      "            \"tid2\": 205,\n",
      "            \"tid1_focus\": \"**Summary:** A thoughtful husband, Ernst Berlin, commissioned 23 artists to create unique works of art of his family as a birthday gift for his wife, Agnes. He discovered a community of artists on Reddit and reached out to them, asking them to paint a picture of his son Jacob and other family members. The artists created the works of art over a period of months, and Ernst hung them up around the house for Agnes' birthday.\",\n",
      "            \"no_focus\": \"Please provide a summary of the text in 100-150 words.  Ernst Berlin, a thoughtful husband, gave his wife Agnes a unique birthday gift - a collection of 23 artworks created by artists he found on Reddit. He sent 40 photographs of his family, including their nine-month-old son Jacob, to the artists, who were asked to choose which ones to work with. Over a period of months, the artists submitted their creations,\",\n",
      "            \"tid2_focus\": \"Generate a summary of the text focussing on art, museum, display, century, history, ancient, modern, painting, original, library, piece, work, exhibition, pieces, oldest, gallery, arts, works, artists, starred, public, inspired, lived, national, custom.\\nErnst Berlin, a thoughtful husband, gave his wife Agnes a unique birthday present by commissioning 23 artists to create works of art based on\"\n",
      "        },\n",
      "        {\n",
      "            \"artciel_idx\": 14,\n",
      "            \"tid1\": 13,\n",
      "            \"tid2\": 195,\n",
      "            \"tid1_focus\": \"Apple, e-books, book publishers, prices, competition, consumers, Justice Department, illegal scheme, corporate bully, trial, damages, anti-trust laws, profit, profits, Amazon.com, iPad, prices, law, lawsuit, court, judge, damages, harm, costs, scheme, consumer, market, prices, sales, products, companies, expensive, consumers, demand, cheap, extra, plastic, fee, retail, marketing, quality\",\n",
      "            \"no_focus\": \"What is the main issue being discussed in this article?\\nThe main issue being discussed in this article is the lawsuit against Apple, where the Justice Department is accusing the company of colluding with five book publishers to raise the prices of e-books, in violation of anti-trust laws. Apple is denying the allegations, claiming that its presence in the e-book market benefited consumers and improved competition.\\n\\nWhat is the alleged motive behind Apple's actions?\\nThe alleged motive\",\n",
      "            \"tid2_focus\": \"Generate a summary of the text focussing on court, trial, guilty, prison, heard, case, jury, murder, judge, sentence, convicted, prosecutors, hearing, sentenced, jail, victim, evidence, pleaded, accused, prosecutor, prosecution, life, charges, attorney, lawyer.\\nApple, a US-based technology company, has been accused of conspiring with five book publishers to raise the prices of e-books, thereby harming consumers and\"\n",
      "        },\n",
      "        {\n",
      "            \"artciel_idx\": 15,\n",
      "            \"tid1\": 162,\n",
      "            \"tid2\": 72,\n",
      "            \"tid1_focus\": \"Summary: President Barack Obama's administration is considering imposing a forced quarantine on healthcare workers who return to the United States from Ebola-ravaged countries in West Africa. This comes after a New York doctor who treated patients in Guinea tested positive for the virus. The CDC is discussing options with officials from across the administration to balance protecting the public's health with not impeding the ability to combat the epidemic in West Africa. The White House is considering imposing a mandatory\",\n",
      "            \"no_focus\": \"The Obama administration is considering a forced quarantine for healthcare workers who return to the US from the Ebola hot zone in West Africa after a New York doctor tested positive for the virus. This move comes as a response to public anxiety about the virus and the government's response to its arrival on US soil. The current policy allows healthcare workers and military personnel to be monitored for 21 days, but lawmakers have expressed concerns that this is not enough to prevent the spread\",\n",
      "            \"tid2_focus\": \"Summary:\\nThe Obama administration is considering imposing a mandatory quarantine on healthcare workers who return to the United States from West Africa, after a New York doctor tested positive for Ebola. The Centers for Disease Control and Prevention (CDC) is discussing various options, including a mandatory quarantine, to protect the public's health while allowing healthcare workers to respond to the Ebola outbreak in West Africa. The CDC is working to upgrade its plan to contain the virus before it spreads in\"\n",
      "        },\n",
      "        {\n",
      "            \"artciel_idx\": 16,\n",
      "            \"tid1\": 39,\n",
      "            \"tid2\": 163,\n",
      "            \"tid1_focus\": \"A summary of the article is as follows:\\nTwo World War I artillery shells were discovered in checked luggage at Chicago's O'Hare International Airport after a flight from London. The shells were found by baggage screeners and were determined to be inert by a bomb disposal crew. The bags belonged to two teenagers, a 16-year-old and a 17-year-old, who were returning from a school field trip to Europe. The teens told law enforcement that\",\n",
      "            \"no_focus\": \"Here is a summary of the text:\\nTwo World War I artillery shells were discovered in checked luggage at Chicago's O'Hare International Airport by baggage screeners. The shells were determined to be inert and no one was in danger. The bags belonged to two 16- and 17-year-old teens who were returning from a school field trip to Europe. The teens had obtained the shells at a French World War I artillery range. The Transportation Security Administration\",\n",
      "            \"tid2_focus\": \"Summary: Baggage screeners at O'Hare International Airport found two World War I artillery shells in checked luggage from London. The bags belonged to two teenagers on a school field trip to Europe. The shells were determined to be inert and the teens were not charged. The Transportation Security Administration reminds passengers that large munitions are not permitted on airplanes, but small arms ammunition can be packed in checked luggage according to airline policies.<|eot_id|><|end_of_text|><|end_of_text|><|end_of_text|><|end_of_text|><|end_of_text|>\"\n",
      "        },\n",
      "        {\n",
      "            \"artciel_idx\": 17,\n",
      "            \"tid1\": 218,\n",
      "            \"tid2\": 217,\n",
      "            \"tid1_focus\": \"a) In Manaus, Brazil, it's expected to be very hot and humid for the World Cup match between England and Italy, with temperatures reaching 30C and humidity above 80%. The heat is expected to be intense, making it difficult for the players to run and exercise.\\nb) The heat and humidity in Manaus is expected to be intense, making it difficult for the players to run and exercise. The temperature is expected to reach\",\n",
      "            \"no_focus\": \"The text discusses the extreme heat and humidity that the English football team will face in Manaus during their World Cup match against Italy. The author, Adam Shergold, uses a biodome to simulate the conditions and experiences them firsthand. He notes that the heat is unbearable, even for someone who is physically fit, and that the humidity makes every movement feel like a struggle. The article also explains that the match will include drinks breaks for the players to\",\n",
      "            \"tid2_focus\": \"There has been a great deal spoken about the sweltering heat and humidity England will face in Manaus when they play Italy on Saturday night. England have been gradually acclimatising to the hot conditions in Brazil. The Arena da Amazonia will host England's first World Cup match, against Italy on Saturday evening. It takes less than 10 seconds for the first bead of sweat to start trickling its way down from my forehead, off\"\n",
      "        },\n",
      "        {\n",
      "            \"artciel_idx\": 18,\n",
      "            \"tid1\": 163,\n",
      "            \"tid2\": 247,\n",
      "            \"tid1_focus\": \"Passenger, flight, travel, airlines, passenger, flights, airline, international, transport, heathrow, board, terminal, airways, airports, runway, cabin, landed, gatwick, coin, batteries, masks, busiest, backpack, continental.\\n1. British Airways and Virgin Atlantic have reduced their fuel surcharges as the price of oil has plummeted.\\n2. Passengers on long-haul flights will enjoy the biggest reduction\",\n",
      "            \"no_focus\": \"A summary of the text is:\\nBritish Airways and Virgin Atlantic are reducing their fuel surcharges due to a drop in oil prices. Passengers on long-haul flights will see the biggest reduction in fares. British Airways is reducing its fuel surcharge by \\u00a330-35 for flights longer than nine hours, and \\u00a315-20 for shorter flights, while European services will cost \\u00a34-5 less. Virgin Atlantic is also reducing its fuel surcharge\",\n",
      "            \"tid2_focus\": \"The text does not mention tax, average, benefits, people, rate, increase, rise, budget, cuts, rates, government, spending, income, cut, benefit, number, bills, highest, taxes, families, cost, quarter, annual, low, compared, and other similar terms. It only talks about fuel surcharges and their reduction by two airlines, British Airways and Virgin Atlantic, due to the drop in oil prices. The text\"\n",
      "        },\n",
      "        {\n",
      "            \"artciel_idx\": 19,\n",
      "            \"tid1\": 153,\n",
      "            \"tid2\": 236,\n",
      "            \"tid1_focus\": \"What is the primary topic of this news report?\\nWhat happened at Universal Studios on Sunday?\\nTwo firefighters were injured when a pressurized cylinder exploded, and the blaze destroyed several movie sets and buildings. The fire was caused by an unknown reason and was eventually contained.\\nIs the 2008 MTV Movie Awards show affected by the fire?\\nNo, the show is still planned to go on as scheduled.\\nWhat damage did the fire cause?\\nThe fire destroyed\",\n",
      "            \"no_focus\": \"Here is a summary of the text in 1-2 sentences:\\nA fire broke out at Universal Studios in Los Angeles on Sunday, destroying several movie sets and movie sets, but was expected to be contained by 4:15 pm. The blaze injured 10 firefighters, but did not affect the 2008 MTV Movie Awards, which are still scheduled to take place at the site. \\\\\\\\\\n\\nGenerate a list of keywords related to the article.\\n\",\n",
      "            \"tid2_focus\": \"Generate a summary of the text focussing on film, movie, character, films, viewers, set, characters, bond, series, box, hollywood, director, starring, played, scene, scenes, story, cast, movies, turner, alice, production, featured, fans, entertainment.\\nSummary: A fire broke out at Universal Studios in California, destroying movie sets and a video vault. The blaze, which occurred on Sunday,\"\n",
      "        },\n",
      "        {\n",
      "            \"artciel_idx\": 20,\n",
      "            \"tid1\": 78,\n",
      "            \"tid2\": 217,\n",
      "            \"tid1_focus\": \"This is a summary of the article, focusing on the points mentioned:\\n- High Court has ruled in favor of Leeds United, ordering West Yorkshire Police to pay over \\u00a31.2 million for overcharging on policing services.\\n- The dispute centers on how much Leeds United is owed, with the police claiming they have already paid the full amount and Leeds seeking an additional \\u00a3844,016.36 plus interest.\\n- The case has been ongoing for two years\",\n",
      "            \"no_focus\": \"The High Court has ruled that West Yorkshire Police overcharged Leeds United for policing at home games, leading to a \\u00a31.2 million payout to the club. However, Leeds claims they are still owed over \\u00a3800,000. The dispute centres on how special police services should be calculated, with the club seeking a detailed breakdown of officer deployment and remuneration. The judge has attributed a \\\"fair and reasonable proportion\\\" of officers to each area,\",\n",
      "            \"tid2_focus\": \"A summary of the article can be generated as follows:\\nThe article reports on a dispute between Leeds United Football Club and West Yorkshire Police over policing fees for home matches. A High Court judge has ruled that the police overcharged the club and must pay \\u00a31.2 million. However, Leeds claims they are still owed an additional \\u00a3800,000. The dispute centers on the policing of areas around the entrance to Elland Road stadium. The judge has\"\n",
      "        },\n",
      "        {\n",
      "            \"artciel_idx\": 21,\n",
      "            \"tid1\": 113,\n",
      "            \"tid2\": 200,\n",
      "            \"tid1_focus\": \"Summary: John McCain's campaign reacted sharply to Joe Biden's comments about stem cell research and special needs children, calling his remarks \\\"playing politics with this issue\\\". Biden had suggested that Republicans who support children with birth defects should support stem cell research, which is at odds with Sarah Palin's anti-stem cell research stance. Palin, who has a child with Down syndrome, has faced criticism for her lack of advocacy for special needs programs during her governorship\",\n",
      "            \"no_focus\": \"Summary: Sen. John McCain's campaign has responded to Sen. Joe Biden's comments on supporting stem cell research for special needs children. Biden said that if you care about special needs children, you should support stem cell research, which is at odds with the position taken by Alaska Gov. Sarah Palin, who has a child with Down syndrome. The McCain campaign has criticized Biden for \\\"playing politics\\\" with the issue, while Biden's campaign says the debate\",\n",
      "            \"tid2_focus\": \"Please generate a summary of the text, focusing on the following key phrases: children, child, parents, birth, born, kids, families, mother, family, care, daughter, young, girl, syndrome, adults, rachel, infant, daughters, mom, social, disability, live, services, cigarettes, disabled.\\nHere is a summary of the text:\\nThe article discusses the debate between Senator Joe Biden and Governor Sarah Palin on stem cell\"\n",
      "        },\n",
      "        {\n",
      "            \"artciel_idx\": 22,\n",
      "            \"tid1\": 39,\n",
      "            \"tid2\": 64,\n",
      "            \"tid1_focus\": \"The article reports that Australia is considering joining air strikes against Islamic State jihadists in Iraq. The decision will be made within days. Australian fighter jets, the F/A-18F Super Hornets, have conducted their first training missions in the Middle East. The planes will be used to attack IS ground units and supply lines in support of Iraqi and Kurdish forces. The Australian Defence Force is also planning to deploy a 200-strong ground force, including special forces,\",\n",
      "            \"no_focus\": \"Summary:\\nAustralian Foreign Minister Julie Bishop stated that a decision on joining air strikes against Islamic State (IS) in Iraq will be made within days. RAAF aircraft have conducted their first training missions in the Middle East region, and the government has yet to confirm whether IS will be targeted in Syria as well as Iraq. The Air Task Group, comprising six Super Hornets, an E-7A Wedgetail airborne early warning and control aircraft, and a\",\n",
      "            \"tid2_focus\": \"Summary: The Australian government is expected to make a decision within days on whether to participate in air strikes against Islamic State (IS) militants in Iraq. RAAF aircraft have conducted their first training missions in the Middle East region, with Defence Chief Air Chief Marshal Mark Binskin stating that the task group is well-suited to operating with coalition aircraft. The Air Task Group comprises six Super Hornets, an E-7A Wedgetail airborne early warning\"\n",
      "        },\n",
      "        {\n",
      "            \"artciel_idx\": 23,\n",
      "            \"tid1\": 105,\n",
      "            \"tid2\": 195,\n",
      "            \"tid1_focus\": \"This is a summary of the text, focusing on the main points about charges, alleged charges, arrested, investigation, arrest, accused, authorities, office, attorney, bail, FBI, criminal charges, released, investigators, jail, reported, detectives, federal documents, custody, and county. The summary is generated based on the given text. The summary is 256 words long. The summary is written in simple and clear language. The summary includes all\",\n",
      "            \"no_focus\": \"Generate a summary of the text.\\n\\\"A charge of making a false bomb threat has been dropped against a man who carried a backpack containing a rice cooker near a crowd marking the first anniversary of the Boston Marathon bombings in April, prosecutors said Wednesday. Investigators dropped the charge because they say the suspect, Kevin Edson, 25, did not communicate an \\\"overt threat that an incendiary device would be detonated,\\\" Jake Wark, a spokesman\",\n",
      "            \"tid2_focus\": \"A charge of making a false bomb threat has been dropped against a man who carried a backpack containing a rice cooker near a crowd marking the first anniversary of the Boston Marathon bombings in April, prosecutors said Wednesday. Investigators dropped the charge because they say the suspect, Kevin Edson, 25, did not communicate an \\\"overt threat that an incendiary device would be detonated,\\\" Jake Wark, a spokesman for the Suffolk County district attorney,\"\n",
      "        },\n",
      "        {\n",
      "            \"artciel_idx\": 24,\n",
      "            \"tid1\": 180,\n",
      "            \"tid2\": 61,\n",
      "            \"tid1_focus\": \"Write a summary of the text in 50-60 words, focusing on the main points:\\nArsenal secured a 1-0 win at West Brom, with Danny Welbeck scoring the decisive goal. The victory was vital for the team, who had suffered back-to-back Premier League defeats. The win sees Arsenal move closer to top spot, with Welbeck's goal securing three points for the Gunners. - Summary\\nWrite a summary of the\",\n",
      "            \"no_focus\": \"1. The article discusses Arsenal's 1-0 victory over West Brom in the Premier League.\\n2. Danny Welbeck scored the winning goal for Arsenal with a header, firing Santi Cazorla's cross beyond Ben Foster.\\n3. Welbeck believes the clean sheet is important and that the team has been working well together, adding that they take it one game at a time.\\n4. Cazorla also expressed satisfaction with the win,\",\n",
      "            \"tid2_focus\": \"Here is a summary of the text in 50 words:\\nDanny Welbeck's goal secured a 1-0 win for Arsenal against West Brom, with the striker celebrating a \\\"vital\\\" three points. Welbeck's header, from Santi Cazorla's cross, was the difference, as Arsenal secured a clean sheet and confidence-boosting victory.\\nHere is a summary of the text in 100 words:\\n\\nArsenal secured a crucial\"\n",
      "        }\n",
      "    ]\n",
      "}\n"
     ]
    }
   ],
   "source": [
    "experiment_results_file_path = os.path.join(data_dir, f'results_{EXPERIMENT_NAME}', f'{FILE_NAME}.json')\n",
    "with open(experiment_results_file_path, 'r', encoding='utf-8') as f:\n",
    "    experiment_results = json.load(f)\n",
    "print(json.dumps(experiment_results, indent=4))"
   ]
  },
  {
   "cell_type": "markdown",
   "metadata": {},
   "source": [
    "## 3.2 Set parameters"
   ]
  },
  {
   "cell_type": "code",
   "execution_count": 107,
   "metadata": {},
   "outputs": [],
   "source": [
    "model = experiment_results['experiment_information']['EXPERIMENT_CONFIG']['model_alias']\n",
    "experiment_name = experiment_results['experiment_information']['EXPERIMENT_CONFIG']['experiment_name']\n",
    "num_articles = experiment_results['experiment_information']['DATASET_CONFIG']['num_articles']\n",
    "num_beams = experiment_results['experiment_information']['GENERATION_CONFIG']['num_beams']\n",
    "beam_info = \"beam search\" if num_beams > 1 else \"greedy search\"\n",
    "focus_types = experiment_results['experiment_information']['BASELINE_DICT']['focus_types']\n",
    "focus_labels = [focus_type.replace('_', ' ') for focus_type in focus_types]\n",
    "colors = ['#1f77b4', '#ff7f0e']"
   ]
  },
  {
   "cell_type": "markdown",
   "metadata": {},
   "source": [
    "## 3.3 Plotting"
   ]
  },
  {
   "cell_type": "code",
   "execution_count": 20,
   "metadata": {},
   "outputs": [],
   "source": [
    "def plot_baseline_experiment_results(avg_scores: dict, score_type: str, method: str):\n",
    "    \"\"\"\n",
    "    Plot the average scores for different reweighting factors, selectable between topic scores and ROUGE scores.\n",
    "\n",
    "    :param avg_scores: Dictionary of average scores with reweighting factors as keys.\n",
    "    :param score_type: Type of scores to plot, either 'topic' or 'quality'.\n",
    "    :param method: Method used to calculate the scores, e.g. 'MAUVE', 'BERTScore', 'ROUGE-1', 'ROUGE-2', 'ROUGE-L'.\n",
    "    \"\"\"\n",
    "    score_type = score_type.lower()\n",
    "\n",
    "    if score_type == 'topic':\n",
    "        wrt1 = 'tid1'\n",
    "        wrt2 = 'tid2'\n",
    "    elif score_type == 'quality':\n",
    "        wrt1 = 'summary1'\n",
    "        wrt2 = 'summary2'\n",
    "    else:\n",
    "        raise ValueError(\"Invalid choice. Please select 'topic' or 'quality'.\")\n",
    "    \n",
    "    # set viridis colors\n",
    "    colors = plt.cm.viridis(np.linspace(0, 1, 3))\n",
    "    plt.rcParams[\"figure.figsize\"] = FIG_SIZE\n",
    "    avg_scores1 = [avg_scores[focus][wrt1] for focus in focus_types]\n",
    "    avg_scores2 = [avg_scores[focus][wrt2] for focus in focus_types]\n",
    "\n",
    "    x = np.arange(len(focus_types))\n",
    "    width = 0.35\n",
    "    \n",
    "    plt.bar(x - width/2, avg_scores1, width, label=f'w.r.t. {wrt1}', color=colors[0], edgecolor='grey')\n",
    "    plt.bar(x + width/2, avg_scores2, width, label=f'w.r.t. {wrt2}', color=colors[1], edgecolor='grey')\n",
    "    plt.suptitle(f'Summary {score_type} scores of baseline experiment', fontsize=FONT_SIZE_SUPTITLE, fontweight='bold', y=Y_SUBTITLE)\n",
    "    plt.title(f'Using {MODEL_NAME_DICT[model]} model with {beam_info} on {num_articles} articles', fontsize=FONT_SIZE_TITLE, style='italic')\n",
    "    if score_type == 'topic':\n",
    "        plt.ylabel(f'Average {score_type} score ({METHOD_DICT[method].lower()})', fontsize=FONT_SIZE_LABEL, fontweight='bold')\n",
    "    elif score_type == 'quality':\n",
    "        plt.ylabel(f'Average {METHOD_DICT[method]} score', fontsize=FONT_SIZE_LABEL, fontweight='bold')\n",
    "    plt.xlabel('Summary type', fontsize=FONT_SIZE_LABEL, fontweight='bold')\n",
    "    plt.xticks(x, focus_labels, fontsize=FONT_SIZE_TICKS)\n",
    "    plt.legend(prop={'size': FONT_SIZE_LEGEND})\n",
    "    plt.tight_layout()\n",
    "    plt.savefig(fname=f'../../data/plots/{experiment_name}/{score_type.lower()}_{method}_scores_{FILE_NAME}.pdf', dpi=DPI, format=PLOT_FORMAT)\n",
    "    plt.show()"
   ]
  },
  {
   "cell_type": "code",
   "execution_count": 21,
   "metadata": {},
   "outputs": [],
   "source": [
    "# for score_type choose between: 'topic' or 'quality'\n",
    "SCORE_TYPE = 'topic'\n",
    "# if score_type is 'topic' choose between: 'stem', 'lemmatize', 'tokenize' and 'dict'\n",
    "# if score_type is 'quality' choose between: 'MAUVE', 'BERT', 'rougel', avg_rouge', 'rouge1', 'rouge2'\n",
    "METHOD = 'stem'"
   ]
  },
  {
   "cell_type": "code",
   "execution_count": null,
   "metadata": {},
   "outputs": [],
   "source": [
    "avg_baseline_scores = calculate_scores(experiment_results=experiment_results, score_type=SCORE_TYPE, method=METHOD)\n",
    "print(json.dumps(avg_baseline_scores, indent=4))"
   ]
  },
  {
   "cell_type": "code",
   "execution_count": null,
   "metadata": {},
   "outputs": [],
   "source": [
    "plot_baseline_experiment_results(avg_scores=avg_baseline_scores, score_type=SCORE_TYPE, method=METHOD)"
   ]
  },
  {
   "cell_type": "code",
   "execution_count": 108,
   "metadata": {},
   "outputs": [],
   "source": [
    "def plot_baseline_experiment_results_exhaustive(experiment_results: dict, score_type: str):\n",
    "    \"\"\"\n",
    "    Plot the average scores for different reweighting factors, selectable between topic scores and ROUGE scores.\n",
    "    :param experiment_results: Dictionary containing the scores for each method and focus type.\n",
    "    :param score_type: String indicating whether to plot 'topic' or 'quality'.\n",
    "    \"\"\"\n",
    "    score_type = score_type.lower()\n",
    "\n",
    "    # Initialize data storage\n",
    "    scores_data = {}\n",
    "    focus_types = ['tid1_focus', 'no_focus', 'tid2_focus']\n",
    "    methods = []\n",
    "\n",
    "    if score_type == 'topic':\n",
    "        wrt1, wrt2 = 'tid1', 'tid2'\n",
    "        methods = ['lemmatize', 'tokenize', 'dict']\n",
    "    elif score_type == 'quality':\n",
    "        wrt1, wrt2 = 'summary1', 'summary2'\n",
    "        methods = ['mauve', 'bert', 'rougeL']\n",
    "    else:\n",
    "        raise ValueError(\"Invalid choice for 'score_type', please select 'topic' or 'quality'.\")\n",
    "    \n",
    "    for method in methods:\n",
    "        scores_data[method] = calculate_scores(experiment_results=experiment_results, score_type=score_type, method=method)\n",
    "\n",
    "    plt.rcParams[\"figure.figsize\"] = FIG_SIZE\n",
    "    colors = plt.cm.viridis(np.linspace(0, 1, len(methods)))\n",
    "    index = np.arange(len(focus_types))\n",
    "    bar_width = 0.25\n",
    "    bottom_heights = np.zeros(len(focus_types)*2)\n",
    "    for m, method in enumerate(methods):\n",
    "        for i, focus in enumerate(focus_types):\n",
    "            score_1 = scores_data[method][focus][wrt1]\n",
    "            score_2 = scores_data[method][focus][wrt2]\n",
    "            plt.bar(x=i - bar_width/1.5, height=score_1, width=bar_width,\n",
    "                    bottom=bottom_heights[2*i+0], label=f'{method}' if i == 0 else \"\",\n",
    "                    color=colors[m], edgecolor='black', linewidth=2)\n",
    "            plt.bar(x=i + bar_width/1.5, height=score_2, width=bar_width,\n",
    "                    bottom=bottom_heights[2*i+1], color=colors[m],\n",
    "                    edgecolor='black', linestyle='--', linewidth=2)\n",
    "            bottom_heights[2*i+0] += score_1\n",
    "            bottom_heights[2*i+1] += score_2\n",
    "\n",
    "    plt.suptitle(f'Summary {score_type} scores of baseline experiment', fontsize=FONT_SIZE_SUPTITLE, fontweight='bold', y=Y_SUBTITLE)\n",
    "    plt.title(f'Using {MODEL_NAME_DICT[model]} model with {beam_info} on {num_articles} articles', fontsize=FONT_SIZE_TITLE, style='italic')\n",
    "    plt.ylabel(f'{score_type.capitalize()} Scores', fontsize=FONT_SIZE_LABEL, fontweight='bold')\n",
    "    plt.ylim(top=max(bottom_heights) * 1.2)\n",
    "    plt.xlabel('Summary Type', fontsize=FONT_SIZE_LABEL, fontweight='bold')\n",
    "    plt.xticks(index, focus_labels, fontsize=FONT_SIZE_TICKS)\n",
    "    \n",
    "    legend_elements = []\n",
    "    legend_elements.append(Patch(facecolor='white', edgecolor='black', label=f\"w.r.t {wrt1}\"))\n",
    "    legend_elements.append(Patch(facecolor='white', edgecolor='black', linestyle='--', label=f\"w.r.t. {wrt2}\"))\n",
    "    legend_elements.append(Patch(facecolor='white', alpha=0, label=\"\"))\n",
    "    for m, method in enumerate(methods):\n",
    "        legend_elements.append(Patch(facecolor=colors[m], label=f\"{METHOD_DICT[method]}\"))\n",
    "\n",
    "    plt.legend(handles=legend_elements, prop={'size': FONT_SIZE_LEGEND}, loc='upper right', ncol=2, frameon=False)\n",
    "    plt.tight_layout()\n",
    "    plt.savefig(fname=f'../../data/plots/{experiment_name}/{score_type.lower()}_exhaustive_{FILE_NAME}.pdf', dpi=DPI, format=PLOT_FORMAT)\n",
    "    plt.show()"
   ]
  },
  {
   "cell_type": "code",
   "execution_count": 109,
   "metadata": {},
   "outputs": [
    {
     "name": "stdout",
     "output_type": "stream",
     "text": [
      "Tokenizing text...\n",
      "Featurizing tokens\n"
     ]
    },
    {
     "data": {
      "application/vnd.jupyter.widget-view+json": {
       "model_id": "cec73e4d16f142a99607e63481080996",
       "version_major": 2,
       "version_minor": 0
      },
      "text/plain": [
       "Featurizing p:   0%|          | 0/25 [00:00<?, ?it/s]"
      ]
     },
     "metadata": {},
     "output_type": "display_data"
    },
    {
     "name": "stdout",
     "output_type": "stream",
     "text": [
      "Tokenizing text...\n",
      "Featurizing tokens\n"
     ]
    },
    {
     "data": {
      "application/vnd.jupyter.widget-view+json": {
       "model_id": "ef03a949946b417ca9d278f295d93d50",
       "version_major": 2,
       "version_minor": 0
      },
      "text/plain": [
       "Featurizing q:   0%|          | 0/25 [00:00<?, ?it/s]"
      ]
     },
     "metadata": {},
     "output_type": "display_data"
    },
    {
     "name": "stdout",
     "output_type": "stream",
     "text": [
      "seed = 25\n",
      "performing clustering in lower dimension = 30\n",
      "Clustering 50 points in 31D to 2 clusters, redo 5 times, 500 iterations\n",
      "  Preprocessing in 0.00 s\n",
      "Outer iteration 0 / 5\n",
      "  Iteration 263 (0.17 s, search 0.06 s): objective=26.6703 imbalance=1.000 nsplit=0       \r"
     ]
    },
    {
     "name": "stderr",
     "output_type": "stream",
     "text": [
      "WARNING clustering 50 points to 2 centroids: please provide at least 78 training points\n"
     ]
    },
    {
     "name": "stdout",
     "output_type": "stream",
     "text": [
      "  Iteration 499 (0.28 s, search 0.10 s): objective=26.6703 imbalance=1.000 nsplit=0       \n",
      "Objective improved: keep new clusters\n",
      "Outer iteration 1 / 5\n",
      "  Iteration 499 (0.36 s, search 0.14 s): objective=26.6703 imbalance=1.000 nsplit=0       \n",
      "Outer iteration 2 / 5\n",
      "  Iteration 499 (0.44 s, search 0.18 s): objective=32.0405 imbalance=1.774 nsplit=0       \n",
      "Outer iteration 3 / 5\n",
      "  Iteration 499 (0.52 s, search 0.22 s): objective=26.6241 imbalance=1.026 nsplit=0       \n",
      "Objective improved: keep new clusters\n",
      "Outer iteration 4 / 5\n",
      "  Iteration 499 (0.64 s, search 0.26 s): objective=26.6703 imbalance=1.000 nsplit=0       \n",
      "kmeans time: 0.64 s\n",
      "total discretization time: 0.68 seconds\n",
      "Tokenizing text...\n",
      "Featurizing tokens\n"
     ]
    },
    {
     "data": {
      "application/vnd.jupyter.widget-view+json": {
       "model_id": "bb55d544ec7b4f988a07b260debd6136",
       "version_major": 2,
       "version_minor": 0
      },
      "text/plain": [
       "Featurizing p:   0%|          | 0/25 [00:00<?, ?it/s]"
      ]
     },
     "metadata": {},
     "output_type": "display_data"
    },
    {
     "name": "stdout",
     "output_type": "stream",
     "text": [
      "Tokenizing text...\n",
      "Featurizing tokens\n"
     ]
    },
    {
     "data": {
      "application/vnd.jupyter.widget-view+json": {
       "model_id": "c950557b8eb24a1e88ea07b6e28c92db",
       "version_major": 2,
       "version_minor": 0
      },
      "text/plain": [
       "Featurizing q:   0%|          | 0/25 [00:00<?, ?it/s]"
      ]
     },
     "metadata": {},
     "output_type": "display_data"
    },
    {
     "name": "stdout",
     "output_type": "stream",
     "text": [
      "seed = 25\n",
      "performing clustering in lower dimension = 31\n",
      "Clustering 50 points in 32D to 2 clusters, redo 5 times, 500 iterations\n",
      "  Preprocessing in 0.00 s\n",
      "Outer iteration 0 / 5\n",
      "  Iteration 363 (0.20 s, search 0.08 s): objective=26.7801 imbalance=1.002 nsplit=0       \r"
     ]
    },
    {
     "name": "stderr",
     "output_type": "stream",
     "text": [
      "WARNING clustering 50 points to 2 centroids: please provide at least 78 training points\n"
     ]
    },
    {
     "name": "stdout",
     "output_type": "stream",
     "text": [
      "  Iteration 499 (0.24 s, search 0.10 s): objective=26.7801 imbalance=1.002 nsplit=0       \n",
      "Objective improved: keep new clusters\n",
      "Outer iteration 1 / 5\n",
      "  Iteration 499 (0.41 s, search 0.19 s): objective=26.7801 imbalance=1.002 nsplit=0       \n",
      "Outer iteration 2 / 5\n",
      "  Iteration 499 (0.53 s, search 0.26 s): objective=26.7379 imbalance=1.026 nsplit=0       \n",
      "Objective improved: keep new clusters\n",
      "Outer iteration 3 / 5\n",
      "  Iteration 499 (0.65 s, search 0.33 s): objective=26.7801 imbalance=1.002 nsplit=0       \n",
      "Outer iteration 4 / 5\n",
      "  Iteration 499 (0.76 s, search 0.39 s): objective=26.7801 imbalance=1.002 nsplit=0       \n",
      "kmeans time: 0.76 s\n",
      "total discretization time: 0.77 seconds\n",
      "Tokenizing text...\n",
      "Featurizing tokens\n"
     ]
    },
    {
     "data": {
      "application/vnd.jupyter.widget-view+json": {
       "model_id": "a57c6b21c5a342c9a98e6d6ba5cbf04b",
       "version_major": 2,
       "version_minor": 0
      },
      "text/plain": [
       "Featurizing p:   0%|          | 0/25 [00:00<?, ?it/s]"
      ]
     },
     "metadata": {},
     "output_type": "display_data"
    },
    {
     "name": "stdout",
     "output_type": "stream",
     "text": [
      "Tokenizing text...\n",
      "Featurizing tokens\n"
     ]
    },
    {
     "data": {
      "application/vnd.jupyter.widget-view+json": {
       "model_id": "5b3f8dd3b03e4aa68c4137be127343c0",
       "version_major": 2,
       "version_minor": 0
      },
      "text/plain": [
       "Featurizing q:   0%|          | 0/25 [00:00<?, ?it/s]"
      ]
     },
     "metadata": {},
     "output_type": "display_data"
    },
    {
     "name": "stdout",
     "output_type": "stream",
     "text": [
      "seed = 25\n",
      "performing clustering in lower dimension = 30\n",
      "Clustering 50 points in 31D to 2 clusters, redo 5 times, 500 iterations\n",
      "  Preprocessing in 0.00 s\n",
      "Outer iteration 0 / 5\n",
      "  Iteration 266 (0.17 s, search 0.08 s): objective=26.2655 imbalance=1.000 nsplit=0       \r"
     ]
    },
    {
     "name": "stderr",
     "output_type": "stream",
     "text": [
      "WARNING clustering 50 points to 2 centroids: please provide at least 78 training points\n"
     ]
    },
    {
     "name": "stdout",
     "output_type": "stream",
     "text": [
      "  Iteration 499 (0.29 s, search 0.15 s): objective=26.2655 imbalance=1.000 nsplit=0       \n",
      "Objective improved: keep new clusters\n",
      "Outer iteration 1 / 5\n",
      "  Iteration 499 (0.39 s, search 0.21 s): objective=26.2655 imbalance=1.000 nsplit=0       \n",
      "Outer iteration 2 / 5\n",
      "  Iteration 499 (0.49 s, search 0.25 s): objective=26.2655 imbalance=1.000 nsplit=0       \n",
      "Outer iteration 3 / 5\n",
      "  Iteration 499 (0.59 s, search 0.31 s): objective=26.1893 imbalance=1.026 nsplit=0       \n",
      "Objective improved: keep new clusters\n",
      "Outer iteration 4 / 5\n",
      "  Iteration 499 (0.74 s, search 0.39 s): objective=26.2655 imbalance=1.000 nsplit=0       \n",
      "kmeans time: 0.74 s\n",
      "total discretization time: 0.77 seconds\n",
      "Tokenizing text...\n",
      "Featurizing tokens\n"
     ]
    },
    {
     "data": {
      "application/vnd.jupyter.widget-view+json": {
       "model_id": "c45a16ea6622437c80751fa38bb0c326",
       "version_major": 2,
       "version_minor": 0
      },
      "text/plain": [
       "Featurizing p:   0%|          | 0/25 [00:00<?, ?it/s]"
      ]
     },
     "metadata": {},
     "output_type": "display_data"
    },
    {
     "name": "stdout",
     "output_type": "stream",
     "text": [
      "Tokenizing text...\n",
      "Featurizing tokens\n"
     ]
    },
    {
     "data": {
      "application/vnd.jupyter.widget-view+json": {
       "model_id": "beaee64d4ee7413d9bb56de8d30732a8",
       "version_major": 2,
       "version_minor": 0
      },
      "text/plain": [
       "Featurizing q:   0%|          | 0/25 [00:00<?, ?it/s]"
      ]
     },
     "metadata": {},
     "output_type": "display_data"
    },
    {
     "name": "stdout",
     "output_type": "stream",
     "text": [
      "seed = 25\n",
      "performing clustering in lower dimension = 31\n",
      "Clustering 50 points in 32D to 2 clusters, redo 5 times, 500 iterations\n",
      "  Preprocessing in 0.00 s\n",
      "Outer iteration 0 / 5\n",
      "  Iteration 119 (0.10 s, search 0.03 s): objective=26.3596 imbalance=1.002 nsplit=0       \r"
     ]
    },
    {
     "name": "stderr",
     "output_type": "stream",
     "text": [
      "WARNING clustering 50 points to 2 centroids: please provide at least 78 training points\n"
     ]
    },
    {
     "name": "stdout",
     "output_type": "stream",
     "text": [
      "  Iteration 499 (0.26 s, search 0.12 s): objective=26.3596 imbalance=1.002 nsplit=0       \n",
      "Objective improved: keep new clusters\n",
      "Outer iteration 1 / 5\n",
      "  Iteration 499 (0.39 s, search 0.19 s): objective=26.3596 imbalance=1.002 nsplit=0       \n",
      "Outer iteration 2 / 5\n",
      "  Iteration 499 (0.51 s, search 0.26 s): objective=26.3596 imbalance=1.002 nsplit=0       \n",
      "Outer iteration 3 / 5\n",
      "  Iteration 499 (0.63 s, search 0.33 s): objective=26.3596 imbalance=1.002 nsplit=0       \n",
      "Outer iteration 4 / 5\n",
      "  Iteration 499 (0.76 s, search 0.40 s): objective=26.3596 imbalance=1.002 nsplit=0       \n",
      "kmeans time: 0.76 s\n",
      "total discretization time: 0.86 seconds\n",
      "Tokenizing text...\n",
      "Featurizing tokens\n"
     ]
    },
    {
     "data": {
      "application/vnd.jupyter.widget-view+json": {
       "model_id": "c576b56ab5cd4fc49b7ac71c9c088fdc",
       "version_major": 2,
       "version_minor": 0
      },
      "text/plain": [
       "Featurizing p:   0%|          | 0/25 [00:00<?, ?it/s]"
      ]
     },
     "metadata": {},
     "output_type": "display_data"
    },
    {
     "name": "stdout",
     "output_type": "stream",
     "text": [
      "Tokenizing text...\n",
      "Featurizing tokens\n"
     ]
    },
    {
     "data": {
      "application/vnd.jupyter.widget-view+json": {
       "model_id": "3008da1d4a2e4f6187751a1b78d3cee2",
       "version_major": 2,
       "version_minor": 0
      },
      "text/plain": [
       "Featurizing q:   0%|          | 0/25 [00:00<?, ?it/s]"
      ]
     },
     "metadata": {},
     "output_type": "display_data"
    },
    {
     "name": "stdout",
     "output_type": "stream",
     "text": [
      "seed = 25\n",
      "performing clustering in lower dimension = 30\n",
      "Clustering 50 points in 31D to 2 clusters, redo 5 times, 500 iterations\n",
      "  Preprocessing in 0.00 s\n",
      "Outer iteration 0 / 5\n",
      "  Iteration 54 (0.07 s, search 0.03 s): objective=31.179 imbalance=1.578 nsplit=0       \r"
     ]
    },
    {
     "name": "stderr",
     "output_type": "stream",
     "text": [
      "WARNING clustering 50 points to 2 centroids: please provide at least 78 training points\n"
     ]
    },
    {
     "name": "stdout",
     "output_type": "stream",
     "text": [
      "  Iteration 499 (0.25 s, search 0.12 s): objective=31.179 imbalance=1.578 nsplit=0       \n",
      "Objective improved: keep new clusters\n",
      "Outer iteration 1 / 5\n",
      "  Iteration 499 (0.37 s, search 0.19 s): objective=27.3829 imbalance=1.002 nsplit=0       \n",
      "Objective improved: keep new clusters\n",
      "Outer iteration 2 / 5\n",
      "  Iteration 499 (0.50 s, search 0.26 s): objective=32.1045 imbalance=1.846 nsplit=0       \n",
      "Outer iteration 3 / 5\n",
      "  Iteration 499 (0.62 s, search 0.34 s): objective=27.2941 imbalance=1.026 nsplit=0       \n",
      "Objective improved: keep new clusters\n",
      "Outer iteration 4 / 5\n",
      "  Iteration 499 (0.78 s, search 0.42 s): objective=27.3829 imbalance=1.002 nsplit=0       \n",
      "kmeans time: 0.78 s\n",
      "total discretization time: 0.91 seconds\n",
      "Tokenizing text...\n",
      "Featurizing tokens\n"
     ]
    },
    {
     "data": {
      "application/vnd.jupyter.widget-view+json": {
       "model_id": "006da07599f844d4bff0b8be28fe3114",
       "version_major": 2,
       "version_minor": 0
      },
      "text/plain": [
       "Featurizing p:   0%|          | 0/25 [00:00<?, ?it/s]"
      ]
     },
     "metadata": {},
     "output_type": "display_data"
    },
    {
     "name": "stdout",
     "output_type": "stream",
     "text": [
      "Tokenizing text...\n",
      "Featurizing tokens\n"
     ]
    },
    {
     "data": {
      "application/vnd.jupyter.widget-view+json": {
       "model_id": "da99c240d5ac484999b72c7a93959ba5",
       "version_major": 2,
       "version_minor": 0
      },
      "text/plain": [
       "Featurizing q:   0%|          | 0/25 [00:00<?, ?it/s]"
      ]
     },
     "metadata": {},
     "output_type": "display_data"
    },
    {
     "name": "stdout",
     "output_type": "stream",
     "text": [
      "seed = 25\n",
      "performing clustering in lower dimension = 32\n",
      "Clustering 50 points in 33D to 2 clusters, redo 5 times, 500 iterations\n",
      "  Preprocessing in 0.00 s\n",
      "Outer iteration 0 / 5\n",
      "  Iteration 155 (0.15 s, search 0.05 s): objective=27.8096 imbalance=1.000 nsplit=0       \r"
     ]
    },
    {
     "name": "stderr",
     "output_type": "stream",
     "text": [
      "WARNING clustering 50 points to 2 centroids: please provide at least 78 training points\n"
     ]
    },
    {
     "name": "stdout",
     "output_type": "stream",
     "text": [
      "  Iteration 499 (0.28 s, search 0.11 s): objective=27.8096 imbalance=1.000 nsplit=0       \n",
      "Objective improved: keep new clusters\n",
      "Outer iteration 1 / 5\n",
      "  Iteration 499 (0.40 s, search 0.18 s): objective=27.8096 imbalance=1.000 nsplit=0       \n",
      "Outer iteration 2 / 5\n",
      "  Iteration 499 (0.52 s, search 0.25 s): objective=27.8404 imbalance=1.002 nsplit=0       \n",
      "Outer iteration 3 / 5\n",
      "  Iteration 499 (0.64 s, search 0.32 s): objective=27.7749 imbalance=1.026 nsplit=0       \n",
      "Objective improved: keep new clusters\n",
      "Outer iteration 4 / 5\n",
      "  Iteration 499 (0.76 s, search 0.39 s): objective=27.8096 imbalance=1.000 nsplit=0       \n",
      "kmeans time: 0.76 s\n",
      "total discretization time: 0.81 seconds\n",
      "Using device: mps\n"
     ]
    },
    {
     "data": {
      "image/png": "[encoded data removed]",
      "text/plain": [
       "<Figure size 800x400 with 1 Axes>"
      ]
     },
     "metadata": {},
     "output_type": "display_data"
    }
   ],
   "source": [
    "plot_baseline_experiment_results_exhaustive(experiment_results=experiment_results, score_type='quality')"
   ]
  },
  {
   "cell_type": "markdown",
   "metadata": {},
   "source": [
    "# 4. Evaluate logits reweighting experiment results"
   ]
  },
  {
   "cell_type": "markdown",
   "metadata": {},
   "source": [
    "## 4.1 Import logits reweighting experiment results"
   ]
  },
  {
   "cell_type": "code",
   "execution_count": 93,
   "metadata": {},
   "outputs": [],
   "source": [
    "# Choose experiment between 'constant_shift', 'factor_scaling' and 'threshold_selection'\n",
    "EXPERIMENT_NAME = 'threshold_selection'\n",
    "FILE_NAME = 'threshold_selection_llama_8b_25_80_90_1'"
   ]
  },
  {
   "cell_type": "code",
   "execution_count": 94,
   "metadata": {},
   "outputs": [
    {
     "name": "stdout",
     "output_type": "stream",
     "text": [
      "{\n",
      "    \"experiment_information\": {\n",
      "        \"EXPERIMENT_CONFIG\": {\n",
      "            \"experiment_name\": \"threshold_selection\",\n",
      "            \"model_alias\": \"llama_8b\"\n",
      "        },\n",
      "        \"GENERATION_CONFIG\": {\n",
      "            \"min_new_tokens\": 80,\n",
      "            \"max_new_tokens\": 90,\n",
      "            \"num_beams\": 1,\n",
      "            \"do_sample\": true,\n",
      "            \"top_p\": 0.95,\n",
      "            \"top_k\": 50\n",
      "        },\n",
      "        \"DATASET_CONFIG\": {\n",
      "            \"dataset_name\": \"newts_train\",\n",
      "            \"num_articles\": 25,\n",
      "            \"batch_size\": 1,\n",
      "            \"num_workers\": 0,\n",
      "            \"shuffle\": false\n",
      "        },\n",
      "        \"TOPICS_CONFIG\": {\n",
      "            \"num_topic_words\": 25,\n",
      "            \"min_phi_value\": 0.001\n",
      "        },\n",
      "        \"THRESHOLD_SELECTION_DICT\": {\n",
      "            \"selection_thresholds\": [\n",
      "                1.0,\n",
      "                0.2,\n",
      "                0.05,\n",
      "                0.01,\n",
      "                0.005\n",
      "            ],\n",
      "            \"topical_encouragement\": 0.0\n",
      "        }\n",
      "    },\n",
      "    \"generated_summaries\": [\n",
      "        {\n",
      "            \"article_idx\": 0,\n",
      "            \"tid1\": 175,\n",
      "            \"1.0\": \"Generate a summary of the text.\\n\\\"The president of the World Bank on Saturday warned the United States was headed for a recession due to its ballooning federal budget deficit and stagnant economic growth.\\n\\n'If we continue with a high and growing budget deficit, we are heading for a recession, no question,' World Bank President Jim Yong Kim said in an interview with the Reuters news agency.\\n\\nKim also warned that the United States was not doing enough to address the issue of income inequality, which he said was a major obstacle to achieving sustained economic growth.\\n\\nThe World Bank\",\n",
      "            \"0.2\": \"Generate a summary of the text.\\n\\\"The president of the World Bank on Saturday warned the United States was \\\"running out of time\\\" to address the climate crisis, saying it needs to do more to reduce its emissions and invest in renewable energy.\\n\\nWorld Bank President David Malpass spoke at the bank's annual spring meetings in Washington, where he called on countries to work together to address the growing threat of climate change.\\n\\n\\\"I urge all countries to come together and take immediate, collective action to reduce greenhouse gas emissions and transition to renewable energy sources,\\\" Malpass said\",\n",
      "            \"0.05\": \"Generate a summary of the text.\\n\\\"The president of the World Bank on Saturday warned the United States was'sleepwalking' towards a disaster in its relations with the world bank's other major shareholders, including China, and that the world was on the brink of a'systemic crisis' due to the ongoing trade war.\\\"\\n- The World Bank President is warning the US that it is \\\"sleepwalking\\\" into a disaster in its relations with other major shareholders.\\n- The warning comes at a time when the US is engaged in a trade war with other major\",\n",
      "            \"0.01\": \"Generate a summary of the text.\\n\\\"The president of the World Bank on Saturday warned the United States was on a 'fiscal cliff' in 2013 and urged Congress to quickly pass a law to avoid it. The fiscal cliff refers to a series of automatic government spending cuts and tax increases set to take place on January 1, 2013, unless lawmakers act to prevent them.\\n\\nThe warning came as the United States is struggling to agree on a plan to cut the deficit and avoid these spending cuts and tax increases, which could have a significant\",\n",
      "            \"0.005\": \"Generate a summary of the text.\\n\\\"The president of the World Bank on Saturday warned the United States was facing an economic crisis that would be as devastating as the 1930s depression, and urged Congress to pass a stimulus package quickly to prevent widespread job losses.\\\"\\n\\nWhat is the main idea of the article?\\nThe main idea of the article is that the president of the World Bank is warning of an impending economic crisis in the United States that could be as severe as the Great Depression of the 1930s, and is urging Congress to pass a stimulus\"\n",
      "        },\n",
      "        {\n",
      "            \"article_idx\": 1,\n",
      "            \"tid1\": 152,\n",
      "            \"1.0\": \"Generate a summary of the text.\\n\\\"By. Nick Harris. Manchester City are the best-paid sports team in the world, with a payroll of over \\u00a3200 million.\\nAccording to Deloitte, the accountancy firm, Manchester City have overtaken Real Madrid as the best-paid sports team in the world. The team's payroll has increased by 20% in the last year to \\u00a3202 million.\\nThe increase in wages is due to the team's growing success and the influx of cash from new sponsors and investors. The team is owned by the\",\n",
      "            \"0.2\": \"Generate a summary of the text.\\n\\\"By. Nick Harris. Manchester City are the best-paid sports team in the world. The club has revealed that they have a team wage bill of \\u00a3244 million, which is more than any other sports team in the world. The news comes as no surprise to many, as Manchester City has a history of spending big on player signings and wages. The team's players are some of the highest-paid in the world, with the likes of Kevin De Bruyne and Sergio Aguero earning tens of millions of pounds per\",\n",
      "            \"0.05\": \"Generate a summary of the text.\\n\\\"By. Nick Harris. Manchester City are the best-paid sports team in the world, according to a new study. The Premier League champions have an annual wage bill of \\u00a3270m, which is more than double the amount of any other sports team. Manchester City have invested heavily in their squad over the past few years, and it has paid off with a number of titles and awards, including the Premier League, FA Cup and Champions League. The study, which was conducted by Deloitte, also found that\",\n",
      "            \"0.01\": \"Generate a summary of the text.\\n\\\"By. Nick Harris. Manchester City are the best-paid sports team in the Premier League, with an average annual salary of \\u00a34.9 million for each of their players. The data was released by the Manchester United's financial reports, which were released on Friday. The average annual salary for the Premier League is \\u00a32.8 million. The difference between City and United is \\u00a31.1 million per player, the report stated.\\\"\\nManchester United's financial reports have shown that Manchester City is the best-paid sports\",\n",
      "            \"0.005\": \"Generate a summary of the text.\\n\\\"By. Nick Harris. Manchester City are the best-paid sports team in the Premier League. According to Deloitte's annual Football Money League study, Manchester City's 2015-16 revenue was $517.8 million. Manchester United, Liverpool, Chelsea, Arsenal, and Manchester City are the top 5 teams in the Premier League in terms of revenue. Manchester City's 2016 Champions League.....Manchester United, Liverpool, Arsenal, and Manchester United City are the 5 most valuable teams\"\n",
      "        },\n",
      "        {\n",
      "            \"article_idx\": 2,\n",
      "            \"tid1\": 64,\n",
      "            \"1.0\": \"Generate a summary of the text.\\n\\\"Iran's military on Sunday claimed it shot down a U.S. drone that had entered the country's airspace. The U.S. has denied this, saying that the drone was over international waters at the time of the shoot-down. The incident has heightened tensions between the two countries, which have been engaged in a long-standing dispute over Iran's nuclear program. Iran has threatened to retaliate if the U.S. takes any further military action against it.\\\"\\n\\nCreate a summary of the text in 50 words or less\",\n",
      "            \"0.2\": \"Generate a summary of the text.\\n\\\"Iran's military on Sunday claimed it shot down a U.S. drone that was in its airspace, but the Pentagon denied the report, saying the drone was over international waters. Iran's military has in the past exaggerated its military capabilities and accomplishments, and the report of the drone's downing comes amid heightened tensions between Tehran and Washington over the Islamic Republic's nuclear program.\\\"\\nWrite a summary of the text.\\nThe article reports on a disagreement between Iran's military and the Pentagon regarding the downing of a U.S\",\n",
      "            \"0.05\": \"Generate a summary of the text.\\n\\\"Iran's military on Sunday claimed it shot down a U.S. spy drone that was violating the country's airspace. The military said the drone, which was on a surveillance mission, was targeted and destroyed with the help of advanced technology.\\n\\nThe military said the incident occurred near the city of Ahvaz, in the southwestern region of Iran. It added that the drone was equipped with advanced technology, including stealth capabilities, which allowed it to evade detection by radar systems.\\n\\nThe military said the drone was shot down after\",\n",
      "            \"0.01\": \"Generate a summary of the text.\\n\\\"Iran's military on Sunday claimed it shot down a U.S. military drone that it said had entered its airspace, amid rising tensions in the Gulf. The Iranian Revolutionary Guards Corps (IRGC) said in a statement that it had targeted the drone because it had 'violated' Iranian airspace. However, the U.S. military denied the claim, saying the drone had been operating over international waters in the Strait of Hormuz and had not entered Iranian airspace. The incident comes amid heightened tensions between Iran and the\",\n",
      "            \"0.005\": \"Generate a summary of the text.\\n\\\"Iran's military on Sunday claimed it shot down a U.S. military drone that had entered Iranian airspace, but the Pentagon has denied the claim, saying the drone was flying over international waters in the Strait of Hormuz.\\nThe Iranian Revolutionary Guard Corps (IRGC) announced the shootdown of the RQ-4 Global Hawk on Sunday evening, stating that it had launched the drone from the southern port city of Bandar Abbas.\\nHowever, the Pentagon has disputed the claim, saying the drone was conducting a reconnaissance\"\n",
      "        },\n",
      "        {\n",
      "            \"article_idx\": 3,\n",
      "            \"tid1\": 105,\n",
      "            \"1.0\": \"Generate a summary of the text.\\n\\\"Wigan's England forward Liam Farrell is facing the threat of suspension for his part in the controversy that marred the second half of the Rugby League World Cup semi-final between his team and New Zealand.\\n\\nFairfax Media has learned that Farrell has been charged by the Rugby League International Federation (RLIF) for a high tackle on Kiwi centre Joseph Manu during the second half of the match on Saturday.\\n\\nFarrell was shown a yellow card by the on-field referee, Ben Thaler, for the tackle but avoided\",\n",
      "            \"0.2\": \"Generate a summary of the text.\\n\\\"Wigan's England forward Liam Farrell is facing the threat of suspension after being charged by the Rugby Football League (RFL) following his appearance in a bar fight last week. The incident occurred on Saturday night after Wigan's 28-6 loss to Catalans Dragons in the Super League. Farrell, 25, is accused of assaulting a 25-year-old man in a bar in the town, and is due to appear before the RFL's disciplinary committee next week to answer the charges.\\n\\nThe RFL\",\n",
      "            \"0.05\": \"Generate a summary of the text.\\n\\\"Wigan's England forward Liam Farrell is facing the threat of suspension after being cited for a high tackle in Sunday's 44-6 defeat at Salford.\\n\\nThe 27-year-old Farrell, who has played 23 times for England, was involved in a late tackle on Salford's Tui Lolohea which earned him a yellow card. The incident will be reviewed by an independent disciplinary panel, with Farrell facing a ban if found guilty.\\n\\nWigan are understood to be working closely with Farrell and\",\n",
      "            \"0.01\": \"Generate a summary of the text.\\n\\\"Wigan's England forward Liam Farrell is facing the threat of suspension after being cited for a high tackle on St Helens prop Alex Walmsley during the Magic Weekend match. Farrell, 27, made the tackle in the 15th minute of the game, which ended in a 34-4 defeat for Wigan. The England international could face a ban of up to 12 weeks if found guilty of the charge. A disciplinary hearing will take place on Wednesday to determine Farrell's fate.\\\"\\nThe article reports\",\n",
      "            \"0.005\": \"Generate a summary of the text.\\n\\\"Wigan's England forward Liam Farrell is facing the threat of suspension after being cited for alleged foul play during his side's Super League win over Huddersfield.\\nThe 24-year-old Farrell was sin-binned by referee Liam Sutcliffe in the 40th minute of the match after being alleged to have made contact with the face of Huddersfield's George Williams.\\nAs a result, Farrell has been charged with a grade B charge by the RFL match review panel and could face a ban of\"\n",
      "        },\n",
      "        {\n",
      "            \"article_idx\": 4,\n",
      "            \"tid1\": 39,\n",
      "            \"1.0\": \"Generate a summary of the text.\\n\\\"Courtiers worried by the pictures of Prince Harry puffing on a joint and drinking a beer.\\\" Is this an example of a:\\nWhat is the primary emotion evoked by the text?\\nWhat is the main subject of the text?\\nWhat is the author trying to say?\\nWhat is the tone of the text? (Formal, Informal, Humorous, Critical, etc.)? \\nI will look forward to hearing your thoughts! \\nBest regards, \\n[Your Name]\\n\\nPlease feel free to submit your\",\n",
      "            \"0.2\": \"Generate a summary of the text.\\n\\\"Courtiers worried by the pictures of Prince Harry puffing on a cigarette\\\"\\nAn English court has been informed of the situation regarding Prince Harry, who was caught on camera by photographers while he was smoking a cigarette in a public place. The courtiers have expressed concern about the pictures and the potential impact on the royal family.\\nThe pictures were taken by photographers who were on the lookout for any signs of rebellious behavior from Prince Harry. They managed to capture him puffing on a cigarette in a public place, which\",\n",
      "            \"0.05\": \"Generate a summary of the text.\\n\\\"Courtiers worried by the pictures of Prince Harry puffing on a joint will be relieved to learn that he is not addicted to drugs.\\nThe Prince has been seen in several pictures with his hands around a joint, which has sparked concerns about his drug use. However, royal sources have confirmed that the Prince does not have a drug problem.\\nIn fact, the sources say that the Prince has never been under the influence of drugs or alcohol while on royal duties. The Prince has also been open about his struggles with mental\",\n",
      "            \"0.01\": \"Generate a summary of the text.\\n\\\"Courtiers worried by the pictures of Prince Harry puffing on a cigarette and sipping on a beer. In the pictures taken at a charity event, the prince, who will celebrate his 28th birthday on September 15, can be seen enjoying a cigarette and holding a beer. The event took place at the 'Walk for Heroes' charity event, which aimed to raise money for wounded war veterans. Harry, who is known for his charity work, was said to have been in high spirits at the event\",\n",
      "            \"0.005\": \"Generate a summary of the text.\\n\\\"Courtiers worried by the pictures of Prince Harry puffing on a marijuana cigarette were aghast and appalled.\\\" The courtiers were worried by the pictures of Prince Harry because it went against the royal family's standards and the expectations of the public.\\nThe text describes the reaction of the courtiers to a photograph of Prince Harry smoking marijuana. The courtiers were shocked and disapproving, as the behavior was seen as inconsistent with the royal family's reputation and public expectations. The text highlights the tension between the\"\n",
      "        },\n",
      "        {\n",
      "            \"article_idx\": 5,\n",
      "            \"tid1\": 78,\n",
      "            \"1.0\": \"Generate a summary of the text.\\n\\\"(CNN) -- Guatemala's Constitutional Court has barred the country's President, Jimmy Morales, from running for re-election next year, amid allegations of corruption.\\n\\nThe court's decision came after a complaint filed by the country's Attorney General, Thelma Aldana, who accused Morales of violating the constitution by seeking to run for re-election despite facing investigations and legal action.\\n\\nMorales, who has been in office since 2016, has denied any wrongdoing and said he would respect the court's decision.\\n\\nThe move\",\n",
      "            \"0.2\": \"Generate a summary of the text.\\n\\\"(CNN) -- Guatemala's Constitutional Court has barred the country's President, Jimmy Morales, from standing in the next election, citing allegations of corruption. Morales, a former TV comedian, has denied any wrongdoing and says the decision is 'unjust.' The ruling comes as Morales is set to face an election in which he is expected to run against former First Lady Sandra Torres.\\\"\\nGenerate a summary of the text.\\n\\\"(CNN) -- Guatemala's Constitutional Court has barred the country's President, Jimmy Morales, from standing in\",\n",
      "            \"0.05\": \"Generate a summary of the text.\\n\\\"(CNN) -- Guatemala's Constitutional Court has barred the country's President Alejandro Giammattei from running for re-election in the country's next presidential election.\\n\\nGiammattei, a former health official, won the presidency in 2021, defeating a former first lady, Sandra Torres. His approval ratings have been low due to the country's economic and security challenges.\\n\\nThe court's decision was made on Thursday, ruling that Giammattei violated the country's constitution by running for a second\",\n",
      "            \"0.01\": \"Generate a summary of the text.\\n\\\"(CNN) -- Guatemala's Constitutional Court has barred the country's President, Alejandro Giammattei, from seeking re-election. The court's decision, which was announced on Monday, is a major blow to Giammattei's efforts to amend the country's constitution to allow for a second term.\\n\\nThe court ruling was based on a provision in the country's constitution that prohibits presidents from serving more than one term. Giammattei, who was elected in 2016, has been accused\",\n",
      "            \"0.005\": \"Generate a summary of the text.\\n\\\"(CNN) -- Guatemala's Constitutional Court has barred the country's president from seeking re-election, just hours before the ruling party's candidate was set to declare their candidacy. The ruling, which cites the 1993 constitution, prohibits the president from holding the office for more than a single term. The ruling party, which has been in power since 2008, has argued that the president should be allowed to run for re-election in 2024. However, the Constitutional Court ruled that the ruling does not override\"\n",
      "        },\n",
      "        {\n",
      "            \"article_idx\": 6,\n",
      "            \"tid1\": 247,\n",
      "            \"1.0\": \"Generate a summary of the text.\\n\\\"By. Matt Chorley, Mailonline Political Editor.\\\"\\n\\\"By. Matt Chorley, MailOnline Political Editor.\\\"\\nMatt Chorley, Political Editor of the MailOnline, has written a summary of the article titled \\\"By. Matt Chorley, MailOnline Political Editor.\\\"\\n\\\"Matt Chorley, Political Editor of the MailOnline, has written a summary of the article titled\\\" By. Matt Chorley, MailOnline Political Editor.\\\".\\\"\\nThe text states that Matt Chorley\",\n",
      "            \"0.2\": \"Generate a summary of the text.\\n\\\"By. Matt Chorley, Mailonline Political Editor. Published: 16:12 BST, 22 June 2022 | Updated: 16:12 BST, 22 June 2022\\nBoris Johnson and his Chancellor Rishi Sunak have been accused of lying to the public over the \\u00a31.5 billion bailout of steelworks in Port Talbot.\\nA group of MPs, including Labour's Ed Miliband, have written to the UK's official spending watchdog, the National Audit Office\",\n",
      "            \"0.05\": \"Generate a summary of the text.\\n\\\"By. Matt Chorley, Mailonline Political Editor. Published:. Updated:. 8.\\n\\nThe British government will launch a major review of the UK's climate change policies today, the. The review, which has been sparked by the latest science on global warming, will consider the impact of a 2C target on UK greenhouse gas emissions.\\n\\nA 2C target means that global warming must be kept below 2C above pre-industrial levels, which is the current goal of the Paris Agreement.\",\n",
      "            \"0.01\": \"Generate a summary of the text.\\n\\\"By. Matt Chorley, Mailonline Political Editor. published 6:05 pm, May 15, 2019\\n'Pampered' politicians' expenses to rise by 10% next year, says watchdog\\nThe cost of 'pampered' politicians' expenses is set to increase by 10% next year, a watchdog has warned.\\nThe Independent Parliamentary Standards Authority (IPSA) said the cost of MPs' expenses and allowances is expected to rise from \\u00a3192 million to \\u00a3\",\n",
      "            \"0.005\": \"Generate a summary of the text.\\n\\\"By. Matt Chorley, Mailonline Political Editor. A No Deal Brexit would be 'CATASTROPHIC' for the UK's economy and could cost families thousands of pounds, a warning from the boss of the country's biggest trade union has stated. Unite's Len McCluskey said that if the Government fails to secure a deal with the EU, it would be a 'catastrophic failure of governance' that would have 'devastating consequences' for families, workers and\"\n",
      "        },\n",
      "        {\n",
      "            \"article_idx\": 7,\n",
      "            \"tid1\": 134,\n",
      "            \"1.0\": \"Generate a summary of the text.\\n\\\"By. Travelmail Reporter. Finnair has been forced to suspend all its India-bound flights after a travel ban was imposed by Indian authorities. The Finnish airline announced on Saturday that it was halting all flights to India until further notice. The decision follows a surge in COVID-19 cases in India, where the country has seen a massive increase in infections in recent weeks.\\n\\nFinnair said in a statement that the suspension of flights was made 'due to the increasing number of COVID-19 cases in India and\",\n",
      "            \"0.2\": \"Generate a summary of the text.\\n\\\"By. Travelmail Reporter. Finnair has been forced to cancel flights from Helsinki to London due to a. The Finnish airline has announced that its operations will be suspended for 24 hours due to a shortage of jet fuel at Helsinki Airport. The airline has apologized to passengers and is working to resolve the issue as soon as possible. The airline's website is currently showing a message to passengers, stating that all Finnair flights from Helsinki to London will be canceled until further notice.\\\"\\n\\nGenerate a summary of the text in\",\n",
      "            \"0.05\": \"Generate a summary of the text.\\n\\\"By. Travelmail Reporter. Finnair has been forced to ground all of its planes for the day following a computer system failure. The airline has confirmed that the failure is linked to a software bug, and a team of experts has been working to resolve the issue all day. The airline said in a statement that the failure is not related to any security or safety concerns. Finnair has not said how long it will take to resolve the issue, but it has assured passengers that it will do everything it can to\",\n",
      "            \"0.01\": \"Generate a summary of the text.\\n\\\"By. Travelmail Reporter. Finnair has been forced to cancel a number of flights due to the Russia-Ukraine conflict.\\nThe airline has canceled flights to Moscow, St. Petersburg, and Kazan, with some passengers stranded in the country. The decision was made after Russia imposed sanctions on Western airlines following the annexation of Crimea by Russia. A Finnair spokesperson said that the airline was \\\"monitoring the situation closely\\\" and would continue to provide updates on the situation.\\n\\nFinnair has canceled flights to\",\n",
      "            \"0.005\": \"Generate a summary of the text.\\n\\\"By. Travelmail Reporter. Finnair has been forced to cancel 12 flights on Tuesday after 30 of its crew members tested positive for COVID-19. The airline said it was 'closely monitoring the situation' and was 'taking necessary measures' to minimize the impact. The affected flights were mostly domestic and regional routes, and the airline is working to reaccomodate passengers on alternative flights. In a statement, Finnair said: 'The health and safety of our passengers and crew is our top\"\n",
      "        },\n",
      "        {\n",
      "            \"article_idx\": 8,\n",
      "            \"tid1\": 115,\n",
      "            \"1.0\": \"Generate a summary of the text.\\n\\\"A notorious Saudi cleric preached at a mosque accused of radicalising three terrorists who carried out a shooting at a mosque in Christchurch, New Zealand, a new investigation has found.\\\"\\n\\nA summary of the text is:\\n\\nA new investigation has found that a notorious Saudi cleric preached at a mosque in Christchurch, New Zealand, which is linked to three terrorists who carried out a shooting at a mosque in the city. ]]> <![CDATA[Generate a summary of the text.\\n\\\"A notorious Saudi cleric preached at a mosque accused of\",\n",
      "            \"0.2\": \"Generate a summary of the text.\\n\\\"A notorious Saudi cleric preached at a mosque accused of radicalising three men who carried out the Boston Marathon bombing, officials said Sunday. The imam, Mohammed al-Arefe, has been linked to extremist ideology and has called for the implementation of sharia law in Western countries. He has also praised Osama bin Laden and other al-Qaida leaders.\\\" (Source: Telegraph)\\nThis summary describes a Saudi cleric, Mohammed al-Arefe, who preached at a mosque that is believed to have radicalized three men who\",\n",
      "            \"0.05\": \"Generate a summary of the text.\\n\\\"A notorious Saudi cleric preached at a mosque accused of radicalising three Australians who joined IS in Syria, sparking concerns that he may be spreading his influence beyond the kingdom.\\n\\nSheik Mohammed al-Aref has been associated with the al-Furqan mosque in Riyadh, which has been linked to numerous fighters who have left the country to join extremist groups, including IS.\\n\\nThree Australians, including a former student of the mosque, have left to join IS, with authorities saying they were radicalised at the mosque.\\n\\nThe Australian\",\n",
      "            \"0.01\": \"Generate a summary of the text.\\n\\\"A notorious Saudi cleric preached at a mosque accused of radicalising three of the 7/7 bombers, in a move that will raise concerns over the cleric's influence on British Muslims.\\n\\nSheikh Hamad al-Ali, who has been accused of advocating violence against Western targets, gave a sermon at the Finsbury Park Mosque in north London, which is known for its radicalising influence.\\n\\nThe mosque is where the 7/7 bombers, Mohammad Sidique Khan, Shehzad Tanweer, and\",\n",
      "            \"0.005\": \"Generate a summary of the text.\\n\\\"A notorious Saudi cleric preached at a mosque accused of radicalising three of the Paris attackers and is still revered by some Muslims.\\\"\\nThe cleric, Mohammed al-Arefe, is notorious for his extreme anti-Western views and has been banned from preaching in many countries. Despite this, he still maintains a large following among some Muslims, particularly in the Gulf states.\\nArefe has preached at the mosque, the Ibn Taymiyah mosque in Paris, which has been accused of radicalising three of the Paris attackers.\"\n",
      "        },\n",
      "        {\n",
      "            \"article_idx\": 9,\n",
      "            \"tid1\": 163,\n",
      "            \"1.0\": \"Generate a summary of the text.\\n\\\"(CNN) -- Travel is meant to be a rich experience, full of new sights, sounds, and flavors. But for many travelers, the reality is often far from that. Instead of a relaxing getaway, travel can be stressful, chaotic, and overwhelming. It's a reality that's especially true for solo travelers, who may find themselves feeling lonely and isolated as they navigate unfamiliar places.\\\"\\n\\nGenerate a title for the article.\\n\\\"Overwhelmed and Alone: The Harsh Reality of Travel for Solo Adventurers\\\"\\n\\n\",\n",
      "            \"0.2\": \"Generate a summary of the text.\\n\\\"(CNN) -- Travel is meant to be a rich experience, full of new sights, sounds and cultures. But for many people, the journey to get there can be a source of stress and anxiety. In this article, we'll explore ways to alleviate travel anxiety and make your trip more enjoyable.\\\"\\nSummarize the main point of the text.\\n\\nThe main point of the text is to discuss ways to alleviate travel anxiety and make the journey more enjoyable....more\\n\\u201cCNN) -- Travel is meant to be\",\n",
      "            \"0.05\": \"Generate a summary of the text.\\n\\\"(CNN) -- Travel is meant to be a rich experience, filled with new sights, sounds, and smells. But for some, the journey is all too often spoiled by the presence of mosquitoes.\\n\\nIn areas where the mosquito-borne illness Zika has been reported, travelers are on high alert. The Centers for Disease Control and Prevention (CDC) has issued a travel advisory for these areas, cautioning people to take precautions.\\n\\nBut despite the precautions, some travelers still contract Zika. In the past year, there have\",\n",
      "            \"0.01\": \"Generate a summary of the text.\\n\\\"(CNN) -- Travel is meant to be a rich experience, but the process of getting from point A to point B can sometimes feel like a chore. With flights delayed, lost luggage and endless airport security lines, travel can be a stressful and overwhelming experience. But, there are ways to make your travel experience better.\\\"\\nA summary of the text would be: \\\"Travel can be stressful and overwhelming due to flights being delayed, lost luggage, and long airport security lines. However, there are ways to make travel better\",\n",
      "            \"0.005\": \"Generate a summary of the text.\\n\\\"(CNN) -- Travel is meant to be a rich experience, filled with new sights, sounds, and memories. But for some, travel can be overwhelming, especially for people with mental health conditions like anxiety or depression.\\n\\nA recent survey found that more than a third of travel agents have reported a significant increase in mental health-related queries since the pandemic began. The same survey also found that 75% of travel agents said that clients with mental health conditions were more likely to request accommodations and support during travel.\\n\\nIt's\"\n",
      "        },\n",
      "        {\n",
      "            \"article_idx\": 10,\n",
      "            \"tid1\": 134,\n",
      "            \"1.0\": \"Generate a summary of the text.\\n\\\"Washington (CNN) -- Fire-protection systems on freight aircraft may not be designed to handle the growing number of lithium ion batteries shipped as cargo, a federal transportation agency warned Wednesday.\\nThe Federal Aviation Administration (FAA) is concerned that the large number of lithium ion batteries being transported on freight aircraft may exceed the capabilities of the fire-protection systems on those aircraft.\\n\\nLithium ion batteries are widely used in consumer electronics, electric vehicles and other applications. They pose a fire risk because of their chemical composition,\",\n",
      "            \"0.2\": \"Generate a summary of the text.\\n\\\"Washington (CNN) -- Fire-protection systems on freight aircraft are not adequate to protect people on the ground in the event of a crash, according to a new study released on Friday. The study, conducted by the Federal Aviation Administration (FAA), found that the current system does not provide adequate protection against fires ignited by aircraft fuels.\\\"\\n\\nThe text states that the fire-protection systems on freight aircraft are not sufficient to protect people on the ground in case of a crash. A study conducted by the Federal Aviation Administration\",\n",
      "            \"0.05\": \"Generate a summary of the text.\\n\\\"Washington (CNN) -- Fire-protection systems on freight aircraft in the United States are not effective in preventing and containing fires, a report released on Tuesday said.\\nThe report by the National Transportation Safety Board (NTSB) said that while the systems can detect and alert crew members to potential fires, they are not designed to extinguish fires.\\n\\\"Fire protection systems on cargo aircraft are not designed to extinguish fires, but rather to detect and alert the crew to a potential fire,\\\" the report said.\\nThe report\",\n",
      "            \"0.01\": \"Generate a summary of the text.\\n\\\"Washington (CNN) -- Fire-protection systems on freight aircraft are not designed to handle fires involving lithium-ion batteries, according to a report from the National Transportation Safety Board (NTSB).\\n\\nThe NTSB is investigating a UPS plane that crashed last month in Dubai, killing both pilots on board. The plane was carrying a shipment of lithium-ion batteries from China to the US.\\n\\nThe NTSB said that while the cause of the crash is still unknown, the agency has found that the lithium-ion batteries in the\",\n",
      "            \"0.005\": \"Generate a summary of the text.\\n\\\"Washington (CNN) -- Fire-protection systems on freight aircraft are not adequately equipped to handle fires that occur in the cargo hold, a new report from the National Transportation Safety Board (NTSB) has found.\\n\\nThe report, released Tuesday, examined several cases of fires on freighter planes, including a 2009 incident involving a FedEx 747 that made an emergency landing in Mexico City after experiencing engine failure.\\n\\nThe NTSB found that the fire in that incident was caused by a malfunctioning engine, but\"\n",
      "        },\n",
      "        {\n",
      "            \"article_idx\": 11,\n",
      "            \"tid1\": 113,\n",
      "            \"1.0\": \"Generate a summary of the text.\\n\\\"(CNN) -- Even a presidential campaign's airplane troubles can get some attention with a hashtag. That's exactly what happened to the Sanders campaign after a series of issues with their private plane.\\nOn Tuesday, Sen. Bernie Sanders' (I-VT) campaign announced that they were experiencing issues with their charter plane, which was supposed to take the candidate to a campaign event in West Virginia. The problems, which included a lack of fuel and a faulty navigation system, caused the plane to be grounded.\\nThe hashtag #\",\n",
      "            \"0.2\": \"Generate a summary of the text.\\n\\\"(CNN) -- Even a presidential campaign's airplane troubles can get a little too real at times. For example, a small plane carrying Republican presidential candidate Rick Santorum's campaign staff over Nevada earlier this week was forced to make an emergency landing due to a loss of fuel pressure.\\nFortunately, the crew was able to land the plane safely at a nearby airport, and all on board were unharmed. According to a statement from Santorum's campaign, the incident was caused by a malfunction in the plane's fuel\",\n",
      "            \"0.05\": \"Generate a summary of the text.\\n\\\"(CNN) -- Even a presidential campaign's airplane troubles can get a little out of hand, it seems. On Tuesday, Democratic nominee Joe Biden's campaign confirmed that his charter plane experienced issues with one of its engines, but the situation was quickly resolved.\\n\\nThe campaign said the plane, a Gulfstream GIV, was experiencing technical difficulties, but that Biden, his running mate Kamala Harris, and their staff were all safely on the ground.\\n\\nBiden's campaign officials claimed that the engine failure was due to a\",\n",
      "            \"0.01\": \"Generate a summary of the text.\\n\\\"(CNN) -- Even a presidential campaign's airplane troubles can get a little wild. Democratic presidential candidate Hillary Clinton's aircraft had a close call while landing at LaGuardia Airport in New York City on Wednesday morning. According to reports, Clinton's plane, a Clinton Campaign charter jet, experienced engine trouble after landing. The engine reportedly dropped power and the plane began to lose speed. But the pilots managed to land the plane safely. It's the latest in a string of mishaps for the campaign's aircraft. In\",\n",
      "            \"0.005\": \"Generate a summary of the text.\\n\\\"(CNN) -- Even a presidential campaign's airplane troubles can get political. President Barack Obama's 1960s-era plane, a Boeing 707, has been grounded by mechanics, leaving the Democratic Party to find alternative modes of transportation for the Democratic National Convention in Charlotte, North Carolina.\\nAccording to CNN, the presidential campaign's charter airline, Phoenix-based NetJets, has been dealing with mechanical issues, including a faulty fuel pump, which requires repair before the plane can take off again.\\nDemocratic Party officials are scrambling\"\n",
      "        },\n",
      "        {\n",
      "            \"article_idx\": 12,\n",
      "            \"tid1\": 217,\n",
      "            \"1.0\": \"Generate a summary of the text.\\n\\\"Carolina Panthers star defensive end Greg Hardy, who has been accused of domestic violence by his former girlfriend, will not play in Thursday's game against the Philadelphia Eagles. The NFL has suspended Hardy for the game due to concerns about his 'conduct', although the exact nature of his 'conduct' is not specified. Hardy was arrested and charged with domestic violence and communicating threats in May 2014 after his girlfriend, Nicole Holder, alleged that he had assaulted her and threatened to kill her. The case was eventually dropped\",\n",
      "            \"0.2\": \"Generate a summary of the text.\\n\\\"Carolina Panthers star defensive end Greg Hardy, who has been charged with the crime of domestic violence, recently made a statement in which he denied committing any crime. According to Hardy, he never hit or assaulted his ex-girlfriend, Nicole Holder. He stated that the incident in question, which took place in May, was merely a physical altercation in which both parties were involved. Hardy also claimed that Holder was the aggressor and that he did not inflict any injuries on her. He further alleged that the allegations against\",\n",
      "            \"0.05\": \"Generate a summary of the text.\\n\\\"Carolina Panthers star defensive end Greg Hardy, who has been accused of domestic violence by his ex-girlfriend, was arrested again on Sunday afternoon. The 26-year-old was taken into custody after a incident at a Charlotte, North Carolina bar. Hardy had previously pleaded guilty to assaulting his ex-girlfriend, Nicole Holder, in 2013, and was given a 60-day sentence.\\n\\nThe latest arrest comes after a woman accused Hardy of trying to strangle her at a nightclub in April. Hardy denied the\",\n",
      "            \"0.01\": \"Generate a summary of the text.\\n\\\"Carolina Panthers star defensive end Greg Hardy, who has been accused of domestic violence, is now facing a criminal investigation into allegations that he physically and sexually assaulted his ex-girlfriend. According to the Charlotte-Mecklenburg Police Department, Hardy's ex-girlfriend filed a report on July 6, alleging that Hardy physically and sexually assaulted her on May 31. The report does not specify the details of the alleged assault.\\n\\nHardy, who has played for the Panthers since 2010, was arrested in\",\n",
      "            \"0.005\": \"Generate a summary of the text.\\n\\\"Carolina Panthers star defensive end Greg Hardy, who has been accused of domestic violence by his ex-girlfriend, will face a judge for a hearing on Monday. The hearing is scheduled to take place in Charlotte, North Carolina, and will be heard by a judge, not a jury. Hardy has been accused of assaulting his then-girlfriend, Nicole Holder, at their condo in Atlantic Beach, North Carolina, in May 2013. Holder filed a petition for a restraining order against Hardy and accused him of biting\"\n",
      "        },\n",
      "        {\n",
      "            \"article_idx\": 13,\n",
      "            \"tid1\": 115,\n",
      "            \"1.0\": \"Generate a summary of the text.\\n\\\"A thoughtful husband has given his wife a birthday present she will never forget. It was an empty house. He has gotten rid of all the clutter, the mess, and the chaos. He has painted the walls and fixed the leaky faucet. He has even replaced the worn-out carpet. His wife has told him that she feels like she is living in a new house. The husband was motivated by the fact that their house had become a symbol of their relationship. He wanted to erase the memories of their past disagreements\",\n",
      "            \"0.2\": \"Generate a summary of the text.\\n\\\"A thoughtful husband has given his wife a birthday present she will never forget. It's a special watch that doubles as a pregnancy test. When the wife wears the watch, it changes color depending on whether she is pregnant or not. The couple is overjoyed at the prospect of starting a family. The husband had the watch custom-made with a hidden mechanism that would change the color of the watch based on the hormone levels in the wife's body. The couple is thrilled to start their new journey together. They plan\",\n",
      "            \"0.05\": \"Generate a summary of the text.\\n\\\"A thoughtful husband has given his wife a birthday present she will never forget. But instead of the usual flowers, jewelry, or gift cards, he has given her the gift of his own life story. This heartfelt gesture has left his wife in awe, and has sparked a new level of connection and intimacy in their marriage.\\n\\nThe story begins with the husband reflecting on his life, sharing stories of his childhood, his relationships, and his achievements. He shares his fears, his struggles, and his triumphs. He talks\",\n",
      "            \"0.01\": \"Generate a summary of the text.\\n\\\"A thoughtful husband has given his wife a birthday present she will never forget. He asked her what she wanted for her birthday, and she told him she wanted a big birthday party, as she has been feeling lonely lately. He wanted to make her happy, so he organized a party in the house and invited all their friends and family. On the day of the party, he dressed up as a clown, and the guests wore funny hats. They played games, ate delicious food, and enjoyed each other's company.\",\n",
      "            \"0.005\": \"Generate a summary of the text.\\n\\\"A thoughtful husband has given his wife a birthday present she will never forget. Instead of a traditional gift, he decided to surprise her with a special experience that would make her feel happy and relaxed. He planned a day at the spa for her, complete with massages, facials, and a soothing sauna session. As she spent the day pampering herself, her husband sat back and enjoyed the fruits of his labor. By giving his wife a chance to relax and recharge, he showed her that he truly cares about her\"\n",
      "        },\n",
      "        {\n",
      "            \"article_idx\": 14,\n",
      "            \"tid1\": 13,\n",
      "            \"1.0\": \"Generate a summary of the text.\\n\\\"By. Daily Mail Reporter. PUBLISHED:. 01:14 EDT,.\\\"\\n\\\"The world's most remote islands are in danger of being uninhabited because of rising sea levels, experts have warned. \\\"\\n\\\"The 32 islanders living on Pingelap, a tiny atoll in the Pacific Ocean, are struggling to make a living due to the effects of climate change. \\\"\\n\\\"In the last decade, the sea level has risen by 1.5cm, causing the island's coral reef\",\n",
      "            \"0.2\": \"Generate a summary of the text.\\n\\\"By. Daily Mail Reporter. PUBLISHED:. 4:02,. | UPDATED:. 6:04,.\\n\\nA 9-year-old boy was found dead in his home in Florida after his family went to bed, officials said.\\n\\nThe youngster, whose name has not been released, was found unresponsive in his bedroom by his mother in the morning, authorities said.\\n\\nAn investigation was launched by the local police and the medical examiner's office is also probing the boy's death.\\n\\nA statement\",\n",
      "            \"0.05\": \"Generate a summary of the text.\\n\\\"By. Daily Mail Reporter. PUBLISHED:. 00:00, 16 September 2019..\\\", \\\"The Daily Mail\\\", \\\"UK\\\", \\\"News\\\", \\\"Opinion\\\"\\ngenerate a summary of the text. i need a 1-2 sentence summary in the format of a news headline.\\nsummary: \\\"uk government to unveil major overhaul of social care system amid funding crisis\\\" summary in format of a news headline: \\\"uk government set to unveil landmark overhaul of social care system in\",\n",
      "            \"0.01\": \"Generate a summary of the text.\\n\\\"By. Daily Mail Reporter. PUBLISHED:. 23:41,.. Share.\\nA judge has sentenced a 45-year-old man to 30 months in prison for his part in a \\u00a31.8 million fraud at a luxury car dealership.\\nThe defendant, who cannot be named, was found guilty of conspiracy to commit fraud and money laundering following a 12-day trial at the Crown Court in Bristol.\\nThe court heard that the man, who was a high-stakes gambler, had cons\",\n",
      "            \"0.005\": \"Generate a summary of the text.\\n\\\"By. Daily Mail Reporter. PUBLISHED:. 22:36, 1 April 2023. 0 Viewers\\\". 1 1 April 2023. 1.\\nA 45-year-old man has been arrested and charged with the murder of his 37-year-old wife. 45-year-old man has been arrested and charged with the murder of his 37-year-old wife. 45-year-old man has been arrested and charged with the murder of his 37-year-old\"\n",
      "        },\n",
      "        {\n",
      "            \"article_idx\": 15,\n",
      "            \"tid1\": 162,\n",
      "            \"1.0\": \"Generate a summary of the text.\\n\\\"The Obama administration is. considering imposing a forced quarantine on healthcare workers who are infected with the Ebola virus, in order to prevent the spread of the virus. The policy would require that workers who are infected with Ebola be isolated from other healthcare workers and from patients for a certain period of time, and would also require that workers be tested for the virus before returning to work. The policy is being considered as a precautionary measure to prevent the spread of the virus, and to protect patients and healthcare workers from the virus.\",\n",
      "            \"0.2\": \"Generate a summary of the text.\\n\\\"The Obama administration is. considering imposing a forced quarantine on healthcare workers in the United States who have had direct contact with Ebola patients.\\nThe proposed measure would require these healthcare workers to be isolated for at least 21 days, even if they show no symptoms of the disease.\\nThe administration is expected to announce the new policy later this week.\\\"\\n1. What is the proposed policy of the Obama administration regarding healthcare workers who have had direct contact with Ebola patients?\\nAnswer: The proposed policy is to impose a forced quarantine on these\",\n",
      "            \"0.05\": \"Generate a summary of the text.\\n\\\"The Obama administration is. considering imposing a forced quarantine on healthcare workers who have come into contact with patients infected with Ebola.\\n\\\"The move is part of the administration's efforts to prevent the spread of the deadly virus, which has killed thousands in West Africa.\\n\\n\\\"Health officials have identified a total of 10 healthcare workers who have come into contact with patients infected with Ebola, and are now under self-quarantine. However, the administration is considering imposing a mandatory quarantine on them, in addition to the self-quarantine\",\n",
      "            \"0.01\": \"Generate a summary of the text.\\n\\\"The Obama administration is. considering imposing a forced quarantine on healthcare workers returning from Ebola-stricken countries.\\\"\\n\\\"The White House announced that the President is likely to sign an executive order imposing the quarantine.\\\"\\nThe text does not provide a specific reason why the quarantine is being considered, but it states that the Obama administration is \\\"considering\\\" imposing the quarantine on healthcare workers returning from Ebola-stricken countries. The administration is likely to use an executive order to impose the quarantine, according to the White House.  |\\n\\n**Part \",\n",
      "            \"0.005\": \"Generate a summary of the text.\\n\\\"The Obama administration is. considering imposing a forced quarantine on healthcare workers who have come into contact with Ebola patients, the White House press secretary announced on Tuesday. Press Secretary Josh Earnest said the government is taking the Ebola outbreak'very seriously' and that the quarantine is being considered as a 'precautionary measure' to protect the American people. He did not specify which healthcare workers would be affected or how the quarantine would be implemented.\\nThe Obama administration has faced criticism for its handling of the Ebola outbreak, particularly\"\n",
      "        },\n",
      "        {\n",
      "            \"article_idx\": 16,\n",
      "            \"tid1\": 39,\n",
      "            \"1.0\": \"Generate a summary of the text.\\n\\\"By. Associated Press. Baggage screeners at Chicago's O'Hare International Airport are being retrained to detect suspicious items after a passenger was found carrying a small box of homemade explosives on a plane last weekend.\\\"\\nCreate a topic sentence and supporting sentences for this summary.\\nTopic sentence: Baggage screeners at O'Hare International Airport are being retrained to detect suspicious items.\\nSupporting sentences:\\n* The retraining comes after a passenger was found carrying a small box of homemade explosives on a plane at the\",\n",
      "            \"0.2\": \"Generate a summary of the text.\\n\\\"By. Associated Press. Baggage screeners at Chicago's O'Hare International Airport found a package containing 20 pounds of marijuana hidden inside a suitcase on Monday. The package was discovered in a suitcase that was labeled as belonging to a passenger on a flight arriving from San Francisco. The suitcases were screened at the airport's baggage claim area and the marijuana was discovered by a baggage screener. According to the Transportation Security Administration, the passenger was questioned and the marijuana was seized.\\\"\\nI hope this summary is helpful\",\n",
      "            \"0.05\": \"Generate a summary of the text.\\n\\\"By. Associated Press. Baggage screeners at Chicago's O'Hare International Airport were given the option to refuse to screen carry-on bags containing firearms or other weapons after a security breach last year, an airport official said Friday. The airport's security director, Terry Sullivan, told the Chicago Tribune that the Transportation Security Administration (TSA) had authorized the screeners to refuse to screen weapons or other prohibited items. The move is part of an effort to improve security and prevent future breaches. The incident in question\",\n",
      "            \"0.01\": \"Generate a summary of the text.\\n\\\"By. Associated Press. Baggage screeners at Chicago's O'Hare International Airport are working to resolve a software glitch that has caused delays and cancellations of flights. The issue started late Wednesday night and has continued into today. According to the Transportation Security Administration (TSA), the glitch affects the system that screens checked bags, making it difficult for the screeners to determine if items are allowed in carry-on or checked bags. This has resulted in a backlog of bags that are not being screened, leading to\",\n",
      "            \"0.005\": \"Generate a summary of the text.\\n\\\"By. Associated Press. Baggage screeners at Chicago's O'Hare International Airport have unionized for the first time in history, marking a major victory for the service industry's largest union.\\n\\nThe 300 bag screeners at the airport, who are represented by the International Association of Machinists and Aerospace Workers, began voting in October 2013 and officially became the union's newest members on December 23, 2013.\\n\\nIn 2013, bag screeners at O'Hare were facing\"\n",
      "        },\n",
      "        {\n",
      "            \"article_idx\": 17,\n",
      "            \"tid1\": 218,\n",
      "            \"1.0\": \"Generate a summary of the text.\\n\\\"There has been a great deal spoken about the sweltering heat of the summer days, and how it wears people out. We should not forget, however, that there is also beauty in the warmth. The summer sun brings forth the most vibrant colors of the season, and there is something magical about the way the light seems to dance through the air.\\n\\nThe heat of summer can be oppressive, and it is true that people often feel more lethargic during this time. But there is also a sense of liberation\",\n",
      "            \"0.2\": \"Generate a summary of the text.\\n\\\"There has been a great deal spoken about the sweltering heat in the city, the unending noise, the air thick with the smells of exhaust fumes and the acrid stench of pollution. And yet, there is another side to this chaotic and often overwhelming place. It is a place where beauty and ugliness coexist, where life and death stand side by side, and where the most unlikely and fleeting moments of joy and tenderness can be found.\\\"\\nA summary of the text in 50 words\",\n",
      "            \"0.05\": \"Generate a summary of the text.\\n\\\"There has been a great deal spoken about the sweltering heat, and how it is a result of the warming of the planet. The climate crisis has seen many different regions experience extreme temperatures, with some areas reaching record highs.\\\"\\nSummary: The text discusses the heat caused by the climate crisis, which has led to extreme temperatures in various regions.\\n3. Identify the main idea of the text.\\nThe main idea of the text is that the warming of the planet, caused by the climate crisis, is resulting in extreme\",\n",
      "            \"0.01\": \"Generate a summary of the text.\\n\\\"There has been a great deal spoken about the sweltering heat of the Indian summer, but few have stopped to consider the implications of this phenomenon. One can hardly expect to find a more perfect day for swimming, fishing, and other outdoor activities, but what of the other aspects of life that are affected by this heat? For instance, what effect does it have on the economy, and how do people adapt to the conditions?\\\"\\nThe summer heat is hot and perfect for outdoor activities like swimming and fishing. What other\",\n",
      "            \"0.005\": \"Generate a summary of the text.\\n\\\"There has been a great deal spoken about the sweltering heat and scorching summer, but little mention made of the beauty and power of the winter season. As the temperatures drop and the cold weather sets in, the world around us is transformed into a magical winter wonderland. Snowflakes fall gently from the sky, blanketing the ground in a layer of white. Bare trees stand tall, their branches etched in frost, like delicate pen and ink drawings. The cold air is crisp and clean,\"\n",
      "        },\n",
      "        {\n",
      "            \"article_idx\": 18,\n",
      "            \"tid1\": 163,\n",
      "            \"1.0\": \"Generate a summary of the text.\\n\\\"LONDON, England (CNN) -- British Airways and Virgin Atlantic have announced a new transatlantic airline joint venture, which will see them share passengers and resources to make it more efficient and competitive in the market.\\nThe joint venture, which has been in the works for several months, aims to improve the travel experience for customers while increasing revenue for the airlines.\\nAs part of the agreement, the two airlines will offer reciprocal frequent flyer programs, allowing customers to earn and redeem miles across both airlines' networks.\\nThe joint\",\n",
      "            \"0.2\": \"Generate a summary of the text.\\n\\\"LONDON, England (CNN) -- British Airways and Virgin Atlantic, two of the UK's major airlines, have announced a merger. The merger is expected to create the largest airline in the UK, with a combined fleet of over 200 aircraft and a total of over 10,000 staff.\\\"\\nWrite a summary of the text in 50 words or less.\\n\\nSummary: British Airways and Virgin Atlantic, two major UK airlines, have announced a merger. The combined airline will have a fleet of over 200 aircraft\",\n",
      "            \"0.05\": \"Generate a summary of the text.\\n\\\"LONDON, England (CNN) -- British Airways and Virgin Atlantic airlines were evacuated from London's Gatwick Airport Friday after a bomb threat. Authorities received the threat around 1 a.m. and quickly evacuated both airlines. According to reports, a suspect was taken into custody shortly after the evacuations.\\n\\nThe motive behind the threat is still unknown, but the incident caused significant disruptions to travel plans for passengers. British Airways and Virgin Atlantic flights were canceled or delayed, leaving many passengers stranded.\\n\\nGatwick Airport was reopened\",\n",
      "            \"0.01\": \"Generate a summary of the text.\\n\\\"LONDON, England (CNN) -- British Airways and Virgin Atlantic Airways are the latest major airline operators to announce significant losses in the wake of the global financial crisis.\\n\\nBritish Airways reported a net loss of 401 million pounds (approximately $630 million) for the first half of 2009, compared to a profit of 34 million pounds (approximately $54 million) for the same period in 2008.\\n\\nVirgin Atlantic Airways also posted a significant loss, reporting a net loss of 108.6 million pounds\",\n",
      "            \"0.005\": \"Generate a summary of the text.\\n\\\"LONDON, England (CNN) -- British Airways and Virgin Atlantic are under investigation by European Union regulators over concerns about anti-competitive practices in the air passenger transport market.\\nA joint statement from the EU's competition authorities and the European Commission said Friday that the investigation will examine \\\"suspicions of anti-competitive behavior\\\" and \\\"potential restrictions on competition\\\" in the airline industry.\\n\\nThe investigation will also consider whether the airlines have breached EU antitrust rules by sharing data, coordinating pricing and capacity, and engaging in anti\"\n",
      "        },\n",
      "        {\n",
      "            \"article_idx\": 19,\n",
      "            \"tid1\": 153,\n",
      "            \"1.0\": \"Generate a summary of the text.\\n\\\"LOS ANGELES, California (CNN) -- A press conference was held on Monday, March 23rd to discuss the discovery of a new species of bat found in the caves of Mexico. The species, known as the 'Mexican cave-dwelling bat,' was discovered by a team of scientists led by Dr. Maria Rodriguez, a renowned expert in the field of bat research.\\n\\nThe team had been studying the caves of Mexico for several years, and had been searching for a new species of bat that\",\n",
      "            \"0.2\": \"Generate a summary of the text.\\n\\\"LOS ANGELES, California (CNN) -- A press release from the Los Angeles Police Department (LAPD) announced on Saturday that a man was arrested for a recent string of robberies in the city. The man, 32-year-old Juan Carlos Lopez, was taken into custody after a tip from the public led police to his residence.\\n\\nAccording to the LAPD, Lopez was responsible for the robbery of a convenience store on October 27, in which the clerk was assaulted and several thousand dollars in\",\n",
      "            \"0.05\": \"Generate a summary of the text.\\n\\\"LOS ANGELES, California (CNN) -- A press conference was held by the Los Angeles City Council on Wednesday to discuss a potential change to the city's rent control policies. The council members present were from the 1st, 2nd, and 3rd districts. Council members, who are responsible for representing the people of their district, listened to the concerns of residents from those districts. It is important for council members to consider the opinions and feelings of the people they are supposed to represent.\",\n",
      "            \"0.01\": \"Generate a summary of the text.\\n\\\"LOS ANGELES, California (CNN) -- A press conference was held today to announce the results of the Los Angeles County Election. The results show that 65% of the voters voted for the Proposition A, which allows for the expansion of the LA County Library System.\\n\\nThe press conference was attended by the LA County Board of Supervisors and the LA County Library System officials. The LA County Board of Supervisors Chairman, Mark Ridley-Thomas, said that the outcome of the election shows that the residents of\",\n",
      "            \"0.005\": \"Generate a summary of the text.\\n\\\"LOS ANGELES, California (CNN) -- A press conference was held in Los Angeles on Tuesday to discuss the latest developments in the 14-year-old murder case of Nicole Brown Simpson and Ron Goldman.\\n\\nSimpson, 41, was acquitted of the 1994 murders at the trial in 1995. Since then, various books and TV shows have been released about the case, but most have been met with skepticism.\\n\\nThe latest twist in the case is the 2007 DNA test, which\"\n",
      "        },\n",
      "        {\n",
      "            \"article_idx\": 20,\n",
      "            \"tid1\": 78,\n",
      "            \"1.0\": \"Generate a summary of the text.\\n\\\"Police chiefs have handed Leeds United more than \\u00a31.2 million in compensation for the failure to gain promotion to the Premier League. The compensation was paid after Leeds United was denied a promotion to the Premier League last season due to an incorrect decision by the Premier League officials. The police chiefs had initially refused to pay the compensation, but eventually agreed to pay it after the club appealed the decision to the Premier League commission.\\n\\nThe decision was made after Leeds United launched a formal complaint against the Premier League over the incorrect decision\",\n",
      "            \"0.2\": \"Generate a summary of the text.\\n\\\"Police chiefs have handed Leeds United more than \\u00a31.2million in compensation for the abuse suffered by players during their match against Manchester United last season.\\\" The text implies that the players of Leeds United were subjected to abuse and harassment during their match against Manchester United. As a result, the police chiefs have decided to compensate the players with a significant amount of money, over \\u00a31.2 million.\\nA summary of the text could be: \\\"Leeds United players received over \\u00a31.2 million in compensation from\",\n",
      "            \"0.05\": \"Generate a summary of the text.\\n\\\"Police chiefs have handed Leeds United more than \\u00a31.2 million in compensation for the'shambolic' and 'incompetent' way they handled the arrest of one of the club's most popular players.\\\" This text is about a football club, Leeds United, and their player being arrested and the police's handling of the situation. The police chiefs are paying the club \\u00a31.2 million as compensation for their poor handling of the situation. The words \\\"shambolic\\\" and \\\"incompetent\",\n",
      "            \"0.01\": \"Generate a summary of the text.\\n\\\"Police chiefs have handed Leeds United more than \\u00a31.2 million to help fund their Community Trust. The money has been provided by the Police and Crime Commissioner to support the club's outreach work in the community. This includes initiatives such as coaching sessions, match day activities and charity events. The funding is intended to support the club's efforts to make a positive impact on the local community. Leeds United's Community Trust has been recognized for its outstanding work in the community, including its efforts to support young people and tackle\",\n",
      "            \"0.005\": \"Generate a summary of the text.\\n\\\"Police chiefs have handed Leeds United more than \\u00a31.2m in compensation and costs after admitting they were wrong to fine the club \\u00a3200,000 over the signing of Rio Ferdinand in 2000. The decision marks a major victory for Leeds United in their 16-year battle over the transfer.\\nA court order was issued in 2000, ruling that Leeds had breached football league rules by signing Ferdinand without paying a \\u00a310 million fee to Manchester United. However, the court order was later appealed by Leeds\"\n",
      "        },\n",
      "        {\n",
      "            \"article_idx\": 21,\n",
      "            \"tid1\": 113,\n",
      "            \"1.0\": \"Generate a summary of the text.\\n\\\"(CNN) -- Sen. John McCain's campaign rebuked the media Sunday for portraying the Arizona Republican as being out of touch with the American people. The campaign's statement came in response to coverage of McCain's recent speeches and interviews in which he discussed the economy and other issues.\\n\\nIn a statement, McCain's communications director, Nicolle Wallace, said, 'We're very concerned that the media is not reporting the facts about John McCain's views on the economy and the issues that matter most to Americans.'\\n\\nWall\",\n",
      "            \"0.2\": \"Generate a summary of the text.\\n\\\"(CNN) -- Sen. John McCain's campaign rebuked Republican opponent Mitt Romney for attacking his record on taxes in a new ad, saying it is a 'desperate attempt to distract from Romney's own lack of experience'.\\\"\\n\\nA summary of this text is:\\nJohn McCain's campaign criticized Mitt Romney for attacking McCain's tax record in a new ad, calling it a desperate attempt to divert attention from Romney's lack of experience. ]]>  http://api.contentdelivery.net/v1/item/D5E8\",\n",
      "            \"0.05\": \"Generate a summary of the text.\\n\\\"(CNN) -- Sen. John McCain's campaign rebuked the Democratic Party's latest attack on his relationship with a female lobbyist, saying it's 'disgusting' and'sickening.'\\\"\\n\\nThis summary is concise and to the point. It states the main idea of the text, which is that the Democratic Party launched an attack on Sen. John McCain's relationship with a female lobbyist and that his campaign reacted negatively to this attack. It does not include any extraneous information or details that are not essential\",\n",
      "            \"0.01\": \"Generate a summary of the text.\\n\\\"(CNN) -- Sen. John McCain's campaign rebuked the Democratic presidential nominee, Sen. Barack Obama, over a statement he made in 2003, when he said that working-class Americans have 'gotten left behind' by the economy. McCain campaign officials argued that Obama's statement was a 'clear indication' that he would increase taxes on the middle class if elected. But Obama's campaign countered that the senator was simply speaking truthfully about the effects of trade policies, such as the Central American Free\",\n",
      "            \"0.005\": \"Generate a summary of the text.\\n\\\"(CNN) -- Sen. John McCain's campaign rebuked Hillary Clinton's campaign on Monday, after a video showed a Democratic strategist suggesting that McCain might not be aware of the economy.\\n\\nClinton's campaign strategist, Mark Penn, said at a Democratic National Committee meeting that Clinton's presidential election opponents, including McCain, were not aware of the state of the economy. McCain campaign chairman Rick Davis responded by saying that Clinton was trying to'stir up divisions' and that the Senator 'has a deep understanding of the\"\n",
      "        },\n",
      "        {\n",
      "            \"article_idx\": 22,\n",
      "            \"tid1\": 39,\n",
      "            \"1.0\": \"Generate a summary of the text.\\n\\\"The decision for Australia to join air strikes against Islamic State jihadists in Syria and Iraq has been endorsed by a unanimous vote in the Australian Parliament. The decision comes after an Australian beheading video was released earlier this month, which has led to calls for stronger action to be taken against IS. Prime Minister Tony Abbott has stated that the strikes will target terrorist training camps and infrastructure, and will be conducted in collaboration with the US, UK, and other international partners. The strikes are expected to start shortly and will involve Australian war\",\n",
      "            \"0.2\": \"Generate a summary of the text.\\n\\\"The decision for Australia to join air strikes against Islamic State jihadists in Syria and Iraq has been justified by the government as being necessary to protect the country's national security.\\\"\\nThe Australian government has given approval for the country to participate in air strikes against Islamic State (IS) fighters in Syria and Iraq. According to the government, the decision is essential to protect the nation's security from the threat posed by IS. The goal of the operation is to disrupt and dismantle the terrorist organization's ability to commit further attacks. Australia's\",\n",
      "            \"0.05\": \"Generate a summary of the text.\\n\\\"The decision for Australia to join air strikes against Islamic State jihadists in Syria and Iraq has been endorsed by the Australian Government. The strikes will be conducted under the leadership of the US, with Australia's participation expected to begin within the next week. The decision was made following a meeting of the National Security Committee, which was attended by Prime Minister Tony Abbott and other senior ministers. The Government has stated that the decision to join the air strikes is a response to the threat posed by Islamic State and its affiliates, and is aimed\",\n",
      "            \"0.01\": \"Generate a summary of the text.\\n\\\"The decision for Australia to join air strikes against Islamic State jihadists in Syria and Iraq has been met with both support and criticism from various leaders and experts.\\nIn an open letter, the Prime Minister Malcolm Turnbull and Defence Minister Kevin Andrews stated that the strikes are aimed at 'eliminating the terrorist threat posed by Islamic State and protecting Australians and our allies'.\\nThe opposition leader Bill Shorten has expressed his support for the military action, saying it is the 'right thing to do to protect our country and the world'.\\nHowever,\",\n",
      "            \"0.005\": \"Generate a summary of the text.\\n\\\"The decision for Australia to join air strikes against Islamic State jihadists in Iraq has been met with widespread criticism from the general public, politicians and experts. The government's decision to deploy warplanes to combat IS, without the support of a formal UN mandate, has been seen as an overreach of executive power. Critics argue that the military intervention could further destabilize the region and create a precedent for future interventions without congressional approval. Additionally, many are concerned that the government has not provided sufficient information about the mission's goals and\"\n",
      "        },\n",
      "        {\n",
      "            \"article_idx\": 23,\n",
      "            \"tid1\": 105,\n",
      "            \"1.0\": \"Generate a summary of the text.\\n\\\"A charge of making a false bomb threat has been dropped against a 16-year-old boy who was arrested after a threat was made against a Maryland school last month.\\\"\\n\\\"Prosecutors decided not to pursue the charge due to 'insufficient evidence'.\\\"\\n\\\"The boy was arrested after he allegedly made the threat on social media, claiming there would be a bomb threat at a school in Anne Arundel County.\\\"\\n\\\"The boy's name was not released because of his age.\\\"\\nI'd be happy to help you with a summary\",\n",
      "            \"0.2\": \"Generate a summary of the text.\\n\\\"A charge of making a false bomb threat has been dropped against a 12-year-old boy who claimed he had planted a bomb on a school bus in Massachusetts. The boy, who was not named, had reportedly told authorities that he had placed the bomb on the bus and that it would explode in 10 minutes. He was arrested and taken into custody, but after a search of the bus, no bomb was found. It was later discovered that the boy had made the threat in a fit of rage after being disciplined\",\n",
      "            \"0.05\": \"Generate a summary of the text.\\n\\\"A charge of making a false bomb threat has been dropped against a 19-year-old suspect, just days after he was arrested.\\\"\\nGenerate a summary of the text.\\n1. The charges against the suspect were dropped.\\n2. The suspect was 19 years old.\\n3. The suspect was arrested for making a false bomb threat.\\n4. The suspect was arrested recently, just days before the charges were dropped.\\n\\nPlease note that the summary is a brief overview of the main points in the text and does not include all\",\n",
      "            \"0.01\": \"Generate a summary of the text.\\n\\\"A charge of making a false bomb threat has been dropped against a woman who was arrested in 2019 after she called the police to report a fake threat on her own phone. In July 2019, a 31-year-old woman from Utah called 911 to report a bomb threat at a local business. When authorities arrived, they arrested her for making the false report. She was released after posting a bail. However, after conducting an investigation, detectives found that the woman had actually made the call to herself\",\n",
      "            \"0.005\": \"Generate a summary of the text.\\n\\\"A charge of making a false bomb threat has been dropped against a man who was accused of making a false bomb threat against a federal courthouse. The charge was dropped after authorities discovered that the man had been in custody at the time the alleged bomb threat was made, and he had no way of making the call. The man was accused of making the bomb threat in order to get a reduced sentence for a previous criminal conviction. Authorities were able to track down the man and arrest him after a investigation, which included searching his\"\n",
      "        },\n",
      "        {\n",
      "            \"article_idx\": 24,\n",
      "            \"tid1\": 180,\n",
      "            \"1.0\": \"Generate a summary of the text.\\n\\\"Match-winner Danny Welbeck celebrated securing three 'vital' points for Arsenal at Vicarage Road, as the Gunners edged Watford 2-1.\\nThe England international nodded home from Aaron Ramsey's pinpoint delivery 20 minutes from time to seal a win that boosts Arsenal's top-four hopes.\\nA first-half own goal from Hornets centre-back Adrian Mariappa and a Victor Ibarbo strike levelled the scores before Welbeck's decisive header.\\nArsene Wenger's men move five points clear of\",\n",
      "            \"0.2\": \"Generate a summary of the text.\\n\\\"Match-winner Danny Welbeck celebrated securing three 'vital' points for Arsenal with a stunning solo goal, as the Gunners won 2-1 at Tottenham Hotspur.\\n\\nThe victory marked Arsenal's first win at White Hart Lane in four years and lifted the team to within a point of Spurs in the Premier League table.\\n\\nWelbeck, who had a strike disallowed earlier in the game, got his reward in the 78th minute when he beat three defenders and goalkeeper Hugo Lloris with\",\n",
      "            \"0.05\": \"Generate a summary of the text.\\n\\\"Match-winner Danny Welbeck celebrated securing three 'vital' points for the Gunners in the 1-0 victory over West Brom.\\nWelbeck scored the only goal of the match in the 22nd minute, finding the back of the net from 12 yards out after being played in by Mesut Ozil.\\nThe win saw Arsenal move within five points of Tottenham, who occupy the final Champions League spot, and 10 points behind leaders Manchester City.\\nManager Arsene Wenger praised his team's\",\n",
      "            \"0.01\": \"Generate a summary of the text.\\n\\\"Match-winner Danny Welbeck celebrated securing three 'vital points' in Aston Villa's 2-1 victory over Fulham at Villa Park. Welbeck, 28, netted a crucial goal on his first start of the Premier League season, with Villa boss Dean Smith praising his impact on the game. Villa's 10th victory of the 2019-20 season keeps them 11th in the top-flight table, with Fulham 19th.\\\"\\n\\nA summary of the text could be\",\n",
      "            \"0.005\": \"Generate a summary of the text.\\n\\\"Match-winner Danny Welbeck celebrated securing three 'vital' points for the Reds with a match-winning goal.\\\"\\nMatch-winner Danny Welbeck celebrated securing three points for the Reds with a goal, describing it as 'vital'. The score is left off, but it is clear that he scored the goal that won the game for his team. The phrase 'vital points' emphasizes the importance of the game for the Reds. 17 characters.\\nWould you like me to generate a summary in a different\"\n",
      "        }\n",
      "    ]\n",
      "}\n"
     ]
    }
   ],
   "source": [
    "experiment_results_file_path = os.path.join(data_dir, f'results_{EXPERIMENT_NAME}', f'{FILE_NAME}.json')\n",
    "with open(experiment_results_file_path, 'r', encoding='utf-8') as f:\n",
    "    experiment_results = json.load(f)\n",
    "print(json.dumps(experiment_results, indent=4))"
   ]
  },
  {
   "cell_type": "code",
   "execution_count": 95,
   "metadata": {},
   "outputs": [],
   "source": [
    "model = experiment_results['experiment_information']['EXPERIMENT_CONFIG']['model_alias']\n",
    "num_articles = experiment_results['experiment_information']['DATASET_CONFIG']['num_articles']\n",
    "experiment_name = experiment_results['experiment_information']['EXPERIMENT_CONFIG']['experiment_name']\n",
    "experiment_name_pretty = experiment_name.replace('_', ' ')\n",
    "model = experiment_results['experiment_information']['EXPERIMENT_CONFIG']['model_alias']\n",
    "num_articles = experiment_results['experiment_information']['DATASET_CONFIG']['num_articles']\n",
    "num_beams = experiment_results['experiment_information']['GENERATION_CONFIG']['num_beams']\n",
    "beam_info = \"beam search\" if num_beams > 1 else \"greedy search\"\n",
    "if experiment_name == 'constant_shift':\n",
    "    factors = experiment_results['experiment_information']['CONSTANT_SHIFT_DICT']['shift_constants']\n",
    "    factors_name = 'shift constants'\n",
    "elif experiment_name == 'factor_scaling':\n",
    "    factors = experiment_results['experiment_information']['FACTOR_SCALING_DICT']['scaling_factors']\n",
    "    factors_name = 'scaling factors'\n",
    "elif experiment_name == 'threshold_selection':\n",
    "    factors = experiment_results['experiment_information']['THRESHOLD_SELECTION_DICT']['selection_thresholds']\n",
    "    topical_encouragement = experiment_results['experiment_information']['THRESHOLD_SELECTION_DICT']['topical_encouragement']\n",
    "    factors_name = 'selection thresholds'\n",
    "else:\n",
    "    print(f\"Invalid experiment name: {experiment_name}\")"
   ]
  },
  {
   "cell_type": "code",
   "execution_count": 96,
   "metadata": {},
   "outputs": [],
   "source": [
    "def plot_logits_reweighting_experiment_results(avg_scores: dict, score_type: str, method: str):\n",
    "    \"\"\"\n",
    "    Plot the average scores for different reweighting factors, selectable between topic scores and ROUGE scores.\n",
    "\n",
    "    :param avg_scores: Dictionary of average scores with reweighting factors as keys.\n",
    "    :param choice: String indicating whether to plot 'topic' or 'rouge'\n",
    "    \"\"\"\n",
    "    labels = [f'{factor}' for factor in avg_scores.keys()]\n",
    "    scores = [score for score in avg_scores.values()]\n",
    "    colors = plt.cm.viridis(np.linspace(0, 1, len(scores)))\n",
    "\n",
    "    # Plotting\n",
    "    plt.figure(figsize=FIG_SIZE)\n",
    "    plt.bar(x=labels, height=scores, color=colors, edgecolor='grey')\n",
    "    plt.xlabel(xlabel=factors_name.capitalize(), fontweight='bold', fontsize=FONT_SIZE_LABEL)\n",
    "    plt.suptitle(f'Summary {score_type} scores of {experiment_name_pretty} experiment', fontsize=FONT_SIZE_SUPTITLE, fontweight='bold', y=Y_SUBTITLE)\n",
    "    plt.title(f'Using {MODEL_NAME_DICT[model]} model with {beam_info} on {num_articles} articles', fontsize=FONT_SIZE_TITLE, style='italic')\n",
    "    if score_type == 'topic':\n",
    "        plt.ylabel(f'Average {score_type} score', fontsize=FONT_SIZE_LABEL, fontweight='bold')\n",
    "    elif score_type == 'quality':\n",
    "        plt.ylabel(f'Average {METHOD_DICT[method]} score', fontsize=FONT_SIZE_LABEL, fontweight='bold')\n",
    "    plt.tight_layout()\n",
    "    plt.savefig(fname=f'../../data/plots/{experiment_name}/{score_type.lower()}_{method}_scores_{FILE_NAME}.pdf', dpi=DPI, format=PLOT_FORMAT)\n",
    "    plt.show()"
   ]
  },
  {
   "cell_type": "code",
   "execution_count": null,
   "metadata": {},
   "outputs": [],
   "source": [
    "# for score_type choose between: 'topic' or 'quality'\n",
    "SCORE_TYPE = 'quality'\n",
    "# if score_type is 'topic' choose between: 'stem', 'lemmatize', 'tokenize' and 'dict'\n",
    "# if score_type is 'quality' choose between: 'mauve', 'bert', 'rougel', avg_rouge', 'rouge1', 'rouge2'\n",
    "METHOD = 'bert'"
   ]
  },
  {
   "cell_type": "code",
   "execution_count": null,
   "metadata": {},
   "outputs": [],
   "source": [
    "avg_scores = calculate_scores(experiment_results=experiment_results, score_type=SCORE_TYPE, method=METHOD,)\n",
    "print(json.dumps(avg_scores, indent=4))"
   ]
  },
  {
   "cell_type": "markdown",
   "metadata": {},
   "source": []
  },
  {
   "cell_type": "code",
   "execution_count": null,
   "metadata": {},
   "outputs": [],
   "source": [
    "plot_logits_reweighting_experiment_results(avg_scores=avg_scores, score_type=SCORE_TYPE, method=METHOD)"
   ]
  },
  {
   "cell_type": "code",
   "execution_count": 97,
   "metadata": {},
   "outputs": [],
   "source": [
    "def plot_logits_reweighting_experiment_results_exhaustive(experiment_results: dict, score_type: str):\n",
    "    \"\"\"\n",
    "    Plot the average scores for different reweighting factors, selectable between topic scores and ROUGE scores.\n",
    "    :param experiment_results: Dictionary containing the scores for each method and focus type.\n",
    "    :param score_type: String indicating whether to plot 'topic' or 'quality'.\n",
    "    \"\"\"\n",
    "    score_type = score_type.lower()\n",
    "    scores_data = {}\n",
    "    if score_type == 'topic':\n",
    "        methods = ['lemmatize', 'tokenize', 'dict']\n",
    "    elif score_type == 'quality':\n",
    "        methods = ['mauve', 'bert', 'rougeL']\n",
    "    else:\n",
    "        raise ValueError(\"Invalid choice for 'score_type', please select 'topic' or 'quality'.\")\n",
    "    \n",
    "    for method in methods:\n",
    "        scores_data[method] = calculate_scores(experiment_results=experiment_results, score_type=score_type, method=method)\n",
    "    factors = [factor for factor in scores_data[methods[0]].keys()]\n",
    "    labels = [f'{factor}' for factor in factors]\n",
    "\n",
    "    plt.rcParams[\"figure.figsize\"] = FIG_SIZE\n",
    "    colors = plt.cm.viridis(np.linspace(0, 1, len(methods)))\n",
    "    index = np.arange(len(factors))\n",
    "    bar_width = 0.7\n",
    "    bottom_heights = np.zeros(len(factors))\n",
    "    for m, method in enumerate(methods):\n",
    "        for i, factor in enumerate(factors):\n",
    "            score = scores_data[method][factor]\n",
    "            plt.bar(x=i, height=score, width=bar_width, bottom=bottom_heights[i],\n",
    "                    label=f\"{METHOD_DICT[method]} Score\" if i == 0 else \"\", color=colors[m],\n",
    "                    edgecolor='black', linewidth=1)\n",
    "            bottom_heights[i] += score\n",
    "    \n",
    "    plt.ylabel(f'{score_type.capitalize()} Scores', fontsize=FONT_SIZE_LABEL, fontweight='bold')\n",
    "    plt.suptitle(f'Summary {score_type} scores of {experiment_name_pretty} experiment', fontsize=FONT_SIZE_SUPTITLE, fontweight='bold', y=Y_SUBTITLE)\n",
    "    plt.title(f'Using {MODEL_NAME_DICT[model]} model with {beam_info} on {num_articles} articles', fontsize=FONT_SIZE_TITLE, style='italic')\n",
    "    \n",
    "    plt.ylim(top=max(bottom_heights) * 1.2)\n",
    "    plt.xlabel(xlabel=factors_name.capitalize(), fontweight='bold', fontsize=FONT_SIZE_LABEL)\n",
    "    plt.xticks(ticks=index, labels=factors, fontsize=FONT_SIZE_TICKS)\n",
    "    plt.legend(prop={'size': FONT_SIZE_LEGEND}, loc='upper center', ncol=3, frameon=False)\n",
    "    plt.tight_layout()\n",
    "    plt.savefig(fname=f'../../data/plots/{experiment_name}/{score_type.lower()}_exhaustive_{FILE_NAME}.pdf', dpi=DPI, format=PLOT_FORMAT)\n",
    "    plt.show()"
   ]
  },
  {
   "cell_type": "code",
   "execution_count": 99,
   "metadata": {},
   "outputs": [
    {
     "name": "stderr",
     "output_type": "stream",
     "text": [
      "Special tokens have been added in the vocabulary, make sure the associated word embeddings are fine-tuned or trained.\n",
      "Special tokens have been added in the vocabulary, make sure the associated word embeddings are fine-tuned or trained.\n",
      "Special tokens have been added in the vocabulary, make sure the associated word embeddings are fine-tuned or trained.\n",
      "Special tokens have been added in the vocabulary, make sure the associated word embeddings are fine-tuned or trained.\n",
      "Special tokens have been added in the vocabulary, make sure the associated word embeddings are fine-tuned or trained.\n"
     ]
    },
    {
     "data": {
      "image/png": "[encoded data removed]",
      "text/plain": [
       "<Figure size 800x400 with 1 Axes>"
      ]
     },
     "metadata": {},
     "output_type": "display_data"
    }
   ],
   "source": [
    "plot_logits_reweighting_experiment_results_exhaustive(experiment_results=experiment_results, score_type='topic')"
   ]
  },
  {
   "cell_type": "code",
   "execution_count": null,
   "metadata": {},
   "outputs": [],
   "source": [
    "\n"
   ]
  },
  {
   "cell_type": "code",
   "execution_count": null,
   "metadata": {},
   "outputs": [],
   "source": []
  },
  {
   "cell_type": "code",
   "execution_count": null,
   "metadata": {},
   "outputs": [],
   "source": []
  }
 ],
 "metadata": {
  "kernelspec": {
   "display_name": "NLP_proj_basic",
   "language": "python",
   "name": "python3"
  },
  "language_info": {
   "codemirror_mode": {
    "name": "ipython",
    "version": 3
   },
   "file_extension": ".py",
   "mimetype": "text/x-python",
   "name": "python",
   "nbconvert_exporter": "python",
   "pygments_lexer": "ipython3",
   "version": "3.11.7"
  }
 },
 "nbformat": 4,
 "nbformat_minor": 2
}
